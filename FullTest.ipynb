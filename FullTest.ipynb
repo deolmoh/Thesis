{
  "cells": [
    {
      "cell_type": "markdown",
      "metadata": {
        "id": "90e2TV8vV5H7"
      },
      "source": [
        "# Installation"
      ]
    },
    {
      "cell_type": "code",
      "execution_count": null,
      "metadata": {
        "colab": {
          "base_uri": "https://localhost:8080/"
        },
        "id": "3_rICbqdV36c",
        "outputId": "523540d7-0477-43b7-a1c7-91e2d8a5a22b"
      },
      "outputs": [
        {
          "output_type": "stream",
          "name": "stdout",
          "text": [
            "Looking in indexes: https://pypi.org/simple, https://us-python.pkg.dev/colab-wheels/public/simple/\n",
            "Requirement already satisfied: mediapipe in /usr/local/lib/python3.7/dist-packages (0.9.0)\n",
            "Requirement already satisfied: absl-py in /usr/local/lib/python3.7/dist-packages (from mediapipe) (1.3.0)\n",
            "Requirement already satisfied: attrs>=19.1.0 in /usr/local/lib/python3.7/dist-packages (from mediapipe) (22.1.0)\n",
            "Requirement already satisfied: opencv-contrib-python in /usr/local/lib/python3.7/dist-packages (from mediapipe) (4.6.0.66)\n",
            "Requirement already satisfied: flatbuffers>=2.0 in /usr/local/lib/python3.7/dist-packages (from mediapipe) (22.10.26)\n",
            "Requirement already satisfied: protobuf<4,>=3.11 in /usr/local/lib/python3.7/dist-packages (from mediapipe) (3.19.6)\n",
            "Requirement already satisfied: matplotlib in /usr/local/lib/python3.7/dist-packages (from mediapipe) (3.2.2)\n",
            "Requirement already satisfied: numpy in /usr/local/lib/python3.7/dist-packages (from mediapipe) (1.21.6)\n",
            "Requirement already satisfied: python-dateutil>=2.1 in /usr/local/lib/python3.7/dist-packages (from matplotlib->mediapipe) (2.8.2)\n",
            "Requirement already satisfied: pyparsing!=2.0.4,!=2.1.2,!=2.1.6,>=2.0.1 in /usr/local/lib/python3.7/dist-packages (from matplotlib->mediapipe) (3.0.9)\n",
            "Requirement already satisfied: cycler>=0.10 in /usr/local/lib/python3.7/dist-packages (from matplotlib->mediapipe) (0.11.0)\n",
            "Requirement already satisfied: kiwisolver>=1.0.1 in /usr/local/lib/python3.7/dist-packages (from matplotlib->mediapipe) (1.4.4)\n",
            "Requirement already satisfied: typing-extensions in /usr/local/lib/python3.7/dist-packages (from kiwisolver>=1.0.1->matplotlib->mediapipe) (4.1.1)\n",
            "Requirement already satisfied: six>=1.5 in /usr/local/lib/python3.7/dist-packages (from python-dateutil>=2.1->matplotlib->mediapipe) (1.15.0)\n",
            "Looking in indexes: https://pypi.org/simple, https://us-python.pkg.dev/colab-wheels/public/simple/\n",
            "Requirement already satisfied: sacrebleu in /usr/local/lib/python3.7/dist-packages (2.3.1)\n",
            "Requirement already satisfied: regex in /usr/local/lib/python3.7/dist-packages (from sacrebleu) (2022.6.2)\n",
            "Requirement already satisfied: lxml in /usr/local/lib/python3.7/dist-packages (from sacrebleu) (4.9.1)\n",
            "Requirement already satisfied: portalocker in /usr/local/lib/python3.7/dist-packages (from sacrebleu) (2.6.0)\n",
            "Requirement already satisfied: tabulate>=0.8.9 in /usr/local/lib/python3.7/dist-packages (from sacrebleu) (0.8.10)\n",
            "Requirement already satisfied: colorama in /usr/local/lib/python3.7/dist-packages (from sacrebleu) (0.4.6)\n",
            "Requirement already satisfied: numpy>=1.17 in /usr/local/lib/python3.7/dist-packages (from sacrebleu) (1.21.6)\n",
            "Looking in indexes: https://pypi.org/simple, https://us-python.pkg.dev/colab-wheels/public/simple/\n",
            "Requirement already satisfied: jiwer in /usr/local/lib/python3.7/dist-packages (2.5.1)\n",
            "Requirement already satisfied: levenshtein==0.20.2 in /usr/local/lib/python3.7/dist-packages (from jiwer) (0.20.2)\n",
            "Requirement already satisfied: rapidfuzz<3.0.0,>=2.3.0 in /usr/local/lib/python3.7/dist-packages (from levenshtein==0.20.2->jiwer) (2.13.2)\n"
          ]
        }
      ],
      "source": [
        "%matplotlib inline\n",
        "!pip install mediapipe\n",
        "!pip install sacrebleu\n",
        "!pip install jiwer"
      ]
    },
    {
      "cell_type": "markdown",
      "metadata": {
        "id": "0D13BFYpV4vb"
      },
      "source": [
        "# Importing Dependencies"
      ]
    },
    {
      "cell_type": "code",
      "execution_count": null,
      "metadata": {
        "colab": {
          "base_uri": "https://localhost:8080/"
        },
        "id": "lq7CFauH8bXv",
        "outputId": "7a210f80-5946-4f03-9959-467fbf6c2d56"
      },
      "outputs": [
        {
          "output_type": "stream",
          "name": "stderr",
          "text": [
            "[nltk_data] Downloading package punkt to /root/nltk_data...\n",
            "[nltk_data]   Package punkt is already up-to-date!\n"
          ]
        }
      ],
      "source": [
        "from __future__ import unicode_literals, print_function, division\n",
        "import string\n",
        "import gc\n",
        "import re\n",
        "import random\n",
        "import matplotlib.pyplot as plt\n",
        "import torch\n",
        "import torch.nn as nn\n",
        "from torch import optim\n",
        "import torch.nn.functional as F\n",
        "device = torch.device(\"cuda\" if torch.cuda.is_available() else \"cpu\")\n",
        "import sacrebleu\n",
        "import jiwer\n",
        "import nltk\n",
        "nltk.download('punkt')\n",
        "from nltk.lm.preprocessing import padded_everygram_pipeline\n",
        "from nltk.lm import MLE\n",
        "import pickle\n",
        "from scipy.stats import skew\n",
        "import cv2\n",
        "import math\n",
        "from google.colab import files\n",
        "from google.colab.patches import cv2_imshow\n",
        "import numpy as np\n",
        "from string import printable\n",
        "from re import X\n",
        "from IPython.core import formatters\n",
        "import mediapipe\n",
        "import tensorflow as tf\n",
        "from tensorflow.keras.datasets import imdb\n",
        "from tensorflow.keras.models import Sequential\n",
        "from tensorflow.keras.layers import Dense\n",
        "from tensorflow.keras.layers import LSTM\n",
        "from tensorflow.keras.layers import Embedding\n",
        "from tensorflow.keras.preprocessing import sequence\n",
        "import xml.etree.ElementTree as ET\n",
        "import time\n",
        "from sklearn.model_selection import train_test_split\n",
        "from tensorflow.keras.utils import to_categorical\n",
        "from io import open\n",
        "import unicodedata"
      ]
    },
    {
      "cell_type": "code",
      "source": [
        "tf.test.gpu_device_name()"
      ],
      "metadata": {
        "colab": {
          "base_uri": "https://localhost:8080/",
          "height": 36
        },
        "id": "_puYm0mOcjUM",
        "outputId": "1896c4bf-2f14-44a7-952f-cf9d05efb17d"
      },
      "execution_count": null,
      "outputs": [
        {
          "output_type": "execute_result",
          "data": {
            "text/plain": [
              "'/device:GPU:0'"
            ],
            "application/vnd.google.colaboratory.intrinsic+json": {
              "type": "string"
            }
          },
          "metadata": {},
          "execution_count": 65
        }
      ]
    },
    {
      "cell_type": "markdown",
      "metadata": {
        "id": "3j0WXothV3Dv"
      },
      "source": [
        "\n",
        "\n",
        "# Preparing Data\n",
        "\n"
      ]
    },
    {
      "cell_type": "code",
      "execution_count": null,
      "metadata": {
        "id": "_sw9shX_TJCr"
      },
      "outputs": [],
      "source": [
        "# Turn a Unicode string to plain ASCII, thanks to\n",
        "# http://stackoverflow.com/a/518232/2809427\n",
        "def unicodeToAscii(s):\n",
        "    return ''.join(\n",
        "        c for c in unicodedata.normalize('NFD', s)\n",
        "        if unicodedata.category(c) != 'Mn'\n",
        "    )\n",
        "\n",
        "# Lowercase, trim, and remove non-letter characters\n",
        "\n",
        "\n",
        "def normalizeString(s):\n",
        "    s = unicodeToAscii(s.lower().strip())\n",
        "    s = re.sub(r\"([.!?])\", r\" \\1\", s)\n",
        "    s = re.sub(r\"[^a-zA-Z.!?]+\", r\" \", s)\n",
        "    return s\n",
        "\n",
        "MAX_LENGTH =  300"
      ]
    },
    {
      "cell_type": "code",
      "execution_count": null,
      "metadata": {
        "colab": {
          "base_uri": "https://localhost:8080/"
        },
        "id": "H4TDaJTvjLtK",
        "outputId": "39b5a62b-8edd-4d37-87f1-97a0ee38d341"
      },
      "outputs": [
        {
          "output_type": "stream",
          "name": "stdout",
          "text": [
            "6996\n",
            "<Element 'SIGNSTREAM_DAI' at 0x7f6b1cb982f0>\n",
            "{}\n",
            "<Element 'UTTERANCES' at 0x7f6b1cb98bf0>\n",
            "4409\n",
            "<Element 'SIGNSTREAM_DAI' at 0x7f6b0c070770>\n",
            "{}\n",
            "<Element 'UTTERANCES' at 0x7f6b0c070f50>\n"
          ]
        }
      ],
      "source": [
        "videos = ['/content/rachel1.mp4', '/content/1-Ben-Introduction-SD.mov']\n",
        "xml = ['/content/xml_extract_Rachel_2012-01-27_sc51_9.xml', 'xml_extract_1-Ben-Introduction_17.xml']\n",
        "\n",
        "sequences =  []\n",
        "translatedSequences =  []\n",
        "AllSigns = []\n",
        "AllFrames = []\n",
        "AllFramesUncompressed = []\n",
        "Labels = []\n",
        "\n",
        "for video, xml in zip(videos, xml):\n",
        "\n",
        "  capture = cv2.VideoCapture(video)\n",
        "  count = 0\n",
        "  frames = []\n",
        "  frameNr = 0\n",
        "  \n",
        "  while (True):\n",
        "      success, frame = capture.read()\n",
        "      if success:\n",
        "          frame = cv2.resize(frame, (320,240), interpolation = cv2.INTER_AREA)\n",
        "          frame = cv2.cvtColor(frame, cv2.COLOR_BGR2GRAY)\n",
        "          frames.append(frame)\n",
        "      else:\n",
        "          break\n",
        "      count = count+1\n",
        "  capture.release()\n",
        "\n",
        "  print(len(frames))\n",
        "\n",
        "  tree = ET.parse(xml)\n",
        "  \n",
        "  # getting the parent tag of\n",
        "  # the xml document\n",
        "  root = tree.getroot()\n",
        "  \n",
        "  # printing the root (parent) tag\n",
        "  # of the xml document, along with\n",
        "  # its memory location\n",
        "  print(root)\n",
        "  \n",
        "  # printing the attributes of the\n",
        "  # first tag from the parent\n",
        "  print(root[0].attrib)\n",
        "  \n",
        "  # printing the text contained within\n",
        "  # first subtag of the 5th tag from\n",
        "  # the parent\n",
        "  print(root[0][0][3][0][0][0][2])\n",
        "\n",
        "  utterances= tree.findall('.//UTTERANCE')\n",
        "  signs = utterances[1][3].findall('.//SIGN')\n",
        "  UtteranceSigns = utterances[1][3].findall('.//SIGN')\n",
        "\n",
        "  for sign  in tree.findall('.//SIGN'):\n",
        "    # check if exists in unique_list or not\n",
        "    if sign[0].text not in AllSigns:\n",
        "      AllSigns.append(sign[0].text)\n",
        "\n",
        "  label_map1 = {num:label for num, label in enumerate(AllSigns)}\n",
        "  label_map2 = {label:num for num, label in enumerate(AllSigns)}\n",
        "\n",
        "  \n",
        "  for utterance in utterances:\n",
        "      UtteranceSigns = utterance[3].findall('.//SIGN')\n",
        "      UtteranceSignsSorted = sorted(UtteranceSigns, key=lambda x: x[13].get('START_FRAME'))\n",
        "      utteranceFrameSigns = []\n",
        "      signIDs = []\n",
        "      currentSignId = len(label_map2) + 2\n",
        "      FrameSequence = []\n",
        "      FrameSequenceUncompressed = []\n",
        "      SignSequence = \"\"\n",
        "      a=0\n",
        "      for sign in UtteranceSignsSorted:\n",
        "        if sign.get('ID') not in signIDs:\n",
        "          signIDs.append(sign.get('ID'))\n",
        "          for frame_num in range(int(int(sign[13].get('START_FRAME'))/1000),int(int(sign[13].get('END_FRAME'))/1000)):\n",
        "            if (frame_num - (int(int(sign[13].get('START_FRAME'))/1000)) ) % 3 == 0:\n",
        "              FrameSequence.append(frames[frame_num-1].flatten())\n",
        "              FrameSequenceUncompressed.append(frames[frame_num-1])\n",
        "              utteranceFrameSigns.append(label_map2[sign[0].text])\n",
        "          if(currentSignId != label_map2[sign[0].text]) :\n",
        "            #SignSequence = SignSequence + sign[0].text.replace('\\'', '').replace('\\\"', '').replace(' ', '') + \" \"\n",
        "            SignSequence = SignSequence + sign[0].text.replace('\\'', '').replace('\\\"', '').replace(' ', '') + \" \"\n",
        "            currentSignId = label_map2[sign[0].text]\n",
        "      Labels.append(utteranceFrameSigns)\n",
        "      translatedSequences.append(normalizeString(utterance[0].text))\n",
        "      sequences.append(normalizeString(SignSequence))\n",
        "      AllFrames.append(FrameSequence)\n",
        "      AllFramesUncompressed.append(FrameSequenceUncompressed)"
      ]
    },
    {
      "cell_type": "code",
      "source": [
        "label_map1"
      ],
      "metadata": {
        "colab": {
          "base_uri": "https://localhost:8080/"
        },
        "id": "mP-u-ywaFuFw",
        "outputId": "2740c44a-0a3f-4e18-9385-e1a8bc99371a"
      },
      "execution_count": null,
      "outputs": [
        {
          "output_type": "execute_result",
          "data": {
            "text/plain": [
              "{0: \"'CAR'\",\n",
              " 1: \"'BREAK-DOWN'\",\n",
              " 2: '\\'(1h)5\"wave no\"\\'',\n",
              " 3: \"'EVERYDAY+'\",\n",
              " 4: \"'IX-3p:i'\",\n",
              " 5: \"'ns-fs-JOHN'\",\n",
              " 6: \"'DRIVE'\",\n",
              " 7: \"'IX-3p:j'\",\n",
              " 8: \"'ns-fs-MARY'\",\n",
              " 9: \"'TO/UNTIL'\",\n",
              " 10: \"'WORK'\",\n",
              " 11: \"'(1h)part:indef'\",\n",
              " 12: \"'(1h)KEY'\",\n",
              " 13: \"'IX-loc:i'\",\n",
              " 14: \"'IX-1p'\",\n",
              " 15: \"'HAVE'\",\n",
              " 16: \"'CORRECT'\",\n",
              " 17: \"'FOR'\",\n",
              " 18: \"'A-OK'\",\n",
              " 19: \"'SURPRISE'\",\n",
              " 20: \"'CANNOT'\",\n",
              " 21: \"'THINK+MARRY'\",\n",
              " 22: \"'NOT'\",\n",
              " 23: \"'RAIN'\",\n",
              " 24: \"'WONDER'\",\n",
              " 25: \"'THINK'\",\n",
              " 26: \"'MARRY'\",\n",
              " 27: \"'#NO'\",\n",
              " 28: \"'HAPPEN'\",\n",
              " 29: \"'TEND'\",\n",
              " 30: \"'MAYBE'\",\n",
              " 31: \"'RUN-OUT'\",\n",
              " 32: \"'#GAS'\",\n",
              " 33: \"'part:indef'\",\n",
              " 34: \"'(1h)TEND'\",\n",
              " 35: \"'ns-fs-AMY'\",\n",
              " 36: \"'SCHOOL+'\",\n",
              " 37: \"'MALE-COUSIN'\",\n",
              " 38: \"'REMEMBER'\",\n",
              " 39: \"'IX-2p'\",\n",
              " 40: \"'LONG-AGO+'\",\n",
              " 41: \"'DRIVE+'\",\n",
              " 42: \"'FINISH-shake'\",\n",
              " 43: \"'CHECK'\",\n",
              " 44: \"'NONE/NOTHING'\",\n",
              " 45: \"'fs-EVEN'\",\n",
              " 46: \"'LITTLE-BIT'\",\n",
              " 47: \"'(5)ACCIDENT'\",\n",
              " 48: \"'IX-loc:j'\",\n",
              " 49: \"'fs-TRUCK'\",\n",
              " 50: '\\'5\"wave no\"\\'',\n",
              " 51: \"'IX-loc:k'\",\n",
              " 52: \"'#CAR'\",\n",
              " 53: \"'FINE+'\",\n",
              " 54: \"'FUTURE'\",\n",
              " 55: \"'BUOY'\",\n",
              " 56: \"'#NO+'\",\n",
              " 57: '\\'5\"frustration\"\\'',\n",
              " 58: \"'BREAK'\",\n",
              " 59: \"'WRONG'\",\n",
              " 60: \"'QMwg'\",\n",
              " 61: \"'YES+'\",\n",
              " 62: \"'GO-OUT'\",\n",
              " 63: \"'WITH'\",\n",
              " 64: '\\'SCL:U-L\"person walking\"\\'',\n",
              " 65: \"'REALLY+WORK/BUSINESS'\",\n",
              " 66: \"'WORK/BUSINESS'\",\n",
              " 67: \"'DIFFERENT'\",\n",
              " 68: \"'EXPERIENCE'\",\n",
              " 69: \"'(F)BELONG'\",\n",
              " 70: \"'MEAN'\",\n",
              " 71: \"'UNDERSTAND'\",\n",
              " 72: \"'LEARN+++'\",\n",
              " 73: \"'AND'\",\n",
              " 74: \"'USE'\",\n",
              " 75: \"'THAT'\",\n",
              " 76: \"'(2h)alt.UNDERSTAND'\",\n",
              " 77: \"'MANY'\",\n",
              " 78: \"'DEAF'\",\n",
              " 79: \"'PEOPLE'\",\n",
              " 80: \"'POSS-3p-pl-arc'\",\n",
              " 81: \"'THROUGH'\",\n",
              " 82: \"'STORY+'\",\n",
              " 83: \"'BELOW_2'\",\n",
              " 84: \"'ON'\",\n",
              " 85: \"'ANALYZE_3'\",\n",
              " 86: \"'FROM'\",\n",
              " 87: \"'(1)GENERATIONS-AGO+'\",\n",
              " 88: \"'IDEA'\",\n",
              " 89: \"'SUGGEST'\",\n",
              " 90: \"'ns-fs-EDWARD'\",\n",
              " 91: \"'fs-HALL'\",\n",
              " 92: \"'HOW'\",\n",
              " 93: \"'fs-HUMAN'\",\n",
              " 94: \"'LANGUAGE'\",\n",
              " 95: \"'EXPRESS'\",\n",
              " 96: '\\'\"WHAT\"\\'',\n",
              " 97: \"'FEEDBACK'\",\n",
              " 98: '\\'5\"let\\'s see\"\\'',\n",
              " 99: \"'BUT'\",\n",
              " 100: \"'MORE'\",\n",
              " 101: \"'IMPORTANT'\",\n",
              " 102: '\\'(1h)5\"emphasis\"\\'',\n",
              " 103: \"'LIVE'\",\n",
              " 104: \"'IN'\",\n",
              " 105: \"'fs-SENSORY'\",\n",
              " 106: \"'WORLD'\",\n",
              " 107: \"'TWO'\",\n",
              " 108: \"'(B)NEXT-TOPIC'\",\n",
              " 109: \"'fs-ORIENTATION'\",\n",
              " 110: \"'CURRENT-TOPIC'\",\n",
              " 111: \"'SET-UP'\",\n",
              " 112: \"'REALLY'\",\n",
              " 113: \"'DIFFERENT-arc'\",\n",
              " 114: \"'CULTURE'\",\n",
              " 115: \"'ALLOW'\",\n",
              " 116: \"'INTERPRET'\",\n",
              " 117: \"'#OR'\",\n",
              " 118: \"'GIFT'\",\n",
              " 119: '\\'5\"you know\"\\'',\n",
              " 120: \"'UNDERSTAND+'\",\n",
              " 121: \"'(2h)TALKwg'\",\n",
              " 122: \"'MINOR'\",\n",
              " 123: \"'(1h)HAVE'\",\n",
              " 124: \"'ADD-TO'\",\n",
              " 125: \"'GESTURE'\",\n",
              " 126: \"'SAME'\",\n",
              " 127: \"'ALSO'\",\n",
              " 128: \"'SIGN+'\",\n",
              " 129: \"'MAJOR'\",\n",
              " 130: \"'VOICE+'\",\n",
              " 131: \"'(1h)CURRENT-TOPIC'\",\n",
              " 132: \"'IX-honorific:j'\",\n",
              " 133: \"'FIRST-IN-LIST'\",\n",
              " 134: \"'THROUGH_2'\",\n",
              " 135: \"'ROAD'\",\n",
              " 136: \"'SET-UP:i'\",\n",
              " 137: \"'SET-UP:j'\",\n",
              " 138: \"'SIGN'\",\n",
              " 139: \"'SEPARATE'\",\n",
              " 140: \"'STORY'\",\n",
              " 141: \"'SYSTEM'\",\n",
              " 142: \"'(1h)EXPAND'\",\n",
              " 143: \"'COOPERATE/UNITE'\",\n",
              " 144: \"'(1h)FIRST-IN-LIST'\",\n",
              " 145: \"'(1h)SECOND-IN-LIST'\",\n",
              " 146: \"'(nd-2)FIRST-IN-LIST'\",\n",
              " 147: \"'(nd-2)FIRST-AND-SECOND-IN-LIST'\",\n",
              " 148: \"'MANAGE/CONTROL'\",\n",
              " 149: \"'fs-OF'\",\n",
              " 150: \"'fs-SOUND'\",\n",
              " 151: \"'(1h)THIS'\",\n",
              " 152: \"'ARTICLE'\",\n",
              " 153: \"'QUOTE/TOPIC'\",\n",
              " 154: \"'SECOND'\",\n",
              " 155: \"'SOME'\",\n",
              " 156: \"'MOST'\",\n",
              " 157: \"'FOCUS/NARROW'\",\n",
              " 158: \"'ns-AMERICA'\",\n",
              " 159: \"'NOISE'\",\n",
              " 160: \"'NINETEEN'\",\n",
              " 161: \"'EIGHTY-TWO'\",\n",
              " 162: \"'WRITE'\",\n",
              " 163: \"'ONLY'\",\n",
              " 164: \"'BEFORE_2'\",\n",
              " 165: \"'fs-ISSUE'\",\n",
              " 166: \"'ns-fs-DESDJ'\",\n",
              " 167: \"'#VOL'\",\n",
              " 168: \"'ONE'\",\n",
              " 169: \"'NUMBER'\",\n",
              " 170: \"'(2h)alt.SEE'\",\n",
              " 171: \"'FEEL+'\",\n",
              " 172: \"'fs-TACTILE'\",\n",
              " 173: \"'TALK-OVER'\",\n",
              " 174: \"'STILL'\",\n",
              " 175: \"'A-LOT'\",\n",
              " 176: \"'INCLUDE/INVOLVE'\",\n",
              " 177: \"'FULL'\",\n",
              " 178: \"'GROUP/TOGETHER'\",\n",
              " 179: \"'NOW'\",\n",
              " 180: \"'MOVING-ON-TO-NEXT-TOPIC'\",\n",
              " 181: \"'TALK'\",\n",
              " 182: \"'ABOUT'\",\n",
              " 183: \"'fs-AUDIO'\",\n",
              " 184: \"'fs-VOCAL'\",\n",
              " 185: \"'LECTURE'\",\n",
              " 186: \"'fs-TESTIMONIES'\",\n",
              " 187: \"'MAKE-A-COLLECTION'\",\n",
              " 188: \"'BECOME'\",\n",
              " 189: \"'(2h)SAME'\",\n",
              " 190: \"'fs-BRICOLAGE'\",\n",
              " 191: '\\'DCL:5\"gathering information\"\\'',\n",
              " 192: \"'ORGANIZE'\",\n",
              " 193: \"'THINK+MEAN'\",\n",
              " 194: \"'THIS_2'\",\n",
              " 195: \"'SPECIFIC'\",\n",
              " 196: '\\'5\"resignation\"\\'',\n",
              " 197: '\\'1\"focus\"\\''}"
            ]
          },
          "metadata": {},
          "execution_count": 68
        }
      ]
    },
    {
      "cell_type": "code",
      "source": [
        "label_map2"
      ],
      "metadata": {
        "colab": {
          "base_uri": "https://localhost:8080/"
        },
        "id": "Ujlo1wTEFx5n",
        "outputId": "f24c849f-00ac-4304-b337-95537f4bbda9"
      },
      "execution_count": null,
      "outputs": [
        {
          "output_type": "execute_result",
          "data": {
            "text/plain": [
              "{\"'CAR'\": 0,\n",
              " \"'BREAK-DOWN'\": 1,\n",
              " '\\'(1h)5\"wave no\"\\'': 2,\n",
              " \"'EVERYDAY+'\": 3,\n",
              " \"'IX-3p:i'\": 4,\n",
              " \"'ns-fs-JOHN'\": 5,\n",
              " \"'DRIVE'\": 6,\n",
              " \"'IX-3p:j'\": 7,\n",
              " \"'ns-fs-MARY'\": 8,\n",
              " \"'TO/UNTIL'\": 9,\n",
              " \"'WORK'\": 10,\n",
              " \"'(1h)part:indef'\": 11,\n",
              " \"'(1h)KEY'\": 12,\n",
              " \"'IX-loc:i'\": 13,\n",
              " \"'IX-1p'\": 14,\n",
              " \"'HAVE'\": 15,\n",
              " \"'CORRECT'\": 16,\n",
              " \"'FOR'\": 17,\n",
              " \"'A-OK'\": 18,\n",
              " \"'SURPRISE'\": 19,\n",
              " \"'CANNOT'\": 20,\n",
              " \"'THINK+MARRY'\": 21,\n",
              " \"'NOT'\": 22,\n",
              " \"'RAIN'\": 23,\n",
              " \"'WONDER'\": 24,\n",
              " \"'THINK'\": 25,\n",
              " \"'MARRY'\": 26,\n",
              " \"'#NO'\": 27,\n",
              " \"'HAPPEN'\": 28,\n",
              " \"'TEND'\": 29,\n",
              " \"'MAYBE'\": 30,\n",
              " \"'RUN-OUT'\": 31,\n",
              " \"'#GAS'\": 32,\n",
              " \"'part:indef'\": 33,\n",
              " \"'(1h)TEND'\": 34,\n",
              " \"'ns-fs-AMY'\": 35,\n",
              " \"'SCHOOL+'\": 36,\n",
              " \"'MALE-COUSIN'\": 37,\n",
              " \"'REMEMBER'\": 38,\n",
              " \"'IX-2p'\": 39,\n",
              " \"'LONG-AGO+'\": 40,\n",
              " \"'DRIVE+'\": 41,\n",
              " \"'FINISH-shake'\": 42,\n",
              " \"'CHECK'\": 43,\n",
              " \"'NONE/NOTHING'\": 44,\n",
              " \"'fs-EVEN'\": 45,\n",
              " \"'LITTLE-BIT'\": 46,\n",
              " \"'(5)ACCIDENT'\": 47,\n",
              " \"'IX-loc:j'\": 48,\n",
              " \"'fs-TRUCK'\": 49,\n",
              " '\\'5\"wave no\"\\'': 50,\n",
              " \"'IX-loc:k'\": 51,\n",
              " \"'#CAR'\": 52,\n",
              " \"'FINE+'\": 53,\n",
              " \"'FUTURE'\": 54,\n",
              " \"'BUOY'\": 55,\n",
              " \"'#NO+'\": 56,\n",
              " '\\'5\"frustration\"\\'': 57,\n",
              " \"'BREAK'\": 58,\n",
              " \"'WRONG'\": 59,\n",
              " \"'QMwg'\": 60,\n",
              " \"'YES+'\": 61,\n",
              " \"'GO-OUT'\": 62,\n",
              " \"'WITH'\": 63,\n",
              " '\\'SCL:U-L\"person walking\"\\'': 64,\n",
              " \"'REALLY+WORK/BUSINESS'\": 65,\n",
              " \"'WORK/BUSINESS'\": 66,\n",
              " \"'DIFFERENT'\": 67,\n",
              " \"'EXPERIENCE'\": 68,\n",
              " \"'(F)BELONG'\": 69,\n",
              " \"'MEAN'\": 70,\n",
              " \"'UNDERSTAND'\": 71,\n",
              " \"'LEARN+++'\": 72,\n",
              " \"'AND'\": 73,\n",
              " \"'USE'\": 74,\n",
              " \"'THAT'\": 75,\n",
              " \"'(2h)alt.UNDERSTAND'\": 76,\n",
              " \"'MANY'\": 77,\n",
              " \"'DEAF'\": 78,\n",
              " \"'PEOPLE'\": 79,\n",
              " \"'POSS-3p-pl-arc'\": 80,\n",
              " \"'THROUGH'\": 81,\n",
              " \"'STORY+'\": 82,\n",
              " \"'BELOW_2'\": 83,\n",
              " \"'ON'\": 84,\n",
              " \"'ANALYZE_3'\": 85,\n",
              " \"'FROM'\": 86,\n",
              " \"'(1)GENERATIONS-AGO+'\": 87,\n",
              " \"'IDEA'\": 88,\n",
              " \"'SUGGEST'\": 89,\n",
              " \"'ns-fs-EDWARD'\": 90,\n",
              " \"'fs-HALL'\": 91,\n",
              " \"'HOW'\": 92,\n",
              " \"'fs-HUMAN'\": 93,\n",
              " \"'LANGUAGE'\": 94,\n",
              " \"'EXPRESS'\": 95,\n",
              " '\\'\"WHAT\"\\'': 96,\n",
              " \"'FEEDBACK'\": 97,\n",
              " '\\'5\"let\\'s see\"\\'': 98,\n",
              " \"'BUT'\": 99,\n",
              " \"'MORE'\": 100,\n",
              " \"'IMPORTANT'\": 101,\n",
              " '\\'(1h)5\"emphasis\"\\'': 102,\n",
              " \"'LIVE'\": 103,\n",
              " \"'IN'\": 104,\n",
              " \"'fs-SENSORY'\": 105,\n",
              " \"'WORLD'\": 106,\n",
              " \"'TWO'\": 107,\n",
              " \"'(B)NEXT-TOPIC'\": 108,\n",
              " \"'fs-ORIENTATION'\": 109,\n",
              " \"'CURRENT-TOPIC'\": 110,\n",
              " \"'SET-UP'\": 111,\n",
              " \"'REALLY'\": 112,\n",
              " \"'DIFFERENT-arc'\": 113,\n",
              " \"'CULTURE'\": 114,\n",
              " \"'ALLOW'\": 115,\n",
              " \"'INTERPRET'\": 116,\n",
              " \"'#OR'\": 117,\n",
              " \"'GIFT'\": 118,\n",
              " '\\'5\"you know\"\\'': 119,\n",
              " \"'UNDERSTAND+'\": 120,\n",
              " \"'(2h)TALKwg'\": 121,\n",
              " \"'MINOR'\": 122,\n",
              " \"'(1h)HAVE'\": 123,\n",
              " \"'ADD-TO'\": 124,\n",
              " \"'GESTURE'\": 125,\n",
              " \"'SAME'\": 126,\n",
              " \"'ALSO'\": 127,\n",
              " \"'SIGN+'\": 128,\n",
              " \"'MAJOR'\": 129,\n",
              " \"'VOICE+'\": 130,\n",
              " \"'(1h)CURRENT-TOPIC'\": 131,\n",
              " \"'IX-honorific:j'\": 132,\n",
              " \"'FIRST-IN-LIST'\": 133,\n",
              " \"'THROUGH_2'\": 134,\n",
              " \"'ROAD'\": 135,\n",
              " \"'SET-UP:i'\": 136,\n",
              " \"'SET-UP:j'\": 137,\n",
              " \"'SIGN'\": 138,\n",
              " \"'SEPARATE'\": 139,\n",
              " \"'STORY'\": 140,\n",
              " \"'SYSTEM'\": 141,\n",
              " \"'(1h)EXPAND'\": 142,\n",
              " \"'COOPERATE/UNITE'\": 143,\n",
              " \"'(1h)FIRST-IN-LIST'\": 144,\n",
              " \"'(1h)SECOND-IN-LIST'\": 145,\n",
              " \"'(nd-2)FIRST-IN-LIST'\": 146,\n",
              " \"'(nd-2)FIRST-AND-SECOND-IN-LIST'\": 147,\n",
              " \"'MANAGE/CONTROL'\": 148,\n",
              " \"'fs-OF'\": 149,\n",
              " \"'fs-SOUND'\": 150,\n",
              " \"'(1h)THIS'\": 151,\n",
              " \"'ARTICLE'\": 152,\n",
              " \"'QUOTE/TOPIC'\": 153,\n",
              " \"'SECOND'\": 154,\n",
              " \"'SOME'\": 155,\n",
              " \"'MOST'\": 156,\n",
              " \"'FOCUS/NARROW'\": 157,\n",
              " \"'ns-AMERICA'\": 158,\n",
              " \"'NOISE'\": 159,\n",
              " \"'NINETEEN'\": 160,\n",
              " \"'EIGHTY-TWO'\": 161,\n",
              " \"'WRITE'\": 162,\n",
              " \"'ONLY'\": 163,\n",
              " \"'BEFORE_2'\": 164,\n",
              " \"'fs-ISSUE'\": 165,\n",
              " \"'ns-fs-DESDJ'\": 166,\n",
              " \"'#VOL'\": 167,\n",
              " \"'ONE'\": 168,\n",
              " \"'NUMBER'\": 169,\n",
              " \"'(2h)alt.SEE'\": 170,\n",
              " \"'FEEL+'\": 171,\n",
              " \"'fs-TACTILE'\": 172,\n",
              " \"'TALK-OVER'\": 173,\n",
              " \"'STILL'\": 174,\n",
              " \"'A-LOT'\": 175,\n",
              " \"'INCLUDE/INVOLVE'\": 176,\n",
              " \"'FULL'\": 177,\n",
              " \"'GROUP/TOGETHER'\": 178,\n",
              " \"'NOW'\": 179,\n",
              " \"'MOVING-ON-TO-NEXT-TOPIC'\": 180,\n",
              " \"'TALK'\": 181,\n",
              " \"'ABOUT'\": 182,\n",
              " \"'fs-AUDIO'\": 183,\n",
              " \"'fs-VOCAL'\": 184,\n",
              " \"'LECTURE'\": 185,\n",
              " \"'fs-TESTIMONIES'\": 186,\n",
              " \"'MAKE-A-COLLECTION'\": 187,\n",
              " \"'BECOME'\": 188,\n",
              " \"'(2h)SAME'\": 189,\n",
              " \"'fs-BRICOLAGE'\": 190,\n",
              " '\\'DCL:5\"gathering information\"\\'': 191,\n",
              " \"'ORGANIZE'\": 192,\n",
              " \"'THINK+MEAN'\": 193,\n",
              " \"'THIS_2'\": 194,\n",
              " \"'SPECIFIC'\": 195,\n",
              " '\\'5\"resignation\"\\'': 196,\n",
              " '\\'1\"focus\"\\'': 197}"
            ]
          },
          "metadata": {},
          "execution_count": 69
        }
      ]
    },
    {
      "cell_type": "code",
      "execution_count": null,
      "metadata": {
        "id": "OI4sviEujyMu",
        "colab": {
          "base_uri": "https://localhost:8080/"
        },
        "outputId": "9c53a3dc-05b9-4e35-ec96-9e8da21aedeb"
      },
      "outputs": [
        {
          "output_type": "stream",
          "name": "stdout",
          "text": [
            "\n",
            "(56, 100440)\n",
            "(56, 93, 1080)\n"
          ]
        }
      ],
      "source": [
        "skinMask360Sequences= np.loadtxt('360Arrays.txt')\n",
        "print('')\n",
        "print(skinMask360Sequences.shape)\n",
        "skinMask360Sequences = skinMask360Sequences.reshape(len(skinMask360Sequences), 93, 1080)\n",
        "print(skinMask360Sequences.shape)"
      ]
    },
    {
      "cell_type": "code",
      "source": [
        "handSequences= np.loadtxt('HandArrays.txt')\n",
        "print('')\n",
        "print(handSequences.shape)\n",
        "handSequences = handSequences.reshape(len(handSequences), 93, 126)\n",
        "print(handSequences.shape)"
      ],
      "metadata": {
        "colab": {
          "base_uri": "https://localhost:8080/"
        },
        "id": "RMSRwwcQR3gk",
        "outputId": "6e9157cf-e9cb-46c8-fe0a-6333a1b49997"
      },
      "execution_count": null,
      "outputs": [
        {
          "output_type": "stream",
          "name": "stdout",
          "text": [
            "\n",
            "(56, 11718)\n",
            "(56, 93, 126)\n"
          ]
        }
      ]
    },
    {
      "cell_type": "code",
      "source": [
        "label_map1[198] = \"error\""
      ],
      "metadata": {
        "id": "v_30msJj7GIV"
      },
      "execution_count": null,
      "outputs": []
    },
    {
      "cell_type": "code",
      "source": [
        "label_map2[\"error\"] = 198"
      ],
      "metadata": {
        "id": "YVPNfkj68BKO"
      },
      "execution_count": null,
      "outputs": []
    },
    {
      "cell_type": "markdown",
      "metadata": {
        "id": "JKadCZ1FXZEf"
      },
      "source": [
        "# Training LSTM Classifiers"
      ]
    },
    {
      "cell_type": "markdown",
      "source": [
        "#Model 1"
      ],
      "metadata": {
        "id": "Pg-cSdYbUxCi"
      }
    },
    {
      "cell_type": "code",
      "execution_count": null,
      "metadata": {
        "id": "3PFZ1KQZTmoJ"
      },
      "outputs": [],
      "source": [
        "padded_inputs1 = tf.keras.preprocessing.sequence.pad_sequences(\n",
        "    handSequences, padding=\"post\", value=-1\n",
        ")\n",
        "padded_outputs1 = tf.keras.preprocessing.sequence.pad_sequences(\n",
        "    Labels, padding=\"post\", value=-1\n",
        ")\n",
        "\n",
        "trueOutputs1 = []\n",
        "for sequence in padded_outputs1:\n",
        "  newSeq = []\n",
        "  for value in sequence:\n",
        "      newProbability = [0.] * len(label_map1)\n",
        "      newProbability[value] = 1.0\n",
        "      newSeq.append(newProbability)\n",
        "  trueOutputs1.append(newSeq)"
      ]
    },
    {
      "cell_type": "code",
      "execution_count": null,
      "metadata": {
        "id": "OWXUwkR1Tvsp"
      },
      "outputs": [],
      "source": [
        "X_train1, X_test1, y_train1, y_test1 = train_test_split(padded_inputs1, trueOutputs1, test_size=0.05, random_state=42)"
      ]
    },
    {
      "cell_type": "code",
      "execution_count": null,
      "metadata": {
        "colab": {
          "base_uri": "https://localhost:8080/"
        },
        "outputId": "499f0065-2218-472a-d0dd-496f31d318e4",
        "id": "pnpl1Z0XT1H4"
      },
      "outputs": [
        {
          "output_type": "stream",
          "name": "stderr",
          "text": [
            "WARNING:tensorflow:Layer lstm_8 will not use cuDNN kernels since it doesn't meet the criteria. It will use a generic GPU kernel as fallback when running on GPU.\n",
            "WARNING:tensorflow:Layer lstm_9 will not use cuDNN kernels since it doesn't meet the criteria. It will use a generic GPU kernel as fallback when running on GPU.\n"
          ]
        },
        {
          "output_type": "stream",
          "name": "stdout",
          "text": [
            "Epoch 1/100\n",
            "35/35 [==============================] - 8s 175ms/step - loss: 1.9072 - categorical_accuracy: 0.0324 - val_loss: 2.0156 - val_categorical_accuracy: 0.0408\n",
            "Epoch 2/100\n",
            "35/35 [==============================] - 5s 156ms/step - loss: 1.9017 - categorical_accuracy: 0.0546 - val_loss: 2.0150 - val_categorical_accuracy: 0.0408\n",
            "Epoch 3/100\n",
            "35/35 [==============================] - 5s 154ms/step - loss: 1.8972 - categorical_accuracy: 0.0546 - val_loss: 2.0146 - val_categorical_accuracy: 0.0408\n",
            "Epoch 4/100\n",
            "35/35 [==============================] - 5s 152ms/step - loss: 1.8928 - categorical_accuracy: 0.0546 - val_loss: 2.0142 - val_categorical_accuracy: 0.0408\n",
            "Epoch 5/100\n",
            "35/35 [==============================] - 5s 153ms/step - loss: 1.8885 - categorical_accuracy: 0.0546 - val_loss: 2.0139 - val_categorical_accuracy: 0.0408\n",
            "Epoch 6/100\n",
            "35/35 [==============================] - 6s 161ms/step - loss: 1.8843 - categorical_accuracy: 0.0546 - val_loss: 2.0137 - val_categorical_accuracy: 0.0408\n",
            "Epoch 7/100\n",
            "35/35 [==============================] - 5s 155ms/step - loss: 1.8802 - categorical_accuracy: 0.0546 - val_loss: 2.0135 - val_categorical_accuracy: 0.0408\n",
            "Epoch 8/100\n",
            "35/35 [==============================] - 5s 154ms/step - loss: 1.8762 - categorical_accuracy: 0.0546 - val_loss: 2.0133 - val_categorical_accuracy: 0.0408\n",
            "Epoch 9/100\n",
            "35/35 [==============================] - 6s 158ms/step - loss: 1.8723 - categorical_accuracy: 0.0546 - val_loss: 2.0132 - val_categorical_accuracy: 0.0408\n",
            "Epoch 10/100\n",
            "35/35 [==============================] - 5s 155ms/step - loss: 1.8684 - categorical_accuracy: 0.0546 - val_loss: 2.0132 - val_categorical_accuracy: 0.0408\n",
            "Epoch 11/100\n",
            "35/35 [==============================] - 5s 153ms/step - loss: 1.8647 - categorical_accuracy: 0.0546 - val_loss: 2.0132 - val_categorical_accuracy: 0.0408\n",
            "Epoch 12/100\n",
            "35/35 [==============================] - 5s 157ms/step - loss: 1.8610 - categorical_accuracy: 0.0546 - val_loss: 2.0132 - val_categorical_accuracy: 0.0408\n",
            "Epoch 13/100\n",
            "35/35 [==============================] - 5s 156ms/step - loss: 1.8574 - categorical_accuracy: 0.0546 - val_loss: 2.0133 - val_categorical_accuracy: 0.0408\n",
            "Epoch 14/100\n",
            "35/35 [==============================] - 5s 157ms/step - loss: 1.8539 - categorical_accuracy: 0.0546 - val_loss: 2.0134 - val_categorical_accuracy: 0.0408\n",
            "Epoch 15/100\n",
            "35/35 [==============================] - 5s 152ms/step - loss: 1.8505 - categorical_accuracy: 0.0546 - val_loss: 2.0136 - val_categorical_accuracy: 0.0408\n",
            "Epoch 16/100\n",
            "35/35 [==============================] - 5s 154ms/step - loss: 1.8472 - categorical_accuracy: 0.0546 - val_loss: 2.0138 - val_categorical_accuracy: 0.0408\n",
            "Epoch 17/100\n",
            "35/35 [==============================] - 6s 165ms/step - loss: 1.8439 - categorical_accuracy: 0.0546 - val_loss: 2.0141 - val_categorical_accuracy: 0.0408\n",
            "Epoch 18/100\n",
            "35/35 [==============================] - 6s 160ms/step - loss: 1.8406 - categorical_accuracy: 0.0546 - val_loss: 2.0144 - val_categorical_accuracy: 0.0408\n",
            "Epoch 19/100\n",
            "35/35 [==============================] - 6s 159ms/step - loss: 1.8375 - categorical_accuracy: 0.0546 - val_loss: 2.0147 - val_categorical_accuracy: 0.0408\n",
            "Epoch 20/100\n",
            "35/35 [==============================] - 5s 156ms/step - loss: 1.8344 - categorical_accuracy: 0.0546 - val_loss: 2.0150 - val_categorical_accuracy: 0.0408\n",
            "Epoch 21/100\n",
            "35/35 [==============================] - 5s 158ms/step - loss: 1.8314 - categorical_accuracy: 0.0546 - val_loss: 2.0154 - val_categorical_accuracy: 0.0408\n",
            "Epoch 22/100\n",
            "35/35 [==============================] - 6s 159ms/step - loss: 1.8284 - categorical_accuracy: 0.0546 - val_loss: 2.0159 - val_categorical_accuracy: 0.0408\n",
            "Epoch 23/100\n",
            "35/35 [==============================] - 5s 155ms/step - loss: 1.8255 - categorical_accuracy: 0.0546 - val_loss: 2.0163 - val_categorical_accuracy: 0.0408\n",
            "Epoch 24/100\n",
            "35/35 [==============================] - 5s 152ms/step - loss: 1.8227 - categorical_accuracy: 0.0546 - val_loss: 2.0168 - val_categorical_accuracy: 0.0408\n",
            "Epoch 25/100\n",
            "35/35 [==============================] - 6s 159ms/step - loss: 1.8199 - categorical_accuracy: 0.0546 - val_loss: 2.0173 - val_categorical_accuracy: 0.0408\n",
            "Epoch 26/100\n",
            "35/35 [==============================] - 5s 152ms/step - loss: 1.8172 - categorical_accuracy: 0.0546 - val_loss: 2.0179 - val_categorical_accuracy: 0.0408\n",
            "Epoch 27/100\n",
            "35/35 [==============================] - 5s 155ms/step - loss: 1.8145 - categorical_accuracy: 0.0546 - val_loss: 2.0184 - val_categorical_accuracy: 0.0408\n",
            "Epoch 28/100\n",
            "35/35 [==============================] - 6s 158ms/step - loss: 1.8119 - categorical_accuracy: 0.0546 - val_loss: 2.0190 - val_categorical_accuracy: 0.0408\n",
            "Epoch 29/100\n",
            "35/35 [==============================] - 5s 157ms/step - loss: 1.8093 - categorical_accuracy: 0.0546 - val_loss: 2.0197 - val_categorical_accuracy: 0.0408\n",
            "Epoch 30/100\n",
            "35/35 [==============================] - 6s 161ms/step - loss: 1.8068 - categorical_accuracy: 0.0546 - val_loss: 2.0203 - val_categorical_accuracy: 0.0408\n",
            "Epoch 31/100\n",
            "35/35 [==============================] - 5s 155ms/step - loss: 1.8043 - categorical_accuracy: 0.0546 - val_loss: 2.0210 - val_categorical_accuracy: 0.0408\n",
            "Epoch 32/100\n",
            "35/35 [==============================] - 5s 155ms/step - loss: 1.8019 - categorical_accuracy: 0.0546 - val_loss: 2.0217 - val_categorical_accuracy: 0.0408\n",
            "Epoch 33/100\n",
            "35/35 [==============================] - 5s 157ms/step - loss: 1.7995 - categorical_accuracy: 0.0546 - val_loss: 2.0224 - val_categorical_accuracy: 0.0408\n",
            "Epoch 34/100\n",
            "35/35 [==============================] - 5s 154ms/step - loss: 1.7972 - categorical_accuracy: 0.0546 - val_loss: 2.0232 - val_categorical_accuracy: 0.0408\n",
            "Epoch 35/100\n",
            "35/35 [==============================] - 6s 158ms/step - loss: 1.7949 - categorical_accuracy: 0.0546 - val_loss: 2.0239 - val_categorical_accuracy: 0.0408\n",
            "Epoch 36/100\n",
            "35/35 [==============================] - 5s 153ms/step - loss: 1.7927 - categorical_accuracy: 0.0546 - val_loss: 2.0247 - val_categorical_accuracy: 0.0408\n",
            "Epoch 37/100\n",
            "35/35 [==============================] - 5s 156ms/step - loss: 1.7905 - categorical_accuracy: 0.0546 - val_loss: 2.0255 - val_categorical_accuracy: 0.0408\n",
            "Epoch 38/100\n",
            "35/35 [==============================] - 5s 152ms/step - loss: 1.7884 - categorical_accuracy: 0.0546 - val_loss: 2.0264 - val_categorical_accuracy: 0.0408\n",
            "Epoch 39/100\n",
            "35/35 [==============================] - 5s 153ms/step - loss: 1.7863 - categorical_accuracy: 0.0546 - val_loss: 2.0272 - val_categorical_accuracy: 0.0408\n",
            "Epoch 40/100\n",
            "35/35 [==============================] - 5s 155ms/step - loss: 1.7842 - categorical_accuracy: 0.0546 - val_loss: 2.0281 - val_categorical_accuracy: 0.0408\n",
            "Epoch 41/100\n",
            "35/35 [==============================] - 5s 151ms/step - loss: 1.7822 - categorical_accuracy: 0.0546 - val_loss: 2.0290 - val_categorical_accuracy: 0.0408\n",
            "Epoch 42/100\n",
            "35/35 [==============================] - 5s 155ms/step - loss: 1.7802 - categorical_accuracy: 0.0546 - val_loss: 2.0299 - val_categorical_accuracy: 0.0408\n",
            "Epoch 43/100\n",
            "35/35 [==============================] - 6s 160ms/step - loss: 1.7782 - categorical_accuracy: 0.0546 - val_loss: 2.0308 - val_categorical_accuracy: 0.0408\n",
            "Epoch 44/100\n",
            "35/35 [==============================] - 5s 155ms/step - loss: 1.7763 - categorical_accuracy: 0.0546 - val_loss: 2.0318 - val_categorical_accuracy: 0.0408\n",
            "Epoch 45/100\n",
            "35/35 [==============================] - 6s 159ms/step - loss: 1.7744 - categorical_accuracy: 0.0546 - val_loss: 2.0327 - val_categorical_accuracy: 0.0408\n",
            "Epoch 46/100\n",
            "35/35 [==============================] - 5s 153ms/step - loss: 1.7726 - categorical_accuracy: 0.0546 - val_loss: 2.0337 - val_categorical_accuracy: 0.0408\n",
            "Epoch 47/100\n",
            "35/35 [==============================] - 5s 155ms/step - loss: 1.7707 - categorical_accuracy: 0.0546 - val_loss: 2.0347 - val_categorical_accuracy: 0.0408\n",
            "Epoch 48/100\n",
            "35/35 [==============================] - 5s 154ms/step - loss: 1.7690 - categorical_accuracy: 0.0546 - val_loss: 2.0357 - val_categorical_accuracy: 0.0408\n",
            "Epoch 49/100\n",
            "35/35 [==============================] - 5s 156ms/step - loss: 1.7672 - categorical_accuracy: 0.0546 - val_loss: 2.0367 - val_categorical_accuracy: 0.0408\n",
            "Epoch 50/100\n",
            "35/35 [==============================] - 5s 154ms/step - loss: 1.7655 - categorical_accuracy: 0.0546 - val_loss: 2.0378 - val_categorical_accuracy: 0.0408\n",
            "Epoch 51/100\n",
            "35/35 [==============================] - 5s 153ms/step - loss: 1.7638 - categorical_accuracy: 0.0546 - val_loss: 2.0388 - val_categorical_accuracy: 0.0408\n",
            "Epoch 52/100\n",
            "35/35 [==============================] - 5s 155ms/step - loss: 1.7622 - categorical_accuracy: 0.0546 - val_loss: 2.0399 - val_categorical_accuracy: 0.0408\n",
            "Epoch 53/100\n",
            "35/35 [==============================] - 5s 153ms/step - loss: 1.7606 - categorical_accuracy: 0.0546 - val_loss: 2.0410 - val_categorical_accuracy: 0.0408\n",
            "Epoch 54/100\n",
            "35/35 [==============================] - 5s 156ms/step - loss: 1.7590 - categorical_accuracy: 0.0546 - val_loss: 2.0421 - val_categorical_accuracy: 0.0408\n",
            "Epoch 55/100\n",
            "35/35 [==============================] - 5s 157ms/step - loss: 1.7574 - categorical_accuracy: 0.0546 - val_loss: 2.0432 - val_categorical_accuracy: 0.0408\n",
            "Epoch 56/100\n",
            "35/35 [==============================] - 6s 157ms/step - loss: 1.7559 - categorical_accuracy: 0.0546 - val_loss: 2.0443 - val_categorical_accuracy: 0.0408\n",
            "Epoch 57/100\n",
            "35/35 [==============================] - 6s 159ms/step - loss: 1.7544 - categorical_accuracy: 0.0546 - val_loss: 2.0454 - val_categorical_accuracy: 0.0408\n",
            "Epoch 58/100\n",
            "35/35 [==============================] - 5s 154ms/step - loss: 1.7529 - categorical_accuracy: 0.0546 - val_loss: 2.0466 - val_categorical_accuracy: 0.0408\n",
            "Epoch 59/100\n",
            "35/35 [==============================] - 5s 156ms/step - loss: 1.7514 - categorical_accuracy: 0.0546 - val_loss: 2.0478 - val_categorical_accuracy: 0.0408\n",
            "Epoch 60/100\n",
            "35/35 [==============================] - 5s 157ms/step - loss: 1.7500 - categorical_accuracy: 0.0546 - val_loss: 2.0489 - val_categorical_accuracy: 0.0408\n",
            "Epoch 61/100\n",
            "35/35 [==============================] - 5s 154ms/step - loss: 1.7486 - categorical_accuracy: 0.0546 - val_loss: 2.0501 - val_categorical_accuracy: 0.0408\n",
            "Epoch 62/100\n",
            "35/35 [==============================] - 5s 155ms/step - loss: 1.7473 - categorical_accuracy: 0.0546 - val_loss: 2.0513 - val_categorical_accuracy: 0.0408\n",
            "Epoch 63/100\n",
            "35/35 [==============================] - 6s 162ms/step - loss: 1.7459 - categorical_accuracy: 0.0546 - val_loss: 2.0525 - val_categorical_accuracy: 0.0408\n",
            "Epoch 64/100\n",
            "35/35 [==============================] - 5s 155ms/step - loss: 1.7446 - categorical_accuracy: 0.0546 - val_loss: 2.0538 - val_categorical_accuracy: 0.0408\n",
            "Epoch 65/100\n",
            "35/35 [==============================] - 5s 156ms/step - loss: 1.7433 - categorical_accuracy: 0.0546 - val_loss: 2.0550 - val_categorical_accuracy: 0.0408\n",
            "Epoch 66/100\n",
            "35/35 [==============================] - 5s 155ms/step - loss: 1.7420 - categorical_accuracy: 0.0546 - val_loss: 2.0562 - val_categorical_accuracy: 0.0408\n",
            "Epoch 67/100\n",
            "35/35 [==============================] - 5s 154ms/step - loss: 1.7408 - categorical_accuracy: 0.0546 - val_loss: 2.0575 - val_categorical_accuracy: 0.0408\n",
            "Epoch 68/100\n",
            "35/35 [==============================] - 5s 153ms/step - loss: 1.7396 - categorical_accuracy: 0.0546 - val_loss: 2.0588 - val_categorical_accuracy: 0.0408\n",
            "Epoch 69/100\n",
            "35/35 [==============================] - 5s 156ms/step - loss: 1.7384 - categorical_accuracy: 0.0546 - val_loss: 2.0600 - val_categorical_accuracy: 0.0408\n",
            "Epoch 70/100\n",
            "35/35 [==============================] - 5s 155ms/step - loss: 1.7372 - categorical_accuracy: 0.0546 - val_loss: 2.0613 - val_categorical_accuracy: 0.0408\n",
            "Epoch 71/100\n",
            "35/35 [==============================] - 5s 155ms/step - loss: 1.7360 - categorical_accuracy: 0.0546 - val_loss: 2.0626 - val_categorical_accuracy: 0.0408\n",
            "Epoch 72/100\n",
            "35/35 [==============================] - 5s 157ms/step - loss: 1.7349 - categorical_accuracy: 0.0546 - val_loss: 2.0639 - val_categorical_accuracy: 0.0408\n",
            "Epoch 73/100\n",
            "35/35 [==============================] - 5s 157ms/step - loss: 1.7338 - categorical_accuracy: 0.0546 - val_loss: 2.0652 - val_categorical_accuracy: 0.0408\n",
            "Epoch 74/100\n",
            "35/35 [==============================] - 5s 155ms/step - loss: 1.7327 - categorical_accuracy: 0.0546 - val_loss: 2.0666 - val_categorical_accuracy: 0.0408\n",
            "Epoch 75/100\n",
            "35/35 [==============================] - 6s 160ms/step - loss: 1.7316 - categorical_accuracy: 0.0546 - val_loss: 2.0679 - val_categorical_accuracy: 0.0408\n",
            "Epoch 76/100\n",
            "35/35 [==============================] - 5s 156ms/step - loss: 1.7305 - categorical_accuracy: 0.0546 - val_loss: 2.0692 - val_categorical_accuracy: 0.0408\n",
            "Epoch 77/100\n",
            "35/35 [==============================] - 5s 156ms/step - loss: 1.7295 - categorical_accuracy: 0.0546 - val_loss: 2.0706 - val_categorical_accuracy: 0.0408\n",
            "Epoch 78/100\n",
            "35/35 [==============================] - 5s 157ms/step - loss: 1.7285 - categorical_accuracy: 0.0546 - val_loss: 2.0720 - val_categorical_accuracy: 0.0408\n",
            "Epoch 79/100\n",
            "35/35 [==============================] - 5s 156ms/step - loss: 1.7275 - categorical_accuracy: 0.0546 - val_loss: 2.0733 - val_categorical_accuracy: 0.0408\n",
            "Epoch 80/100\n",
            "35/35 [==============================] - 5s 156ms/step - loss: 1.7265 - categorical_accuracy: 0.0546 - val_loss: 2.0747 - val_categorical_accuracy: 0.0408\n",
            "Epoch 81/100\n",
            "35/35 [==============================] - 6s 160ms/step - loss: 1.7255 - categorical_accuracy: 0.0546 - val_loss: 2.0761 - val_categorical_accuracy: 0.0408\n",
            "Epoch 82/100\n",
            "35/35 [==============================] - 6s 159ms/step - loss: 1.7246 - categorical_accuracy: 0.0546 - val_loss: 2.0775 - val_categorical_accuracy: 0.0408\n",
            "Epoch 83/100\n",
            "35/35 [==============================] - 6s 159ms/step - loss: 1.7237 - categorical_accuracy: 0.0546 - val_loss: 2.0789 - val_categorical_accuracy: 0.0408\n",
            "Epoch 84/100\n",
            "35/35 [==============================] - 5s 156ms/step - loss: 1.7228 - categorical_accuracy: 0.0546 - val_loss: 2.0803 - val_categorical_accuracy: 0.0408\n",
            "Epoch 85/100\n",
            "35/35 [==============================] - 6s 160ms/step - loss: 1.7219 - categorical_accuracy: 0.0546 - val_loss: 2.0817 - val_categorical_accuracy: 0.0408\n",
            "Epoch 86/100\n",
            "35/35 [==============================] - 5s 156ms/step - loss: 1.7210 - categorical_accuracy: 0.0546 - val_loss: 2.0831 - val_categorical_accuracy: 0.0408\n",
            "Epoch 87/100\n",
            "35/35 [==============================] - 5s 155ms/step - loss: 1.7201 - categorical_accuracy: 0.0546 - val_loss: 2.0846 - val_categorical_accuracy: 0.0408\n",
            "Epoch 88/100\n",
            "35/35 [==============================] - 5s 153ms/step - loss: 1.7193 - categorical_accuracy: 0.0546 - val_loss: 2.0860 - val_categorical_accuracy: 0.0408\n",
            "Epoch 89/100\n",
            "35/35 [==============================] - 5s 154ms/step - loss: 1.7185 - categorical_accuracy: 0.0546 - val_loss: 2.0875 - val_categorical_accuracy: 0.0408\n",
            "Epoch 90/100\n",
            "35/35 [==============================] - 6s 163ms/step - loss: 1.7176 - categorical_accuracy: 0.0546 - val_loss: 2.0889 - val_categorical_accuracy: 0.0408\n",
            "Epoch 91/100\n",
            "35/35 [==============================] - 5s 158ms/step - loss: 1.7168 - categorical_accuracy: 0.0546 - val_loss: 2.0904 - val_categorical_accuracy: 0.0408\n",
            "Epoch 92/100\n",
            "35/35 [==============================] - 5s 154ms/step - loss: 1.7161 - categorical_accuracy: 0.0546 - val_loss: 2.0918 - val_categorical_accuracy: 0.0408\n",
            "Epoch 93/100\n",
            "35/35 [==============================] - 5s 154ms/step - loss: 1.7153 - categorical_accuracy: 0.0546 - val_loss: 2.0933 - val_categorical_accuracy: 0.0408\n",
            "Epoch 94/100\n",
            "35/35 [==============================] - 5s 155ms/step - loss: 1.7145 - categorical_accuracy: 0.0546 - val_loss: 2.0948 - val_categorical_accuracy: 0.0408\n",
            "Epoch 95/100\n",
            "35/35 [==============================] - 5s 156ms/step - loss: 1.7138 - categorical_accuracy: 0.0546 - val_loss: 2.0963 - val_categorical_accuracy: 0.0408\n",
            "Epoch 96/100\n",
            "35/35 [==============================] - 5s 154ms/step - loss: 1.7131 - categorical_accuracy: 0.0546 - val_loss: 2.0978 - val_categorical_accuracy: 0.0408\n",
            "Epoch 97/100\n",
            "35/35 [==============================] - 6s 160ms/step - loss: 1.7124 - categorical_accuracy: 0.0546 - val_loss: 2.0993 - val_categorical_accuracy: 0.0408\n",
            "Epoch 98/100\n",
            "35/35 [==============================] - 6s 165ms/step - loss: 1.7117 - categorical_accuracy: 0.0546 - val_loss: 2.1008 - val_categorical_accuracy: 0.0408\n",
            "Epoch 99/100\n",
            "35/35 [==============================] - 6s 159ms/step - loss: 1.7110 - categorical_accuracy: 0.0546 - val_loss: 2.1023 - val_categorical_accuracy: 0.0408\n",
            "Epoch 100/100\n",
            "35/35 [==============================] - 5s 156ms/step - loss: 1.7103 - categorical_accuracy: 0.0546 - val_loss: 2.1038 - val_categorical_accuracy: 0.0408\n",
            "Model: \"sequential_5\"\n",
            "_________________________________________________________________\n",
            " Layer (type)                Output Shape              Param #   \n",
            "=================================================================\n",
            " masking_4 (Masking)         (None, 93, 126)           0         \n",
            "                                                                 \n",
            " lstm_8 (LSTM)               (None, 93, 128)           130560    \n",
            "                                                                 \n",
            " lstm_9 (LSTM)               (None, 93, 64)            49408     \n",
            "                                                                 \n",
            " dense_5 (Dense)             (None, 93, 199)           12935     \n",
            "                                                                 \n",
            "=================================================================\n",
            "Total params: 192,903\n",
            "Trainable params: 192,903\n",
            "Non-trainable params: 0\n",
            "_________________________________________________________________\n"
          ]
        }
      ],
      "source": [
        "model1 = Sequential()\n",
        "model1.add(tf.keras.layers.Masking(mask_value=-1.,\n",
        "                                  input_shape=(len(X_train1[0]), len(X_train1[0][0]))))\n",
        "model1.add(LSTM(128, return_sequences=True, activation='relu',))\n",
        "model1.add(LSTM(64, return_sequences=True, activation='relu'))\n",
        "model1.add(Dense(len(label_map1), activation='softmax'))\n",
        "model1.compile(optimizer='Adam', loss='categorical_crossentropy', metrics=['categorical_accuracy'])\n",
        "history1 = model1.fit(np.array(X_train1), np.array(y_train1), validation_split=0.33, epochs=100, batch_size=1,verbose=1, shuffle=False)\n",
        "model1.summary()\n",
        "\n",
        "model1.save(\"model1\")\n",
        "with open('trainHistory1Dict', 'wb') as file_pi:\n",
        "    pickle.dump(history1.history, file_pi)"
      ]
    },
    {
      "cell_type": "code",
      "source": [
        "plt.plot(history1.history['categorical_accuracy'])\n",
        "plt.plot(history1.history['val_categorical_accuracy'])\n",
        "plt.title('model accuracy')\n",
        "plt.ylabel('accuracy')\n",
        "plt.xlabel('epoch')\n",
        "plt.legend(['train', 'val'], loc='upper left')\n",
        "plt.savefig(\"m1Accuracy.png\")\n",
        "plt.show()\n",
        "plt.clf()\n",
        "\n",
        "plt.plot(history1.history['loss'])\n",
        "plt.plot(history1.history['val_loss'])\n",
        "plt.title('model loss')\n",
        "plt.ylabel('loss')\n",
        "plt.xlabel('epoch')\n",
        "plt.legend(['train', 'val'], loc='upper left')\n",
        "plt.savefig(\"m1Loss.png\")\n",
        "plt.show()\n",
        "plt.clf()"
      ],
      "metadata": {
        "colab": {
          "base_uri": "https://localhost:8080/",
          "height": 591
        },
        "id": "fTQ8cUiNUm7_",
        "outputId": "4b39d0c2-e7ef-4132-c3f4-295e7a90bf1b"
      },
      "execution_count": null,
      "outputs": [
        {
          "output_type": "display_data",
          "data": {
            "text/plain": [
              "<Figure size 432x288 with 1 Axes>"
            ],
            "image/png": "[encoded data removed]"
          },
          "metadata": {
            "needs_background": "light"
          }
        },
        {
          "output_type": "display_data",
          "data": {
            "text/plain": [
              "<Figure size 432x288 with 1 Axes>"
            ],
            "image/png": "[encoded data removed]"
          },
          "metadata": {
            "needs_background": "light"
          }
        },
        {
          "output_type": "display_data",
          "data": {
            "text/plain": [
              "<Figure size 432x288 with 0 Axes>"
            ]
          },
          "metadata": {}
        }
      ]
    },
    {
      "cell_type": "code",
      "source": [
        "prediction1 = model1.predict(X_test1)\n",
        "tempP1 = prediction1.argmax(axis=-2)\n",
        "\n",
        "truth1 = np.array(y_test1)\n",
        "tempT1 = truth1.argmax(axis=-1)\n",
        "\n",
        "TruePredicitions1 = []\n",
        "groundTruths1 = []\n",
        "\n",
        "for P, T in zip(tempP1, tempT1):\n",
        "\n",
        "  sequenceP = \"\"\n",
        "  currentSignId = len(label_map2) + 2\n",
        "  for valueP, valueT in zip(P, T):\n",
        "    if valueP == len(label_map1)-1:\n",
        "      continue\n",
        "    if valueT == len(label_map1)-1:\n",
        "      continue\n",
        "    if(currentSignId != valueP) :\n",
        "      sequenceP = sequenceP + label_map1.get(valueP).replace('\\'', '').replace('\\\"', '').replace(' ', '') + \" \"\n",
        "      currentSignId = valueP\n",
        "  sequenceP = normalizeString(sequenceP)\n",
        "  TruePredicitions1.append(sequenceP)\n",
        "\n",
        "  for L, translated in zip(Labels, translatedSequences):\n",
        "    tempTruth = list(filter(lambda a: a != len(label_map1)-1, T))\n",
        "    if tempTruth == L:\n",
        "      groundTruths1.append(translated)\n",
        "      break; "
      ],
      "metadata": {
        "colab": {
          "base_uri": "https://localhost:8080/"
        },
        "id": "vWK5MinnA9td",
        "outputId": "28d75804-59e5-4b24-90fa-c3c12afa2ffa"
      },
      "execution_count": null,
      "outputs": [
        {
          "output_type": "stream",
          "name": "stdout",
          "text": [
            "1/1 [==============================] - 1s 533ms/step\n"
          ]
        }
      ]
    },
    {
      "cell_type": "markdown",
      "source": [
        "#Model 2"
      ],
      "metadata": {
        "id": "51BOum3VU4R-"
      }
    },
    {
      "cell_type": "code",
      "execution_count": null,
      "metadata": {
        "id": "6pP_VrgKgdN4"
      },
      "outputs": [],
      "source": [
        "padded_inputs2 = tf.keras.preprocessing.sequence.pad_sequences(\n",
        "    skinMask360Sequences, padding=\"post\", value=-1\n",
        ")\n",
        "padded_outputs2 = tf.keras.preprocessing.sequence.pad_sequences(\n",
        "    Labels, padding=\"post\", value=-1\n",
        ")\n",
        "\n",
        "trueOutputs2 = []\n",
        "for sequence in padded_outputs2:\n",
        "  newSeq = []\n",
        "  for value in sequence:\n",
        "      newProbability = [0.] * len(label_map1)\n",
        "      newProbability[value] = 1.0\n",
        "      newSeq.append(newProbability)\n",
        "  trueOutputs2.append(newSeq)"
      ]
    },
    {
      "cell_type": "code",
      "execution_count": null,
      "metadata": {
        "id": "g8-CIJ2J4TiW"
      },
      "outputs": [],
      "source": [
        "X_train2, X_test2, y_train2, y_test2 = train_test_split(padded_inputs2, trueOutputs2, test_size=0.05, random_state=42)"
      ]
    },
    {
      "cell_type": "code",
      "execution_count": null,
      "metadata": {
        "colab": {
          "base_uri": "https://localhost:8080/"
        },
        "id": "DnihaEJZBJxl",
        "outputId": "a162e951-69fe-4a92-d475-09535c2dd3a2"
      },
      "outputs": [
        {
          "output_type": "stream",
          "name": "stderr",
          "text": [
            "WARNING:tensorflow:Layer lstm_10 will not use cuDNN kernels since it doesn't meet the criteria. It will use a generic GPU kernel as fallback when running on GPU.\n",
            "WARNING:tensorflow:Layer lstm_11 will not use cuDNN kernels since it doesn't meet the criteria. It will use a generic GPU kernel as fallback when running on GPU.\n"
          ]
        },
        {
          "output_type": "stream",
          "name": "stdout",
          "text": [
            "Epoch 1/100\n",
            "35/35 [==============================] - 8s 173ms/step - loss: 317.6445 - categorical_accuracy: 0.0051 - val_loss: 530.8962 - val_categorical_accuracy: 0.0063\n",
            "Epoch 2/100\n",
            "35/35 [==============================] - 6s 161ms/step - loss: 5004.8608 - categorical_accuracy: 0.0068 - val_loss: 1374087.2500 - val_categorical_accuracy: 0.0047\n",
            "Epoch 3/100\n",
            "35/35 [==============================] - 6s 158ms/step - loss: 45461.0234 - categorical_accuracy: 0.0111 - val_loss: 4757.1328 - val_categorical_accuracy: 0.0125\n",
            "Epoch 4/100\n",
            "35/35 [==============================] - 5s 156ms/step - loss: 2472.1135 - categorical_accuracy: 0.0051 - val_loss: 935.3737 - val_categorical_accuracy: 0.0125\n",
            "Epoch 5/100\n",
            "35/35 [==============================] - 5s 155ms/step - loss: 9341.7061 - categorical_accuracy: 0.0094 - val_loss: 787.6198 - val_categorical_accuracy: 0.0000e+00\n",
            "Epoch 6/100\n",
            "35/35 [==============================] - 5s 157ms/step - loss: 623.1569 - categorical_accuracy: 0.0085 - val_loss: 443.6731 - val_categorical_accuracy: 0.0078\n",
            "Epoch 7/100\n",
            "35/35 [==============================] - 6s 161ms/step - loss: 211.4082 - categorical_accuracy: 0.0119 - val_loss: 95.3918 - val_categorical_accuracy: 0.0063\n",
            "Epoch 8/100\n",
            "35/35 [==============================] - 5s 156ms/step - loss: 108.6574 - categorical_accuracy: 0.0068 - val_loss: 594.8097 - val_categorical_accuracy: 0.0094\n",
            "Epoch 9/100\n",
            "35/35 [==============================] - 6s 162ms/step - loss: 81.3357 - categorical_accuracy: 0.0145 - val_loss: 227.3953 - val_categorical_accuracy: 0.0141\n",
            "Epoch 10/100\n",
            "35/35 [==============================] - 5s 158ms/step - loss: 173.4399 - categorical_accuracy: 0.0162 - val_loss: 117.7523 - val_categorical_accuracy: 0.0047\n",
            "Epoch 11/100\n",
            "35/35 [==============================] - 6s 159ms/step - loss: 181.1074 - categorical_accuracy: 0.0222 - val_loss: 156.3643 - val_categorical_accuracy: 0.0188\n",
            "Epoch 12/100\n",
            "35/35 [==============================] - 6s 161ms/step - loss: 71.1801 - categorical_accuracy: 0.0298 - val_loss: 65.2927 - val_categorical_accuracy: 0.0235\n",
            "Epoch 13/100\n",
            "35/35 [==============================] - 5s 157ms/step - loss: 85.6418 - categorical_accuracy: 0.0205 - val_loss: 65.6696 - val_categorical_accuracy: 0.0235\n",
            "Epoch 14/100\n",
            "35/35 [==============================] - 6s 159ms/step - loss: 58.2423 - categorical_accuracy: 0.0222 - val_loss: 69.6551 - val_categorical_accuracy: 0.0157\n",
            "Epoch 15/100\n",
            "35/35 [==============================] - 6s 165ms/step - loss: 38.7609 - categorical_accuracy: 0.0315 - val_loss: 81.1977 - val_categorical_accuracy: 0.0141\n",
            "Epoch 16/100\n",
            "35/35 [==============================] - 5s 154ms/step - loss: 87.9158 - categorical_accuracy: 0.0230 - val_loss: 117.5132 - val_categorical_accuracy: 0.0219\n",
            "Epoch 17/100\n",
            "35/35 [==============================] - 6s 159ms/step - loss: 221.6143 - categorical_accuracy: 0.0136 - val_loss: 561.0417 - val_categorical_accuracy: 0.0329\n",
            "Epoch 18/100\n",
            "35/35 [==============================] - 5s 157ms/step - loss: 151.8707 - categorical_accuracy: 0.0435 - val_loss: 230.2329 - val_categorical_accuracy: 0.0235\n",
            "Epoch 19/100\n",
            "35/35 [==============================] - 5s 157ms/step - loss: 162.8305 - categorical_accuracy: 0.0298 - val_loss: 182.7415 - val_categorical_accuracy: 0.0266\n",
            "Epoch 20/100\n",
            "35/35 [==============================] - 5s 157ms/step - loss: 238.7009 - categorical_accuracy: 0.0503 - val_loss: 164.6189 - val_categorical_accuracy: 0.0298\n",
            "Epoch 21/100\n",
            "35/35 [==============================] - 6s 159ms/step - loss: 105.3619 - categorical_accuracy: 0.0529 - val_loss: 265.1199 - val_categorical_accuracy: 0.0298\n",
            "Epoch 22/100\n",
            "35/35 [==============================] - 5s 157ms/step - loss: 537.2299 - categorical_accuracy: 0.0520 - val_loss: 216.3017 - val_categorical_accuracy: 0.0313\n",
            "Epoch 23/100\n",
            "35/35 [==============================] - 5s 155ms/step - loss: 164.8282 - categorical_accuracy: 0.0460 - val_loss: 223.4597 - val_categorical_accuracy: 0.0361\n",
            "Epoch 24/100\n",
            "35/35 [==============================] - 5s 157ms/step - loss: 686.0522 - categorical_accuracy: 0.0588 - val_loss: 103.2361 - val_categorical_accuracy: 0.0329\n",
            "Epoch 25/100\n",
            "35/35 [==============================] - 5s 157ms/step - loss: 61.8515 - categorical_accuracy: 0.0546 - val_loss: 64.2033 - val_categorical_accuracy: 0.0392\n",
            "Epoch 26/100\n",
            "35/35 [==============================] - 5s 155ms/step - loss: 50.9335 - categorical_accuracy: 0.0571 - val_loss: 84.3865 - val_categorical_accuracy: 0.0439\n",
            "Epoch 27/100\n",
            "35/35 [==============================] - 6s 158ms/step - loss: 156.2953 - categorical_accuracy: 0.0554 - val_loss: 135.8098 - val_categorical_accuracy: 0.0313\n",
            "Epoch 28/100\n",
            "35/35 [==============================] - 5s 156ms/step - loss: 32.9211 - categorical_accuracy: 0.0563 - val_loss: 39.3799 - val_categorical_accuracy: 0.0439\n",
            "Epoch 29/100\n",
            "35/35 [==============================] - 5s 156ms/step - loss: 76.7231 - categorical_accuracy: 0.0580 - val_loss: 165.1817 - val_categorical_accuracy: 0.0298\n",
            "Epoch 30/100\n",
            "35/35 [==============================] - 6s 158ms/step - loss: 168.5598 - categorical_accuracy: 0.0452 - val_loss: 4330.5381 - val_categorical_accuracy: 0.0235\n",
            "Epoch 31/100\n",
            "35/35 [==============================] - 6s 158ms/step - loss: 488.1989 - categorical_accuracy: 0.0298 - val_loss: 779.6429 - val_categorical_accuracy: 0.0204\n",
            "Epoch 32/100\n",
            "35/35 [==============================] - 6s 159ms/step - loss: 203.6610 - categorical_accuracy: 0.0315 - val_loss: 2135.7275 - val_categorical_accuracy: 0.0282\n",
            "Epoch 33/100\n",
            "35/35 [==============================] - 6s 158ms/step - loss: 704.8981 - categorical_accuracy: 0.0409 - val_loss: 1163.8684 - val_categorical_accuracy: 0.0408\n",
            "Epoch 34/100\n",
            "35/35 [==============================] - 5s 156ms/step - loss: 455.0153 - categorical_accuracy: 0.0563 - val_loss: 1696.8599 - val_categorical_accuracy: 0.0392\n",
            "Epoch 35/100\n",
            "35/35 [==============================] - 5s 155ms/step - loss: 812.4630 - categorical_accuracy: 0.0486 - val_loss: 616.5562 - val_categorical_accuracy: 0.0392\n",
            "Epoch 36/100\n",
            "35/35 [==============================] - 6s 159ms/step - loss: 528.9018 - categorical_accuracy: 0.0682 - val_loss: 411.0619 - val_categorical_accuracy: 0.0376\n",
            "Epoch 37/100\n",
            "35/35 [==============================] - 6s 158ms/step - loss: 472.5329 - categorical_accuracy: 0.0571 - val_loss: 825.3011 - val_categorical_accuracy: 0.0408\n",
            "Epoch 38/100\n",
            "35/35 [==============================] - 5s 157ms/step - loss: 185.0426 - categorical_accuracy: 0.0537 - val_loss: 617.0036 - val_categorical_accuracy: 0.0408\n",
            "Epoch 39/100\n",
            "35/35 [==============================] - 5s 156ms/step - loss: 203.3949 - categorical_accuracy: 0.0622 - val_loss: 387.1890 - val_categorical_accuracy: 0.0408\n",
            "Epoch 40/100\n",
            "35/35 [==============================] - 6s 159ms/step - loss: 79.8178 - categorical_accuracy: 0.0673 - val_loss: 386.0864 - val_categorical_accuracy: 0.0376\n",
            "Epoch 41/100\n",
            "35/35 [==============================] - 5s 156ms/step - loss: 72.4365 - categorical_accuracy: 0.0605 - val_loss: 117.7336 - val_categorical_accuracy: 0.0361\n",
            "Epoch 42/100\n",
            "35/35 [==============================] - 5s 155ms/step - loss: 75.2907 - categorical_accuracy: 0.0571 - val_loss: 77.7571 - val_categorical_accuracy: 0.0408\n",
            "Epoch 43/100\n",
            "35/35 [==============================] - 5s 157ms/step - loss: 25.5921 - categorical_accuracy: 0.0708 - val_loss: 27.5366 - val_categorical_accuracy: 0.0361\n",
            "Epoch 44/100\n",
            "35/35 [==============================] - 5s 155ms/step - loss: 13.5543 - categorical_accuracy: 0.0597 - val_loss: 35.6696 - val_categorical_accuracy: 0.0282\n",
            "Epoch 45/100\n",
            "35/35 [==============================] - 5s 152ms/step - loss: 184.3071 - categorical_accuracy: 0.0307 - val_loss: 197.6683 - val_categorical_accuracy: 0.0141\n",
            "Epoch 46/100\n",
            "35/35 [==============================] - 5s 157ms/step - loss: 366.5497 - categorical_accuracy: 0.0452 - val_loss: 180.3006 - val_categorical_accuracy: 0.0188\n",
            "Epoch 47/100\n",
            "35/35 [==============================] - 5s 157ms/step - loss: 110.0884 - categorical_accuracy: 0.0384 - val_loss: 169.4064 - val_categorical_accuracy: 0.0282\n",
            "Epoch 48/100\n",
            "35/35 [==============================] - 5s 157ms/step - loss: 38.1920 - categorical_accuracy: 0.0392 - val_loss: 462.9703 - val_categorical_accuracy: 0.0219\n",
            "Epoch 49/100\n",
            "35/35 [==============================] - 5s 157ms/step - loss: 27.5582 - categorical_accuracy: 0.0409 - val_loss: 291.4444 - val_categorical_accuracy: 0.0313\n",
            "Epoch 50/100\n",
            "35/35 [==============================] - 5s 155ms/step - loss: 64.3489 - categorical_accuracy: 0.0460 - val_loss: 33.8710 - val_categorical_accuracy: 0.0251\n",
            "Epoch 51/100\n",
            "35/35 [==============================] - 6s 159ms/step - loss: 65.9032 - categorical_accuracy: 0.0350 - val_loss: 1354.3368 - val_categorical_accuracy: 0.0251\n",
            "Epoch 52/100\n",
            "35/35 [==============================] - 5s 156ms/step - loss: 34.0584 - categorical_accuracy: 0.0452 - val_loss: 61.2991 - val_categorical_accuracy: 0.0251\n",
            "Epoch 53/100\n",
            "35/35 [==============================] - 5s 156ms/step - loss: 16.0075 - categorical_accuracy: 0.0264 - val_loss: 23.6236 - val_categorical_accuracy: 0.0266\n",
            "Epoch 54/100\n",
            "35/35 [==============================] - 6s 158ms/step - loss: 19.6142 - categorical_accuracy: 0.0375 - val_loss: 39.6865 - val_categorical_accuracy: 0.0408\n",
            "Epoch 55/100\n",
            "35/35 [==============================] - 5s 158ms/step - loss: 34.9394 - categorical_accuracy: 0.0392 - val_loss: 53.1319 - val_categorical_accuracy: 0.0204\n",
            "Epoch 56/100\n",
            "35/35 [==============================] - 5s 157ms/step - loss: 67.6387 - categorical_accuracy: 0.0426 - val_loss: 97.2637 - val_categorical_accuracy: 0.0298\n",
            "Epoch 57/100\n",
            "35/35 [==============================] - 5s 156ms/step - loss: 21.8315 - categorical_accuracy: 0.0537 - val_loss: 48.9962 - val_categorical_accuracy: 0.0266\n",
            "Epoch 58/100\n",
            "35/35 [==============================] - 5s 155ms/step - loss: 9.2370 - categorical_accuracy: 0.0443 - val_loss: 891.7888 - val_categorical_accuracy: 0.0329\n",
            "Epoch 59/100\n",
            "35/35 [==============================] - 5s 158ms/step - loss: 21.5211 - categorical_accuracy: 0.0554 - val_loss: 5.0701 - val_categorical_accuracy: 0.0439\n",
            "Epoch 60/100\n",
            "35/35 [==============================] - 5s 157ms/step - loss: 3.6169 - categorical_accuracy: 0.0546 - val_loss: 2.8486 - val_categorical_accuracy: 0.0423\n",
            "Epoch 61/100\n",
            "35/35 [==============================] - 5s 155ms/step - loss: 180.7097 - categorical_accuracy: 0.0546 - val_loss: 23239.0820 - val_categorical_accuracy: 0.0423\n",
            "Epoch 62/100\n",
            "35/35 [==============================] - 6s 158ms/step - loss: 1.7977 - categorical_accuracy: 0.0546 - val_loss: 2.0693 - val_categorical_accuracy: 0.0423\n",
            "Epoch 63/100\n",
            "35/35 [==============================] - 6s 161ms/step - loss: 1.7912 - categorical_accuracy: 0.0546 - val_loss: 2.0706 - val_categorical_accuracy: 0.0423\n",
            "Epoch 64/100\n",
            "35/35 [==============================] - 5s 155ms/step - loss: 1.7892 - categorical_accuracy: 0.0546 - val_loss: 2.0719 - val_categorical_accuracy: 0.0423\n",
            "Epoch 65/100\n",
            "35/35 [==============================] - 5s 155ms/step - loss: 1.7871 - categorical_accuracy: 0.0546 - val_loss: 2.0732 - val_categorical_accuracy: 0.0423\n",
            "Epoch 66/100\n",
            "35/35 [==============================] - 5s 155ms/step - loss: 1.7852 - categorical_accuracy: 0.0546 - val_loss: 2.0744 - val_categorical_accuracy: 0.0423\n",
            "Epoch 67/100\n",
            "35/35 [==============================] - 5s 155ms/step - loss: 1.7832 - categorical_accuracy: 0.0546 - val_loss: 2.0757 - val_categorical_accuracy: 0.0423\n",
            "Epoch 68/100\n",
            "35/35 [==============================] - 6s 158ms/step - loss: 1.7813 - categorical_accuracy: 0.0546 - val_loss: 2.0769 - val_categorical_accuracy: 0.0423\n",
            "Epoch 69/100\n",
            "35/35 [==============================] - 6s 159ms/step - loss: 1.7795 - categorical_accuracy: 0.0546 - val_loss: 2.0782 - val_categorical_accuracy: 0.0423\n",
            "Epoch 70/100\n",
            "35/35 [==============================] - 5s 158ms/step - loss: 1.7776 - categorical_accuracy: 0.0546 - val_loss: 2.0794 - val_categorical_accuracy: 0.0423\n",
            "Epoch 71/100\n",
            "35/35 [==============================] - 6s 159ms/step - loss: 1.7758 - categorical_accuracy: 0.0546 - val_loss: 2.0807 - val_categorical_accuracy: 0.0423\n",
            "Epoch 72/100\n",
            "35/35 [==============================] - 6s 158ms/step - loss: 1.7741 - categorical_accuracy: 0.0546 - val_loss: 2.0819 - val_categorical_accuracy: 0.0423\n",
            "Epoch 73/100\n",
            "35/35 [==============================] - 5s 158ms/step - loss: 1.7723 - categorical_accuracy: 0.0546 - val_loss: 2.0831 - val_categorical_accuracy: 0.0423\n",
            "Epoch 74/100\n",
            "35/35 [==============================] - 5s 154ms/step - loss: 1.7707 - categorical_accuracy: 0.0546 - val_loss: 2.0844 - val_categorical_accuracy: 0.0423\n",
            "Epoch 75/100\n",
            "35/35 [==============================] - 5s 155ms/step - loss: 1.7690 - categorical_accuracy: 0.0546 - val_loss: 2.0856 - val_categorical_accuracy: 0.0423\n",
            "Epoch 76/100\n",
            "35/35 [==============================] - 5s 154ms/step - loss: 1.7674 - categorical_accuracy: 0.0546 - val_loss: 2.0868 - val_categorical_accuracy: 0.0423\n",
            "Epoch 77/100\n",
            "35/35 [==============================] - 5s 157ms/step - loss: 1.7657 - categorical_accuracy: 0.0546 - val_loss: 2.0881 - val_categorical_accuracy: 0.0423\n",
            "Epoch 78/100\n",
            "35/35 [==============================] - 5s 157ms/step - loss: 1.7642 - categorical_accuracy: 0.0546 - val_loss: 2.0893 - val_categorical_accuracy: 0.0423\n",
            "Epoch 79/100\n",
            "35/35 [==============================] - 6s 158ms/step - loss: 1.7626 - categorical_accuracy: 0.0546 - val_loss: 2.0906 - val_categorical_accuracy: 0.0423\n",
            "Epoch 80/100\n",
            "35/35 [==============================] - 6s 160ms/step - loss: 1.7611 - categorical_accuracy: 0.0546 - val_loss: 2.0918 - val_categorical_accuracy: 0.0423\n",
            "Epoch 81/100\n",
            "35/35 [==============================] - 5s 154ms/step - loss: 1.7596 - categorical_accuracy: 0.0546 - val_loss: 2.0930 - val_categorical_accuracy: 0.0423\n",
            "Epoch 82/100\n",
            "35/35 [==============================] - 5s 157ms/step - loss: 1.7581 - categorical_accuracy: 0.0546 - val_loss: 2.0943 - val_categorical_accuracy: 0.0423\n",
            "Epoch 83/100\n",
            "35/35 [==============================] - 5s 155ms/step - loss: 1.7567 - categorical_accuracy: 0.0546 - val_loss: 2.0956 - val_categorical_accuracy: 0.0423\n",
            "Epoch 84/100\n",
            "35/35 [==============================] - 5s 155ms/step - loss: 1.7553 - categorical_accuracy: 0.0546 - val_loss: 2.0968 - val_categorical_accuracy: 0.0423\n",
            "Epoch 85/100\n",
            "35/35 [==============================] - 5s 156ms/step - loss: 1.7539 - categorical_accuracy: 0.0546 - val_loss: 2.0981 - val_categorical_accuracy: 0.0423\n",
            "Epoch 86/100\n",
            "35/35 [==============================] - 5s 156ms/step - loss: 1.7525 - categorical_accuracy: 0.0546 - val_loss: 2.0994 - val_categorical_accuracy: 0.0423\n",
            "Epoch 87/100\n",
            "35/35 [==============================] - 6s 159ms/step - loss: 1.7512 - categorical_accuracy: 0.0546 - val_loss: 2.1006 - val_categorical_accuracy: 0.0423\n",
            "Epoch 88/100\n",
            "35/35 [==============================] - 5s 157ms/step - loss: 1.7499 - categorical_accuracy: 0.0546 - val_loss: 2.1019 - val_categorical_accuracy: 0.0423\n",
            "Epoch 89/100\n",
            "35/35 [==============================] - 5s 153ms/step - loss: 1.7486 - categorical_accuracy: 0.0546 - val_loss: 2.1032 - val_categorical_accuracy: 0.0423\n",
            "Epoch 90/100\n",
            "35/35 [==============================] - 6s 158ms/step - loss: 1.7473 - categorical_accuracy: 0.0546 - val_loss: 2.1045 - val_categorical_accuracy: 0.0423\n",
            "Epoch 91/100\n",
            "35/35 [==============================] - 5s 154ms/step - loss: 1.7460 - categorical_accuracy: 0.0546 - val_loss: 2.1058 - val_categorical_accuracy: 0.0423\n",
            "Epoch 92/100\n",
            "35/35 [==============================] - 5s 156ms/step - loss: 1.7448 - categorical_accuracy: 0.0546 - val_loss: 2.1071 - val_categorical_accuracy: 0.0423\n",
            "Epoch 93/100\n",
            "35/35 [==============================] - 5s 157ms/step - loss: 1.7436 - categorical_accuracy: 0.0546 - val_loss: 2.1084 - val_categorical_accuracy: 0.0423\n",
            "Epoch 94/100\n",
            "35/35 [==============================] - 5s 156ms/step - loss: 1.7424 - categorical_accuracy: 0.0546 - val_loss: 2.1097 - val_categorical_accuracy: 0.0423\n",
            "Epoch 95/100\n",
            "35/35 [==============================] - 5s 155ms/step - loss: 1.7412 - categorical_accuracy: 0.0546 - val_loss: 2.1110 - val_categorical_accuracy: 0.0423\n",
            "Epoch 96/100\n",
            "35/35 [==============================] - 5s 154ms/step - loss: 1.7401 - categorical_accuracy: 0.0546 - val_loss: 2.1123 - val_categorical_accuracy: 0.0423\n",
            "Epoch 97/100\n",
            "35/35 [==============================] - 5s 157ms/step - loss: 1.7389 - categorical_accuracy: 0.0546 - val_loss: 2.1137 - val_categorical_accuracy: 0.0423\n",
            "Epoch 98/100\n",
            "35/35 [==============================] - 5s 155ms/step - loss: 1.7378 - categorical_accuracy: 0.0546 - val_loss: 2.1150 - val_categorical_accuracy: 0.0423\n",
            "Epoch 99/100\n",
            "35/35 [==============================] - 5s 154ms/step - loss: 1.7367 - categorical_accuracy: 0.0546 - val_loss: 2.1163 - val_categorical_accuracy: 0.0423\n",
            "Epoch 100/100\n",
            "35/35 [==============================] - 5s 155ms/step - loss: 1.7356 - categorical_accuracy: 0.0546 - val_loss: 2.1177 - val_categorical_accuracy: 0.0423\n",
            "Model: \"sequential_6\"\n",
            "_________________________________________________________________\n",
            " Layer (type)                Output Shape              Param #   \n",
            "=================================================================\n",
            " masking_5 (Masking)         (None, 93, 1080)          0         \n",
            "                                                                 \n",
            " lstm_10 (LSTM)              (None, 93, 128)           619008    \n",
            "                                                                 \n",
            " lstm_11 (LSTM)              (None, 93, 64)            49408     \n",
            "                                                                 \n",
            " dense_6 (Dense)             (None, 93, 199)           12935     \n",
            "                                                                 \n",
            "=================================================================\n",
            "Total params: 681,351\n",
            "Trainable params: 681,351\n",
            "Non-trainable params: 0\n",
            "_________________________________________________________________\n"
          ]
        }
      ],
      "source": [
        "model2 = Sequential()\n",
        "model2.add(tf.keras.layers.Masking(mask_value=-1.,\n",
        "                                  input_shape=(len(X_train2[0]), len(X_train2[0][0]))))\n",
        "model2.add(LSTM(128, return_sequences=True, activation='relu',))\n",
        "model2.add(LSTM(64, return_sequences=True, activation='relu'))\n",
        "model2.add(Dense(len(label_map1), activation='softmax'))\n",
        "model2.compile(optimizer='Adam', loss='categorical_crossentropy', metrics=['categorical_accuracy'])\n",
        "history2 = model2.fit(np.array(X_train2), np.array(y_train2), validation_split=0.33, epochs=100, batch_size=1,verbose=1, shuffle=False)\n",
        "model2.summary()\n",
        "\n",
        "model2.save(\"model2\")\n",
        "with open('trainHistory2Dict', 'wb') as file_pi:\n",
        "    pickle.dump(history2.history, file_pi)"
      ]
    },
    {
      "cell_type": "code",
      "execution_count": null,
      "metadata": {
        "colab": {
          "base_uri": "https://localhost:8080/"
        },
        "id": "ms7Y8fHEYVUz",
        "outputId": "05f9ea5a-99bc-404e-d56f-d6622b1d7e48"
      },
      "outputs": [
        {
          "output_type": "stream",
          "name": "stdout",
          "text": [
            "dict_keys(['loss', 'categorical_accuracy', 'val_loss', 'val_categorical_accuracy'])\n"
          ]
        }
      ],
      "source": [
        "print(history2.history.keys())"
      ]
    },
    {
      "cell_type": "code",
      "execution_count": null,
      "metadata": {
        "colab": {
          "base_uri": "https://localhost:8080/",
          "height": 591
        },
        "id": "FfwDME7pSgCn",
        "outputId": "9e0abb54-fee0-48a7-fe34-19d1d2f193cc"
      },
      "outputs": [
        {
          "output_type": "display_data",
          "data": {
            "text/plain": [
              "<Figure size 432x288 with 1 Axes>"
            ],
            "image/png": "[encoded data removed]"
          },
          "metadata": {
            "needs_background": "light"
          }
        },
        {
          "output_type": "display_data",
          "data": {
            "text/plain": [
              "<Figure size 432x288 with 1 Axes>"
            ],
            "image/png": "[encoded data removed]"
          },
          "metadata": {
            "needs_background": "light"
          }
        },
        {
          "output_type": "display_data",
          "data": {
            "text/plain": [
              "<Figure size 432x288 with 0 Axes>"
            ]
          },
          "metadata": {}
        }
      ],
      "source": [
        "plt.plot(history2.history['categorical_accuracy'])\n",
        "plt.plot(history2.history['val_categorical_accuracy'])\n",
        "plt.title('model accuracy')\n",
        "plt.ylabel('accuracy')\n",
        "plt.xlabel('epoch')\n",
        "plt.legend(['train', 'val'], loc='upper left')\n",
        "plt.savefig(\"m2Accuracy.png\")\n",
        "plt.show()\n",
        "plt.clf()\n",
        "\n",
        "plt.plot(history2.history['loss'])\n",
        "plt.plot(history2.history['val_loss'])\n",
        "plt.title('model loss')\n",
        "plt.ylabel('loss')\n",
        "plt.xlabel('epoch')\n",
        "plt.legend(['train', 'val'], loc='upper left')\n",
        "plt.savefig(\"m2Loss.png\")\n",
        "plt.show()\n",
        "plt.clf()"
      ]
    },
    {
      "cell_type": "code",
      "source": [
        "len(label_map1)"
      ],
      "metadata": {
        "colab": {
          "base_uri": "https://localhost:8080/"
        },
        "id": "NiLoie1U1rX-",
        "outputId": "edb9b142-9ee2-4203-c89e-e1a18c991281"
      },
      "execution_count": null,
      "outputs": [
        {
          "output_type": "execute_result",
          "data": {
            "text/plain": [
              "199"
            ]
          },
          "metadata": {},
          "execution_count": 84
        }
      ]
    },
    {
      "cell_type": "code",
      "execution_count": null,
      "metadata": {
        "id": "D7wbx71EBJ0f",
        "colab": {
          "base_uri": "https://localhost:8080/"
        },
        "outputId": "9cf5b5a1-214d-4a61-8d96-132b4b091ded"
      },
      "outputs": [
        {
          "output_type": "stream",
          "name": "stdout",
          "text": [
            "1/1 [==============================] - 0s 391ms/step\n"
          ]
        }
      ],
      "source": [
        "prediction2 = model2.predict(X_test2)\n",
        "tempP2 = prediction2.argmax(axis=-2)\n",
        "\n",
        "truth2 = np.array(y_test2)\n",
        "tempT2 = truth2.argmax(axis=-1)\n",
        "\n",
        "TruePredicitions2 = []\n",
        "groundTruths2 = []\n",
        "\n",
        "for P, T in zip(tempP2, tempT2):\n",
        "\n",
        "  sequenceP = \"\"\n",
        "  currentSignId = len(label_map2) + 2\n",
        "  for valueP, valueT in zip(P, T):\n",
        "    if valueP == len(label_map1)-1:\n",
        "      continue\n",
        "    if valueT == len(label_map1)-1:\n",
        "      continue\n",
        "    if(currentSignId != valueP) :\n",
        "      sequenceP = sequenceP + label_map1.get(valueP).replace('\\'', '').replace('\\\"', '').replace(' ', '') + \" \"\n",
        "      currentSignId = valueP\n",
        "  sequenceP = normalizeString(sequenceP)\n",
        "  TruePredicitions2.append(sequenceP)\n",
        "\n",
        "  for L, translated in zip(Labels, translatedSequences):\n",
        "    tempTruth = list(filter(lambda a: a != len(label_map1)-1, T))\n",
        "    if tempTruth == L:\n",
        "      groundTruths2.append(translated)\n",
        "      break; "
      ]
    },
    {
      "cell_type": "code",
      "source": [
        "TruePredicitions2"
      ],
      "metadata": {
        "colab": {
          "base_uri": "https://localhost:8080/"
        },
        "id": "DX0adYGz9yXK",
        "outputId": "0f4104da-92ea-45f1-d78d-eac29d13adae"
      },
      "execution_count": null,
      "outputs": [
        {
          "output_type": "execute_result",
          "data": {
            "text/plain": [
              "['car', 'car', 'car']"
            ]
          },
          "metadata": {},
          "execution_count": 86
        }
      ]
    },
    {
      "cell_type": "code",
      "source": [
        "groundTruths2"
      ],
      "metadata": {
        "colab": {
          "base_uri": "https://localhost:8080/"
        },
        "id": "7ckgqCgF9zI3",
        "outputId": "30a3a047-ff47-49d1-b7f2-9274c68f4f57"
      },
      "execution_count": null,
      "outputs": [
        {
          "output_type": "execute_result",
          "data": {
            "text/plain": [
              "[' the car didn t break down . ',\n",
              " ' the car is broken . ',\n",
              " ' the set up of the two categories was based on edward hall s analysis from the idea he presented years ago . ']"
            ]
          },
          "metadata": {},
          "execution_count": 87
        }
      ]
    },
    {
      "cell_type": "markdown",
      "source": [
        "#Model 3"
      ],
      "metadata": {
        "id": "30BRrvfNU7wQ"
      }
    },
    {
      "cell_type": "code",
      "execution_count": null,
      "metadata": {
        "id": "gBEvMbCJ25ap"
      },
      "outputs": [],
      "source": [
        "padded_inputs3 = tf.keras.preprocessing.sequence.pad_sequences(\n",
        "    AllFrames, padding=\"post\", value=-1\n",
        ")\n",
        "\n",
        "padded_outputs3 = tf.keras.preprocessing.sequence.pad_sequences(\n",
        "    Labels, padding=\"post\", value=-1\n",
        ")\n",
        "\n",
        "trueInputs3 = np.array(padded_inputs3).reshape(len(padded_inputs3), len(padded_inputs3[0]), 240, 320, 1)\n",
        "\n",
        "trueOutputs3 = []\n",
        "for sequence in padded_outputs3:\n",
        "  newSeq = []\n",
        "  for value in sequence:\n",
        "      newProbability = [0.] * len(label_map1)\n",
        "      newProbability[value] = 1.0\n",
        "      newSeq.append(newProbability)\n",
        "  trueOutputs3.append(newSeq)\n",
        "\n"
      ]
    },
    {
      "cell_type": "code",
      "source": [
        "X_train3, X_test3, y_train3, y_test3 = train_test_split(trueInputs3, trueOutputs3, test_size=0.05, random_state=42)"
      ],
      "metadata": {
        "id": "FtH7RLlatyn_"
      },
      "execution_count": null,
      "outputs": []
    },
    {
      "cell_type": "code",
      "execution_count": null,
      "metadata": {
        "id": "1fRXeo74BKsr",
        "colab": {
          "base_uri": "https://localhost:8080/"
        },
        "outputId": "d4db9cdc-862b-4d5d-d227-91078b6b85a2"
      },
      "outputs": [
        {
          "output_type": "stream",
          "name": "stdout",
          "text": [
            "Epoch 1/100\n",
            "35/35 [==============================] - 10s 241ms/step - loss: 4.8125 - categorical_accuracy: 0.6363 - val_loss: 4.5914 - val_categorical_accuracy: 0.6440\n",
            "Epoch 2/100\n",
            "35/35 [==============================] - 8s 230ms/step - loss: 4.2025 - categorical_accuracy: 0.7057 - val_loss: 4.4944 - val_categorical_accuracy: 0.6434\n",
            "Epoch 3/100\n",
            "35/35 [==============================] - 8s 232ms/step - loss: 2.7884 - categorical_accuracy: 0.7502 - val_loss: 1.9124 - val_categorical_accuracy: 0.6493\n",
            "Epoch 4/100\n",
            "35/35 [==============================] - 8s 234ms/step - loss: 1.3581 - categorical_accuracy: 0.7601 - val_loss: 1.9834 - val_categorical_accuracy: 0.6505\n",
            "Epoch 5/100\n",
            "35/35 [==============================] - 8s 234ms/step - loss: 1.2797 - categorical_accuracy: 0.7680 - val_loss: 2.0110 - val_categorical_accuracy: 0.6505\n",
            "Epoch 6/100\n",
            "35/35 [==============================] - 8s 232ms/step - loss: 1.2933 - categorical_accuracy: 0.7656 - val_loss: 2.0449 - val_categorical_accuracy: 0.6493\n",
            "Epoch 7/100\n",
            "35/35 [==============================] - 8s 232ms/step - loss: 1.2603 - categorical_accuracy: 0.7671 - val_loss: 2.1913 - val_categorical_accuracy: 0.6476\n",
            "Epoch 8/100\n",
            "35/35 [==============================] - 8s 231ms/step - loss: 1.2181 - categorical_accuracy: 0.7742 - val_loss: 2.2372 - val_categorical_accuracy: 0.6487\n",
            "Epoch 9/100\n",
            "35/35 [==============================] - 8s 233ms/step - loss: 1.2144 - categorical_accuracy: 0.7739 - val_loss: 2.5095 - val_categorical_accuracy: 0.6470\n",
            "Epoch 10/100\n",
            "35/35 [==============================] - 8s 232ms/step - loss: 1.4049 - categorical_accuracy: 0.7370 - val_loss: 1.9503 - val_categorical_accuracy: 0.6458\n",
            "Epoch 11/100\n",
            "35/35 [==============================] - 8s 234ms/step - loss: 1.3247 - categorical_accuracy: 0.7619 - val_loss: 1.9525 - val_categorical_accuracy: 0.6511\n",
            "Epoch 12/100\n",
            "35/35 [==============================] - 8s 234ms/step - loss: 1.2726 - categorical_accuracy: 0.7733 - val_loss: 1.9782 - val_categorical_accuracy: 0.6517\n",
            "Epoch 13/100\n",
            "35/35 [==============================] - 8s 230ms/step - loss: 1.2521 - categorical_accuracy: 0.7727 - val_loss: 2.0101 - val_categorical_accuracy: 0.6529\n",
            "Epoch 14/100\n",
            "35/35 [==============================] - 8s 232ms/step - loss: 1.2284 - categorical_accuracy: 0.7748 - val_loss: 2.0407 - val_categorical_accuracy: 0.6511\n",
            "Epoch 15/100\n",
            "35/35 [==============================] - 8s 232ms/step - loss: 1.2158 - categorical_accuracy: 0.7763 - val_loss: 2.1022 - val_categorical_accuracy: 0.6487\n",
            "Epoch 16/100\n",
            "35/35 [==============================] - 8s 234ms/step - loss: 1.2004 - categorical_accuracy: 0.7782 - val_loss: 2.1204 - val_categorical_accuracy: 0.6499\n",
            "Epoch 17/100\n",
            "35/35 [==============================] - 8s 231ms/step - loss: 1.1919 - categorical_accuracy: 0.7785 - val_loss: 2.1409 - val_categorical_accuracy: 0.6499\n",
            "Epoch 18/100\n",
            "35/35 [==============================] - 8s 231ms/step - loss: 1.5197 - categorical_accuracy: 0.7527 - val_loss: 4.6195 - val_categorical_accuracy: 0.6344\n",
            "Epoch 19/100\n",
            "35/35 [==============================] - 8s 231ms/step - loss: 1.2752 - categorical_accuracy: 0.7994 - val_loss: 4.3986 - val_categorical_accuracy: 0.6332\n",
            "Epoch 20/100\n",
            "35/35 [==============================] - 8s 234ms/step - loss: 0.3239 - categorical_accuracy: 0.9343 - val_loss: 4.8077 - val_categorical_accuracy: 0.6404\n",
            "Epoch 21/100\n",
            "35/35 [==============================] - 8s 232ms/step - loss: 0.1181 - categorical_accuracy: 0.9892 - val_loss: 5.0234 - val_categorical_accuracy: 0.6416\n",
            "Epoch 22/100\n",
            "35/35 [==============================] - 8s 235ms/step - loss: 0.0598 - categorical_accuracy: 0.9972 - val_loss: 5.3542 - val_categorical_accuracy: 0.6398\n",
            "Epoch 23/100\n",
            "35/35 [==============================] - 8s 232ms/step - loss: 0.0326 - categorical_accuracy: 0.9978 - val_loss: 5.6779 - val_categorical_accuracy: 0.6404\n",
            "Epoch 24/100\n",
            "35/35 [==============================] - 8s 233ms/step - loss: 0.0202 - categorical_accuracy: 0.9982 - val_loss: 6.2553 - val_categorical_accuracy: 0.6416\n",
            "Epoch 25/100\n",
            "35/35 [==============================] - 8s 232ms/step - loss: 0.0098 - categorical_accuracy: 0.9991 - val_loss: 6.2497 - val_categorical_accuracy: 0.6422\n",
            "Epoch 26/100\n",
            "35/35 [==============================] - 8s 233ms/step - loss: 0.0059 - categorical_accuracy: 0.9994 - val_loss: 6.0826 - val_categorical_accuracy: 0.6428\n",
            "Epoch 27/100\n",
            "35/35 [==============================] - 8s 233ms/step - loss: 0.0109 - categorical_accuracy: 0.9985 - val_loss: 6.2051 - val_categorical_accuracy: 0.6410\n",
            "Epoch 28/100\n",
            "35/35 [==============================] - 8s 235ms/step - loss: 0.0074 - categorical_accuracy: 0.9994 - val_loss: 6.3706 - val_categorical_accuracy: 0.6404\n",
            "Epoch 29/100\n",
            "35/35 [==============================] - 8s 231ms/step - loss: 0.0014 - categorical_accuracy: 1.0000 - val_loss: 6.3965 - val_categorical_accuracy: 0.6410\n",
            "Epoch 30/100\n",
            "35/35 [==============================] - 8s 233ms/step - loss: 0.0011 - categorical_accuracy: 1.0000 - val_loss: 6.4638 - val_categorical_accuracy: 0.6398\n",
            "Epoch 31/100\n",
            "35/35 [==============================] - 8s 230ms/step - loss: 8.3772e-04 - categorical_accuracy: 1.0000 - val_loss: 6.4933 - val_categorical_accuracy: 0.6422\n",
            "Epoch 32/100\n",
            "35/35 [==============================] - 8s 233ms/step - loss: 6.6113e-04 - categorical_accuracy: 1.0000 - val_loss: 6.5168 - val_categorical_accuracy: 0.6416\n",
            "Epoch 33/100\n",
            "35/35 [==============================] - 8s 232ms/step - loss: 5.4298e-04 - categorical_accuracy: 1.0000 - val_loss: 6.5434 - val_categorical_accuracy: 0.6416\n",
            "Epoch 34/100\n",
            "35/35 [==============================] - 8s 235ms/step - loss: 4.4945e-04 - categorical_accuracy: 1.0000 - val_loss: 6.5641 - val_categorical_accuracy: 0.6410\n",
            "Epoch 35/100\n",
            "35/35 [==============================] - 8s 232ms/step - loss: 3.7637e-04 - categorical_accuracy: 1.0000 - val_loss: 6.5844 - val_categorical_accuracy: 0.6410\n",
            "Epoch 36/100\n",
            "35/35 [==============================] - 8s 231ms/step - loss: 3.2331e-04 - categorical_accuracy: 1.0000 - val_loss: 6.5970 - val_categorical_accuracy: 0.6410\n",
            "Epoch 37/100\n",
            "35/35 [==============================] - 8s 232ms/step - loss: 2.9859e-04 - categorical_accuracy: 1.0000 - val_loss: 6.6180 - val_categorical_accuracy: 0.6416\n",
            "Epoch 38/100\n",
            "35/35 [==============================] - 8s 232ms/step - loss: 2.4553e-04 - categorical_accuracy: 1.0000 - val_loss: 6.6413 - val_categorical_accuracy: 0.6416\n",
            "Epoch 39/100\n",
            "35/35 [==============================] - 8s 232ms/step - loss: 2.1370e-04 - categorical_accuracy: 1.0000 - val_loss: 6.6477 - val_categorical_accuracy: 0.6416\n",
            "Epoch 40/100\n",
            "35/35 [==============================] - 8s 233ms/step - loss: 1.9077e-04 - categorical_accuracy: 1.0000 - val_loss: 6.6622 - val_categorical_accuracy: 0.6416\n",
            "Epoch 41/100\n",
            "35/35 [==============================] - 8s 230ms/step - loss: 1.6941e-04 - categorical_accuracy: 1.0000 - val_loss: 6.6760 - val_categorical_accuracy: 0.6410\n",
            "Epoch 42/100\n",
            "35/35 [==============================] - 8s 234ms/step - loss: 1.5258e-04 - categorical_accuracy: 1.0000 - val_loss: 6.6861 - val_categorical_accuracy: 0.6410\n",
            "Epoch 43/100\n",
            "35/35 [==============================] - 8s 231ms/step - loss: 1.3769e-04 - categorical_accuracy: 1.0000 - val_loss: 6.6989 - val_categorical_accuracy: 0.6410\n",
            "Epoch 44/100\n",
            "35/35 [==============================] - 8s 233ms/step - loss: 1.2875e-04 - categorical_accuracy: 1.0000 - val_loss: 6.7069 - val_categorical_accuracy: 0.6404\n",
            "Epoch 45/100\n",
            "35/35 [==============================] - 8s 231ms/step - loss: 1.1443e-04 - categorical_accuracy: 1.0000 - val_loss: 6.7207 - val_categorical_accuracy: 0.6404\n",
            "Epoch 46/100\n",
            "35/35 [==============================] - 8s 234ms/step - loss: 1.0792e-04 - categorical_accuracy: 1.0000 - val_loss: 6.7249 - val_categorical_accuracy: 0.6398\n",
            "Epoch 47/100\n",
            "35/35 [==============================] - 8s 233ms/step - loss: 9.9949e-05 - categorical_accuracy: 1.0000 - val_loss: 6.7321 - val_categorical_accuracy: 0.6398\n",
            "Epoch 48/100\n",
            "35/35 [==============================] - 8s 234ms/step - loss: 9.2607e-05 - categorical_accuracy: 1.0000 - val_loss: 6.7277 - val_categorical_accuracy: 0.6398\n",
            "Epoch 49/100\n",
            "35/35 [==============================] - 8s 232ms/step - loss: 8.4746e-05 - categorical_accuracy: 1.0000 - val_loss: 6.7496 - val_categorical_accuracy: 0.6398\n",
            "Epoch 50/100\n",
            "35/35 [==============================] - 8s 234ms/step - loss: 7.7599e-05 - categorical_accuracy: 1.0000 - val_loss: 6.7647 - val_categorical_accuracy: 0.6392\n",
            "Epoch 51/100\n",
            "35/35 [==============================] - 8s 233ms/step - loss: 7.1295e-05 - categorical_accuracy: 1.0000 - val_loss: 6.7668 - val_categorical_accuracy: 0.6392\n",
            "Epoch 52/100\n",
            "35/35 [==============================] - 8s 233ms/step - loss: 6.6329e-05 - categorical_accuracy: 1.0000 - val_loss: 6.7543 - val_categorical_accuracy: 0.6398\n",
            "Epoch 53/100\n",
            "35/35 [==============================] - 8s 233ms/step - loss: 6.2148e-05 - categorical_accuracy: 1.0000 - val_loss: 6.7748 - val_categorical_accuracy: 0.6392\n",
            "Epoch 54/100\n",
            "35/35 [==============================] - 8s 233ms/step - loss: 5.7376e-05 - categorical_accuracy: 1.0000 - val_loss: 6.7754 - val_categorical_accuracy: 0.6392\n",
            "Epoch 55/100\n",
            "35/35 [==============================] - 8s 234ms/step - loss: 5.3632e-05 - categorical_accuracy: 1.0000 - val_loss: 6.7799 - val_categorical_accuracy: 0.6398\n",
            "Epoch 56/100\n",
            "35/35 [==============================] - 8s 234ms/step - loss: 4.9853e-05 - categorical_accuracy: 1.0000 - val_loss: 6.7851 - val_categorical_accuracy: 0.6398\n",
            "Epoch 57/100\n",
            "35/35 [==============================] - 8s 230ms/step - loss: 4.7420e-05 - categorical_accuracy: 1.0000 - val_loss: 6.7849 - val_categorical_accuracy: 0.6404\n",
            "Epoch 58/100\n",
            "35/35 [==============================] - 8s 235ms/step - loss: 4.5581e-05 - categorical_accuracy: 1.0000 - val_loss: 6.7889 - val_categorical_accuracy: 0.6404\n",
            "Epoch 59/100\n",
            "35/35 [==============================] - 8s 232ms/step - loss: 4.2970e-05 - categorical_accuracy: 1.0000 - val_loss: 6.7959 - val_categorical_accuracy: 0.6404\n",
            "Epoch 60/100\n",
            "35/35 [==============================] - 8s 231ms/step - loss: 4.0595e-05 - categorical_accuracy: 1.0000 - val_loss: 6.8037 - val_categorical_accuracy: 0.6404\n",
            "Epoch 61/100\n",
            "35/35 [==============================] - 8s 232ms/step - loss: 3.8069e-05 - categorical_accuracy: 1.0000 - val_loss: 6.8096 - val_categorical_accuracy: 0.6404\n",
            "Epoch 62/100\n",
            "35/35 [==============================] - 8s 232ms/step - loss: 3.6087e-05 - categorical_accuracy: 1.0000 - val_loss: 6.8085 - val_categorical_accuracy: 0.6410\n",
            "Epoch 63/100\n",
            "35/35 [==============================] - 8s 233ms/step - loss: 3.4082e-05 - categorical_accuracy: 1.0000 - val_loss: 6.7987 - val_categorical_accuracy: 0.6416\n",
            "Epoch 64/100\n",
            "35/35 [==============================] - 8s 232ms/step - loss: 3.1871e-05 - categorical_accuracy: 1.0000 - val_loss: 6.8092 - val_categorical_accuracy: 0.6422\n",
            "Epoch 65/100\n",
            "35/35 [==============================] - 8s 232ms/step - loss: 3.0944e-05 - categorical_accuracy: 1.0000 - val_loss: 6.8099 - val_categorical_accuracy: 0.6404\n",
            "Epoch 66/100\n",
            "35/35 [==============================] - 8s 233ms/step - loss: 3.1366e-05 - categorical_accuracy: 1.0000 - val_loss: 6.8113 - val_categorical_accuracy: 0.6404\n",
            "Epoch 67/100\n",
            "35/35 [==============================] - 8s 231ms/step - loss: 2.9553e-05 - categorical_accuracy: 1.0000 - val_loss: 6.8172 - val_categorical_accuracy: 0.6404\n",
            "Epoch 68/100\n",
            "35/35 [==============================] - 8s 234ms/step - loss: 2.7842e-05 - categorical_accuracy: 1.0000 - val_loss: 6.8038 - val_categorical_accuracy: 0.6416\n",
            "Epoch 69/100\n",
            "35/35 [==============================] - 8s 230ms/step - loss: 2.6349e-05 - categorical_accuracy: 1.0000 - val_loss: 6.8159 - val_categorical_accuracy: 0.6422\n",
            "Epoch 70/100\n",
            "35/35 [==============================] - 8s 232ms/step - loss: 2.4808e-05 - categorical_accuracy: 1.0000 - val_loss: 6.8134 - val_categorical_accuracy: 0.6416\n",
            "Epoch 71/100\n",
            "35/35 [==============================] - 8s 229ms/step - loss: 2.3510e-05 - categorical_accuracy: 1.0000 - val_loss: 6.8373 - val_categorical_accuracy: 0.6404\n",
            "Epoch 72/100\n",
            "35/35 [==============================] - 8s 233ms/step - loss: 2.2324e-05 - categorical_accuracy: 1.0000 - val_loss: 6.8349 - val_categorical_accuracy: 0.6416\n",
            "Epoch 73/100\n",
            "35/35 [==============================] - 8s 232ms/step - loss: 2.1211e-05 - categorical_accuracy: 1.0000 - val_loss: 6.8447 - val_categorical_accuracy: 0.6410\n",
            "Epoch 74/100\n",
            "35/35 [==============================] - 8s 235ms/step - loss: 2.0203e-05 - categorical_accuracy: 1.0000 - val_loss: 6.8498 - val_categorical_accuracy: 0.6410\n",
            "Epoch 75/100\n",
            "35/35 [==============================] - 8s 232ms/step - loss: 1.9217e-05 - categorical_accuracy: 1.0000 - val_loss: 6.8540 - val_categorical_accuracy: 0.6404\n",
            "Epoch 76/100\n",
            "35/35 [==============================] - 8s 231ms/step - loss: 1.8390e-05 - categorical_accuracy: 1.0000 - val_loss: 6.8451 - val_categorical_accuracy: 0.6416\n",
            "Epoch 77/100\n",
            "35/35 [==============================] - 8s 231ms/step - loss: 1.7712e-05 - categorical_accuracy: 1.0000 - val_loss: 6.8482 - val_categorical_accuracy: 0.6416\n",
            "Epoch 78/100\n",
            "35/35 [==============================] - 8s 232ms/step - loss: 1.6998e-05 - categorical_accuracy: 1.0000 - val_loss: 6.8530 - val_categorical_accuracy: 0.6416\n",
            "Epoch 79/100\n",
            "35/35 [==============================] - 8s 232ms/step - loss: 1.6429e-05 - categorical_accuracy: 1.0000 - val_loss: 6.8724 - val_categorical_accuracy: 0.6404\n",
            "Epoch 80/100\n",
            "35/35 [==============================] - 8s 234ms/step - loss: 1.5758e-05 - categorical_accuracy: 1.0000 - val_loss: 6.8763 - val_categorical_accuracy: 0.6404\n",
            "Epoch 81/100\n",
            "35/35 [==============================] - 8s 233ms/step - loss: 1.5202e-05 - categorical_accuracy: 1.0000 - val_loss: 6.8747 - val_categorical_accuracy: 0.6404\n",
            "Epoch 82/100\n",
            "35/35 [==============================] - 8s 232ms/step - loss: 1.4661e-05 - categorical_accuracy: 1.0000 - val_loss: 6.8794 - val_categorical_accuracy: 0.6404\n",
            "Epoch 83/100\n",
            "35/35 [==============================] - 8s 232ms/step - loss: 1.4136e-05 - categorical_accuracy: 1.0000 - val_loss: 6.8768 - val_categorical_accuracy: 0.6404\n",
            "Epoch 84/100\n",
            "35/35 [==============================] - 8s 234ms/step - loss: 1.3635e-05 - categorical_accuracy: 1.0000 - val_loss: 6.8744 - val_categorical_accuracy: 0.6404\n",
            "Epoch 85/100\n",
            "35/35 [==============================] - 8s 232ms/step - loss: 1.3842e-05 - categorical_accuracy: 1.0000 - val_loss: 6.8548 - val_categorical_accuracy: 0.6404\n",
            "Epoch 86/100\n",
            "35/35 [==============================] - 8s 233ms/step - loss: 1.5293e-05 - categorical_accuracy: 1.0000 - val_loss: 6.8469 - val_categorical_accuracy: 0.6410\n",
            "Epoch 87/100\n",
            "35/35 [==============================] - 8s 229ms/step - loss: 1.4650e-05 - categorical_accuracy: 1.0000 - val_loss: 6.8546 - val_categorical_accuracy: 0.6404\n",
            "Epoch 88/100\n",
            "35/35 [==============================] - 8s 232ms/step - loss: 1.3975e-05 - categorical_accuracy: 1.0000 - val_loss: 6.8588 - val_categorical_accuracy: 0.6410\n",
            "Epoch 89/100\n",
            "35/35 [==============================] - 8s 232ms/step - loss: 1.3371e-05 - categorical_accuracy: 1.0000 - val_loss: 6.8625 - val_categorical_accuracy: 0.6410\n",
            "Epoch 90/100\n",
            "35/35 [==============================] - 8s 232ms/step - loss: 1.2738e-05 - categorical_accuracy: 1.0000 - val_loss: 6.8672 - val_categorical_accuracy: 0.6404\n",
            "Epoch 91/100\n",
            "35/35 [==============================] - 8s 232ms/step - loss: 1.2267e-05 - categorical_accuracy: 1.0000 - val_loss: 6.8704 - val_categorical_accuracy: 0.6404\n",
            "Epoch 92/100\n",
            "35/35 [==============================] - 8s 234ms/step - loss: 1.1744e-05 - categorical_accuracy: 1.0000 - val_loss: 6.8741 - val_categorical_accuracy: 0.6404\n",
            "Epoch 93/100\n",
            "35/35 [==============================] - 8s 231ms/step - loss: 1.1176e-05 - categorical_accuracy: 1.0000 - val_loss: 6.8810 - val_categorical_accuracy: 0.6404\n",
            "Epoch 94/100\n",
            "35/35 [==============================] - 8s 236ms/step - loss: 1.0705e-05 - categorical_accuracy: 1.0000 - val_loss: 6.8869 - val_categorical_accuracy: 0.6404\n",
            "Epoch 95/100\n",
            "35/35 [==============================] - 8s 230ms/step - loss: 1.0370e-05 - categorical_accuracy: 1.0000 - val_loss: 6.8868 - val_categorical_accuracy: 0.6404\n",
            "Epoch 96/100\n",
            "35/35 [==============================] - 8s 230ms/step - loss: 1.0048e-05 - categorical_accuracy: 1.0000 - val_loss: 6.8878 - val_categorical_accuracy: 0.6404\n",
            "Epoch 97/100\n",
            "35/35 [==============================] - 8s 230ms/step - loss: 9.6856e-06 - categorical_accuracy: 1.0000 - val_loss: 6.8905 - val_categorical_accuracy: 0.6404\n",
            "Epoch 98/100\n",
            "35/35 [==============================] - 8s 232ms/step - loss: 9.3727e-06 - categorical_accuracy: 1.0000 - val_loss: 6.8925 - val_categorical_accuracy: 0.6404\n",
            "Epoch 99/100\n",
            "35/35 [==============================] - 8s 232ms/step - loss: 9.0936e-06 - categorical_accuracy: 1.0000 - val_loss: 6.8940 - val_categorical_accuracy: 0.6404\n",
            "Epoch 100/100\n",
            "35/35 [==============================] - 8s 234ms/step - loss: 8.8278e-06 - categorical_accuracy: 1.0000 - val_loss: 6.8943 - val_categorical_accuracy: 0.6404\n",
            "Model: \"sequential_7\"\n",
            "_________________________________________________________________\n",
            " Layer (type)                Output Shape              Param #   \n",
            "=================================================================\n",
            " conv_lstm2d_1 (ConvLSTM2D)  (None, 93, 237, 317, 1)   132       \n",
            "                                                                 \n",
            " time_distributed_1 (TimeDis  (None, 93, 75129)        0         \n",
            " tributed)                                                       \n",
            "                                                                 \n",
            " dense_7 (Dense)             (None, 93, 199)           14950870  \n",
            "                                                                 \n",
            "=================================================================\n",
            "Total params: 14,951,002\n",
            "Trainable params: 14,951,002\n",
            "Non-trainable params: 0\n",
            "_________________________________________________________________\n"
          ]
        }
      ],
      "source": [
        "model3 = Sequential()\n",
        "model3.add(tf.keras.layers.ConvLSTM2D(\n",
        "        filters=1,\n",
        "        kernel_size=(4, 4),\n",
        "        return_sequences=True,\n",
        "        activation='relu',\n",
        "        input_shape=(len(padded_inputs3[0]), 240, 320, 1)\n",
        "        ))\n",
        "model3.add(tf.keras.layers.TimeDistributed(tf.keras.layers.Flatten()))\n",
        "model3.add(Dense(len(label_map1), activation='softmax'))\n",
        "model3.compile(optimizer='Adam', loss='categorical_crossentropy', metrics=['categorical_accuracy'])\n",
        "history3 = model3.fit(np.array(X_train3), np.array(y_train3), validation_split=0.33, epochs=100, batch_size=1)\n",
        "model3.summary()\n",
        "\n",
        "model3.save(\"model3\")\n",
        "with open('trainHistory3Dict', 'wb') as file_pi:\n",
        "    pickle.dump(history3.history, file_pi)"
      ]
    },
    {
      "cell_type": "code",
      "execution_count": null,
      "metadata": {
        "id": "4NDgg1n_TLt3",
        "colab": {
          "base_uri": "https://localhost:8080/",
          "height": 591
        },
        "outputId": "906e9a3d-3499-4644-b17e-888404857c8f"
      },
      "outputs": [
        {
          "output_type": "display_data",
          "data": {
            "text/plain": [
              "<Figure size 432x288 with 1 Axes>"
            ],
            "image/png": "[encoded data removed]"
          },
          "metadata": {
            "needs_background": "light"
          }
        },
        {
          "output_type": "display_data",
          "data": {
            "text/plain": [
              "<Figure size 432x288 with 1 Axes>"
            ],
            "image/png": "[encoded data removed]"
          },
          "metadata": {
            "needs_background": "light"
          }
        },
        {
          "output_type": "display_data",
          "data": {
            "text/plain": [
              "<Figure size 432x288 with 0 Axes>"
            ]
          },
          "metadata": {}
        }
      ],
      "source": [
        "plt.plot(history3.history['categorical_accuracy'])\n",
        "plt.plot(history3.history['val_categorical_accuracy'])\n",
        "plt.title('model accuracy')\n",
        "plt.ylabel('accuracy')\n",
        "plt.xlabel('epoch')\n",
        "plt.legend(['train', 'val'], loc='upper left')\n",
        "plt.savefig(\"m3Accuracy.png\")\n",
        "plt.show()\n",
        "plt.clf()\n",
        "\n",
        "plt.plot(history3.history['loss'])\n",
        "plt.plot(history3.history['val_loss'])\n",
        "plt.title('model loss')\n",
        "plt.ylabel('loss')\n",
        "plt.xlabel('epoch')\n",
        "plt.legend(['train', 'val'], loc='upper left')\n",
        "plt.savefig(\"m3Loss.png\")\n",
        "plt.show()\n",
        "plt.clf()"
      ]
    },
    {
      "cell_type": "code",
      "execution_count": null,
      "metadata": {
        "id": "RLMo1o9x3jMv",
        "colab": {
          "base_uri": "https://localhost:8080/"
        },
        "outputId": "529e4bc7-e4a3-4dea-8006-2516077767ea"
      },
      "outputs": [
        {
          "output_type": "stream",
          "name": "stdout",
          "text": [
            "1/1 [==============================] - 0s 345ms/step\n"
          ]
        }
      ],
      "source": [
        "prediction3 = model3.predict(X_test3)\n",
        "tempP3 = prediction3.argmax(axis=-2)\n",
        "\n",
        "truth3 = np.array(y_test3)\n",
        "tempT3 = truth3.argmax(axis=-1)\n",
        "\n",
        "TruePredicitions3 = []\n",
        "groundTruths3 = []\n",
        "\n",
        "for P, T in zip(tempP3, tempT3):\n",
        "\n",
        "  sequenceP = \"\"\n",
        "  currentSignId = len(label_map2) + 2\n",
        "  for valueP, valueT in zip(P, T):\n",
        "    if valueP == len(label_map1)-1:\n",
        "      continue\n",
        "    if valueT == len(label_map1)-1:\n",
        "      continue\n",
        "    if(currentSignId != valueP) :\n",
        "      sequenceP = sequenceP + label_map1.get(valueP).replace('\\'', '').replace('\\\"', '').replace(' ', '') + \" \"\n",
        "      currentSignId = valueP\n",
        "  sequenceP = normalizeString(sequenceP)\n",
        "  TruePredicitions3.append(sequenceP)\n",
        "\n",
        "  for L, translated in zip(Labels, translatedSequences):\n",
        "    tempTruth = list(filter(lambda a: a != len(label_map1)-1, T))\n",
        "    if tempTruth == L:\n",
        "      groundTruths3.append(translated)\n",
        "      break; "
      ]
    },
    {
      "cell_type": "markdown",
      "metadata": {
        "id": "Esy1cZqyXZXJ"
      },
      "source": [
        "# Training Encoder Decoder Translator"
      ]
    },
    {
      "cell_type": "code",
      "execution_count": null,
      "metadata": {
        "id": "LdY8FxfpXZmx"
      },
      "outputs": [],
      "source": [
        "SOS_token = 0\n",
        "EOS_token = 1\n",
        "\n",
        "\n",
        "class Lang:\n",
        "    def __init__(self, name):\n",
        "        self.name = name\n",
        "        self.word2index = {}\n",
        "        self.word2count = {}\n",
        "        self.index2word = {0: \"SOS\", 1: \"EOS\"}\n",
        "        self.n_words = 2  # Count SOS and EOS\n",
        "\n",
        "    def addSentence(self, sentence):\n",
        "        for word in sentence.split(' '):\n",
        "            self.addWord(word)\n",
        "\n",
        "    def addWord(self, word):\n",
        "        if word not in self.word2index:\n",
        "            self.word2index[word] = self.n_words\n",
        "            self.word2count[word] = 1\n",
        "            self.index2word[self.n_words] = word\n",
        "            self.n_words += 1\n",
        "        else:\n",
        "            self.word2count[word] += 1"
      ]
    },
    {
      "cell_type": "code",
      "execution_count": null,
      "metadata": {
        "id": "gzgsGDgZnazW"
      },
      "outputs": [],
      "source": [
        "def readLangs(lang1, lang2, reverse=False):\n",
        "    print(\"Reading lines...\")\n",
        "    pairs = [list(a) for a in zip(translatedSequences, sequences)]\n",
        "\n",
        "    # Reverse pairs, make Lang instances\n",
        "    if reverse:\n",
        "        pairs = [list(reversed(p)) for p in pairs]\n",
        "        input_lang = Lang(lang2)\n",
        "        output_lang = Lang(lang1)\n",
        "    else:\n",
        "        input_lang = Lang(lang1)\n",
        "        output_lang = Lang(lang2)\n",
        "\n",
        "    return input_lang, output_lang, pairs"
      ]
    },
    {
      "cell_type": "code",
      "execution_count": null,
      "metadata": {
        "id": "vUJKDOd7na8o"
      },
      "outputs": [],
      "source": [
        "def filterPair(p):\n",
        "    return len(p[0].split(' ')) < MAX_LENGTH and len(p[1].split(' ')) < MAX_LENGTH # and p[1].startswith(eng_prefixes)\n",
        "\n",
        "\n",
        "def filterPairs(pairs):\n",
        "    return [pair for pair in pairs if filterPair(pair)]"
      ]
    },
    {
      "cell_type": "code",
      "execution_count": null,
      "metadata": {
        "id": "EsOrxe6tnbGb",
        "colab": {
          "base_uri": "https://localhost:8080/"
        },
        "outputId": "c2895a8d-c25f-4e21-c7dc-fe5351bd172f"
      },
      "outputs": [
        {
          "output_type": "stream",
          "name": "stdout",
          "text": [
            "Reading lines...\n",
            "Read 56 sentence pairs\n",
            "Trimmed to 56 sentence pairs\n",
            "Counting words...\n",
            "Counted words:\n",
            "fra 205\n",
            "eng 233\n",
            "['express sign current topic road express through h talkwg minor', ' it can be expressed through speech or through sign language . ']\n"
          ]
        }
      ],
      "source": [
        "def prepareData(lang1, lang2, reverse=False):\n",
        "    input_lang, output_lang, pairs = readLangs(lang1, lang2, reverse)\n",
        "    print(\"Read %s sentence pairs\" % len(pairs))\n",
        "    pairs = filterPairs(pairs)\n",
        "    print(\"Trimmed to %s sentence pairs\" % len(pairs))\n",
        "    print(\"Counting words...\")\n",
        "    for pair in pairs:\n",
        "        input_lang.addSentence(pair[0])\n",
        "        output_lang.addSentence(pair[1])\n",
        "    print(\"Counted words:\")\n",
        "    print(input_lang.name, input_lang.n_words)\n",
        "    print(output_lang.name, output_lang.n_words)\n",
        "    return input_lang, output_lang, pairs\n",
        "\n",
        "\n",
        "input_lang, output_lang, pairs = prepareData('eng', 'fra', True)\n",
        "print(random.choice(pairs))"
      ]
    },
    {
      "cell_type": "code",
      "execution_count": null,
      "metadata": {
        "id": "eSubCQBJ7Eju"
      },
      "outputs": [],
      "source": [
        "class EncoderRNN(nn.Module):\n",
        "    def __init__(self, input_size, hidden_size):\n",
        "        super(EncoderRNN, self).__init__()\n",
        "        self.hidden_size = hidden_size\n",
        "\n",
        "        self.embedding = nn.Embedding(input_size, hidden_size)\n",
        "        self.gru = nn.GRU(hidden_size, hidden_size)\n",
        "\n",
        "    def forward(self, input, hidden):\n",
        "        embedded = self.embedding(input).view(1, 1, -1)\n",
        "        output = embedded\n",
        "        output, hidden = self.gru(output, hidden)\n",
        "        return output, hidden\n",
        "\n",
        "    def initHidden(self):\n",
        "        return torch.zeros(1, 1, self.hidden_size, device=device)"
      ]
    },
    {
      "cell_type": "code",
      "execution_count": null,
      "metadata": {
        "id": "AfYJwcoN7EmY"
      },
      "outputs": [],
      "source": [
        "class DecoderRNN(nn.Module):\n",
        "    def __init__(self, hidden_size, output_size):\n",
        "        super(DecoderRNN, self).__init__()\n",
        "        self.hidden_size = hidden_size\n",
        "\n",
        "        self.embedding = nn.Embedding(output_size, hidden_size)\n",
        "        self.gru = nn.GRU(hidden_size, hidden_size)\n",
        "        self.out = nn.Linear(hidden_size, output_size)\n",
        "        self.softmax = nn.LogSoftmax(dim=1)\n",
        "\n",
        "    def forward(self, input, hidden):\n",
        "        output = self.embedding(input).view(1, 1, -1)\n",
        "        output = F.relu(output)\n",
        "        output, hidden = self.gru(output, hidden)\n",
        "        output = self.softmax(self.out(output[0]))\n",
        "        return output, hidden\n",
        "\n",
        "    def initHidden(self):\n",
        "        return torch.zeros(1, 1, self.hidden_size, device=device)"
      ]
    },
    {
      "cell_type": "code",
      "execution_count": null,
      "metadata": {
        "id": "1Y9UxilE7EpC"
      },
      "outputs": [],
      "source": [
        "class AttnDecoderRNN(nn.Module):\n",
        "    def __init__(self, hidden_size, output_size, dropout_p=0.1, max_length=MAX_LENGTH):\n",
        "        super(AttnDecoderRNN, self).__init__()\n",
        "        self.hidden_size = hidden_size\n",
        "        self.output_size = output_size\n",
        "        self.dropout_p = dropout_p\n",
        "        self.max_length = max_length\n",
        "\n",
        "        self.embedding = nn.Embedding(self.output_size, self.hidden_size)\n",
        "        self.attn = nn.Linear(self.hidden_size * 2, self.max_length)\n",
        "        self.attn_combine = nn.Linear(self.hidden_size * 2, self.hidden_size)\n",
        "        self.dropout = nn.Dropout(self.dropout_p)\n",
        "        self.gru = nn.GRU(self.hidden_size, self.hidden_size)\n",
        "        self.out = nn.Linear(self.hidden_size, self.output_size)\n",
        "\n",
        "    def forward(self, input, hidden, encoder_outputs):\n",
        "        embedded = self.embedding(input).view(1, 1, -1)\n",
        "        embedded = self.dropout(embedded)\n",
        "\n",
        "        attn_weights = F.softmax(\n",
        "            self.attn(torch.cat((embedded[0], hidden[0]), 1)), dim=1)\n",
        "        attn_applied = torch.bmm(attn_weights.unsqueeze(0),\n",
        "                                 encoder_outputs.unsqueeze(0))\n",
        "\n",
        "        output = torch.cat((embedded[0], attn_applied[0]), 1)\n",
        "        output = self.attn_combine(output).unsqueeze(0)\n",
        "\n",
        "        output = F.relu(output)\n",
        "        output, hidden = self.gru(output, hidden)\n",
        "\n",
        "        output = F.log_softmax(self.out(output[0]), dim=1)\n",
        "        return output, hidden, attn_weights\n",
        "\n",
        "    def initHidden(self):\n",
        "        return torch.zeros(1, 1, self.hidden_size, device=device)"
      ]
    },
    {
      "cell_type": "code",
      "execution_count": null,
      "metadata": {
        "id": "y21BXuQ7Lznn"
      },
      "outputs": [],
      "source": [
        "def indexesFromSentence(lang, sentence):\n",
        "    return [lang.word2index[word] for word in sentence.split(' ')]\n",
        "\n",
        "\n",
        "def tensorFromSentence(lang, sentence):\n",
        "    indexes = indexesFromSentence(lang, sentence)\n",
        "    indexes.append(EOS_token)\n",
        "    return torch.tensor(indexes, dtype=torch.long, device=device).view(-1, 1)\n",
        "\n",
        "\n",
        "def tensorsFromPair(pair):\n",
        "    input_tensor = tensorFromSentence(input_lang, pair[0])\n",
        "    target_tensor = tensorFromSentence(output_lang, pair[1])\n",
        "    return (input_tensor, target_tensor)"
      ]
    },
    {
      "cell_type": "code",
      "execution_count": null,
      "metadata": {
        "id": "xJSFnShDLzqC"
      },
      "outputs": [],
      "source": [
        "teacher_forcing_ratio = 0.5\n",
        "\n",
        "\n",
        "def train(input_tensor, target_tensor, encoder, decoder, encoder_optimizer, decoder_optimizer, criterion, max_length=MAX_LENGTH):\n",
        "    encoder_hidden = encoder.initHidden()\n",
        "\n",
        "    encoder_optimizer.zero_grad()\n",
        "    decoder_optimizer.zero_grad()\n",
        "\n",
        "    input_length = input_tensor.size(0)\n",
        "    target_length = target_tensor.size(0)\n",
        "\n",
        "    encoder_outputs = torch.zeros(max_length, encoder.hidden_size, device=device)\n",
        "\n",
        "    loss = 0\n",
        "\n",
        "    for ei in range(input_length):\n",
        "        encoder_output, encoder_hidden = encoder(\n",
        "            input_tensor[ei], encoder_hidden)\n",
        "        encoder_outputs[ei] = encoder_output[0, 0]\n",
        "\n",
        "    decoder_input = torch.tensor([[SOS_token]], device=device)\n",
        "\n",
        "    decoder_hidden = encoder_hidden\n",
        "\n",
        "    use_teacher_forcing = True if random.random() < teacher_forcing_ratio else False\n",
        "\n",
        "    if use_teacher_forcing:\n",
        "        # Teacher forcing: Feed the target as the next input\n",
        "        for di in range(target_length):\n",
        "            decoder_output, decoder_hidden, decoder_attention = decoder(\n",
        "                decoder_input, decoder_hidden, encoder_outputs)\n",
        "            loss += criterion(decoder_output, target_tensor[di])\n",
        "            decoder_input = target_tensor[di]  # Teacher forcing\n",
        "\n",
        "    else:\n",
        "        # Without teacher forcing: use its own predictions as the next input\n",
        "        for di in range(target_length):\n",
        "            decoder_output, decoder_hidden, decoder_attention = decoder(\n",
        "                decoder_input, decoder_hidden, encoder_outputs)\n",
        "            topv, topi = decoder_output.topk(1)\n",
        "            decoder_input = topi.squeeze().detach()  # detach from history as input\n",
        "\n",
        "            loss += criterion(decoder_output, target_tensor[di])\n",
        "            if decoder_input.item() == EOS_token:\n",
        "                break\n",
        "\n",
        "    loss.backward()\n",
        "\n",
        "    encoder_optimizer.step()\n",
        "    decoder_optimizer.step()\n",
        "\n",
        "    return loss.item() / target_length"
      ]
    },
    {
      "cell_type": "code",
      "execution_count": null,
      "metadata": {
        "id": "PrVQcUtIL8TC"
      },
      "outputs": [],
      "source": [
        "def asMinutes(s):\n",
        "    m = math.floor(s / 60)\n",
        "    s -= m * 60\n",
        "    return '%dm %ds' % (m, s)\n",
        "\n",
        "\n",
        "def timeSince(since, percent):\n",
        "    now = time.time()\n",
        "    s = now - since\n",
        "    es = s / (percent)\n",
        "    rs = es - s\n",
        "    return '%s (- %s)' % (asMinutes(s), asMinutes(rs))"
      ]
    },
    {
      "cell_type": "code",
      "execution_count": null,
      "metadata": {
        "id": "y5HXedYLMMuk"
      },
      "outputs": [],
      "source": [
        "import matplotlib.pyplot as plt\n",
        "plt.switch_backend('agg')\n",
        "import matplotlib.ticker as ticker\n",
        "import numpy as np\n",
        "\n",
        "\n",
        "def showPlot(points):\n",
        "    plt.figure()\n",
        "    fig, ax = plt.subplots()\n",
        "    # this locator puts ticks at regular intervals\n",
        "    loc = ticker.MultipleLocator(base=0.2)\n",
        "    ax.yaxis.set_major_locator(loc)\n",
        "    plt.plot(points)"
      ]
    },
    {
      "cell_type": "code",
      "execution_count": null,
      "metadata": {
        "id": "Nw9UXAU0MC1t"
      },
      "outputs": [],
      "source": [
        "def trainIters(encoder, decoder, n_iters, print_every=1000, plot_every=100, learning_rate=0.01):\n",
        "    start = time.time()\n",
        "    plot_losses = []\n",
        "    print_loss_total = 0  # Reset every print_every\n",
        "    plot_loss_total = 0  # Reset every plot_every\n",
        "\n",
        "    encoder_optimizer = optim.SGD(encoder.parameters(), lr=learning_rate)\n",
        "    decoder_optimizer = optim.SGD(decoder.parameters(), lr=learning_rate)\n",
        "    training_pairs = [tensorsFromPair(random.choice(pairs))\n",
        "                      for i in range(n_iters)]\n",
        "    criterion = nn.NLLLoss()\n",
        "\n",
        "    for iter in range(1, n_iters + 1):\n",
        "        training_pair = training_pairs[iter - 1]\n",
        "        input_tensor = training_pair[0]\n",
        "        target_tensor = training_pair[1]\n",
        "\n",
        "        loss = train(input_tensor, target_tensor, encoder,\n",
        "                     decoder, encoder_optimizer, decoder_optimizer, criterion)\n",
        "        print_loss_total += loss\n",
        "        plot_loss_total += loss\n",
        "\n",
        "        if iter % print_every == 0:\n",
        "            print_loss_avg = print_loss_total / print_every\n",
        "            print_loss_total = 0\n",
        "            print('%s (%d %d%%) %.4f' % (timeSince(start, iter / n_iters),\n",
        "                                         iter, iter / n_iters * 100, print_loss_avg))\n",
        "\n",
        "        if iter % plot_every == 0:\n",
        "            plot_loss_avg = plot_loss_total / plot_every\n",
        "            plot_losses.append(plot_loss_avg)\n",
        "            plot_loss_total = 0\n",
        "\n",
        "    showPlot(plot_losses)"
      ]
    },
    {
      "cell_type": "code",
      "execution_count": null,
      "metadata": {
        "id": "dEEIzI6IMRLY"
      },
      "outputs": [],
      "source": [
        "def evaluate(encoder, decoder, sentence, max_length=MAX_LENGTH):\n",
        "    with torch.no_grad():\n",
        "        input_tensor = tensorFromSentence(input_lang, sentence)\n",
        "        input_length = input_tensor.size()[0]\n",
        "        encoder_hidden = encoder.initHidden()\n",
        "\n",
        "        encoder_outputs = torch.zeros(max_length, encoder.hidden_size, device=device)\n",
        "\n",
        "        for ei in range(input_length):\n",
        "            encoder_output, encoder_hidden = encoder(input_tensor[ei],\n",
        "                                                     encoder_hidden)\n",
        "            encoder_outputs[ei] += encoder_output[0, 0]\n",
        "\n",
        "        decoder_input = torch.tensor([[SOS_token]], device=device)  # SOS\n",
        "\n",
        "        decoder_hidden = encoder_hidden\n",
        "\n",
        "        decoded_words = []\n",
        "        decoder_attentions = torch.zeros(max_length, max_length)\n",
        "\n",
        "        for di in range(max_length):\n",
        "            decoder_output, decoder_hidden, decoder_attention = decoder(\n",
        "                decoder_input, decoder_hidden, encoder_outputs)\n",
        "            decoder_attentions[di] = decoder_attention.data\n",
        "            topv, topi = decoder_output.data.topk(1)\n",
        "            if topi.item() == EOS_token:\n",
        "                decoded_words.append('<EOS>')\n",
        "                break\n",
        "            else:\n",
        "                decoded_words.append(output_lang.index2word[topi.item()])\n",
        "\n",
        "            decoder_input = topi.squeeze().detach()\n",
        "\n",
        "        return decoded_words, decoder_attentions[:di + 1]"
      ]
    },
    {
      "cell_type": "code",
      "execution_count": null,
      "metadata": {
        "id": "gHZ1Tm2wMVET",
        "colab": {
          "base_uri": "https://localhost:8080/",
          "height": 655
        },
        "outputId": "ba7a6aa1-071b-4087-d7e0-f82b2473603a"
      },
      "outputs": [
        {
          "output_type": "stream",
          "name": "stdout",
          "text": [
            "0m 16s (- 5m 20s) (500 5%) 2.9430\n",
            "0m 32s (- 4m 49s) (1000 10%) 2.2667\n",
            "0m 48s (- 4m 35s) (1500 15%) 1.4908\n",
            "1m 5s (- 4m 20s) (2000 20%) 0.6393\n",
            "1m 21s (- 4m 5s) (2500 25%) 0.3129\n",
            "1m 38s (- 3m 50s) (3000 30%) 0.2021\n",
            "1m 55s (- 3m 35s) (3500 35%) 0.0800\n",
            "2m 13s (- 3m 19s) (4000 40%) 0.0478\n",
            "2m 30s (- 3m 4s) (4500 45%) 0.0587\n",
            "2m 47s (- 2m 47s) (5000 50%) 0.0152\n",
            "3m 5s (- 2m 31s) (5500 55%) 0.0121\n",
            "3m 22s (- 2m 15s) (6000 60%) 0.0098\n",
            "3m 39s (- 1m 58s) (6500 65%) 0.0083\n",
            "3m 57s (- 1m 41s) (7000 70%) 0.0071\n",
            "4m 14s (- 1m 24s) (7500 75%) 0.0062\n",
            "4m 32s (- 1m 8s) (8000 80%) 0.0057\n",
            "4m 49s (- 0m 51s) (8500 85%) 0.0053\n",
            "5m 6s (- 0m 34s) (9000 90%) 0.0046\n",
            "5m 24s (- 0m 17s) (9500 95%) 0.0043\n",
            "5m 41s (- 0m 0s) (10000 100%) 0.0040\n"
          ]
        },
        {
          "output_type": "display_data",
          "data": {
            "text/plain": [
              "<Figure size 432x288 with 0 Axes>"
            ]
          },
          "metadata": {}
        },
        {
          "output_type": "display_data",
          "data": {
            "text/plain": [
              "<Figure size 432x288 with 1 Axes>"
            ],
            "image/png": "[encoded data removed]"
          },
          "metadata": {
            "needs_background": "light"
          }
        }
      ],
      "source": [
        "hidden_size = 256\n",
        "encoder1 = EncoderRNN(input_lang.n_words, hidden_size).to(device)\n",
        "attn_decoder1 = AttnDecoderRNN(hidden_size, output_lang.n_words, dropout_p=0.1).to(device)\n",
        "\n",
        "trainIters(encoder1, attn_decoder1, 10000, print_every=500)"
      ]
    },
    {
      "cell_type": "markdown",
      "metadata": {
        "id": "Jm_VpZxPjYBh"
      },
      "source": [
        "# Results"
      ]
    },
    {
      "cell_type": "code",
      "execution_count": null,
      "metadata": {
        "id": "a-Wj5uBINYqS"
      },
      "outputs": [],
      "source": [
        "train_sentences = translatedSequences\n",
        "tokenized_text = [list(map(str.lower, nltk.tokenize.word_tokenize(sent))) for sent in train_sentences]\n",
        "n = 1\n",
        "train_data, padded_vocab = padded_everygram_pipeline(n, tokenized_text)\n",
        "modelP = MLE(n)\n",
        "modelP.fit(train_data, padded_vocab)\n",
        "\n",
        "def evaluatePredictions(encoder, decoder, testX_sentences, testY_sentences, filename):\n",
        "  f = open(filename,'w') \n",
        "  PER = []\n",
        "  WER =[]\n",
        "  BLEU = []\n",
        "  OutputSentences = []\n",
        "\n",
        "  count = 0\n",
        "  for untranslated, groundTranslation in zip(testX_sentences, testY_sentences):\n",
        "\n",
        "    output_words, attentions = evaluate(encoder, decoder, untranslated)\n",
        "    output_sentence = ' '.join(output_words)\n",
        "    output_sentence = output_sentence.replace(' <EOS>', '')\n",
        "    OutputSentences.append(output_sentence)\n",
        "\n",
        "    bleu = sacrebleu.raw_corpus_bleu(output_sentence.lstrip().rstrip(), groundTranslation.lstrip().rstrip(), .01).score\n",
        "    BLEU.append(bleu)\n",
        "\n",
        "    error = jiwer.wer(groundTranslation, output_sentence)\n",
        "    WER.append(error)\n",
        "\n",
        "  tokenized_text = [list(map(str.lower, nltk.tokenize.word_tokenize(sent))) \n",
        "                for sent in OutputSentences]\n",
        "\n",
        "  test_data, _ = padded_everygram_pipeline(n, tokenized_text)\n",
        "\n",
        "  for i, test in enumerate(test_data):\n",
        "    PER.append(modelP.perplexity(test))\n",
        "\n",
        "  print(\"Perplexity Average: \")\n",
        "  print(str(np.mean(PER)))\n",
        "  print(\"\\nPerplexity Standard Deviation: \")\n",
        "  print(str(np.std(PER)))\n",
        "  print(\"\\nPerplexity Skew: \")\n",
        "  print(str(skew(PER)))\n",
        "\n",
        "  print(\"\\n\\n\\nWord error rate Average: \")\n",
        "  print(str(np.mean(WER)))\n",
        "  print(\"\\nWord error rate Standard Deviation: \")\n",
        "  print(str(np.std(WER)))\n",
        "  print(\"\\nWord error rate Skew: \")\n",
        "  print(str(skew(WER)))\n",
        "\n",
        "  print(\"\\n\\n\\nBLEU Average: \")\n",
        "  print(str(np.mean(BLEU)))\n",
        "  print(\"\\nBLEU Standard Deviation: \")\n",
        "  print(str(np.std(BLEU)))\n",
        "  print(\"\\nBLEU Skew: \")\n",
        "  print(str(skew(BLEU)))\n",
        "\n",
        "\n",
        "  f.write(\"Perplexity Average: \")\n",
        "  f.write(str(np.mean(PER)))\n",
        "  f.write(\"\\nPerplexity Standard Deviation: \")\n",
        "  f.write(str(np.std(PER)))\n",
        "  f.write(\"\\nPerplexity Skew: \")\n",
        "  f.write(str(skew(PER)))\n",
        "\n",
        "  f.write(\"\\n\\n\\nWord error rate Average: \")\n",
        "  f.write(str(np.mean(WER)))\n",
        "  f.write(\"\\nWord error rate Standard Deviation: \")\n",
        "  f.write(str(np.std(WER)))\n",
        "  f.write(\"\\nWord error rate Skew: \")\n",
        "  f.write(str(skew(WER)))\n",
        "\n",
        "  f.write(\"\\n\\n\\nBLEU Average: \")\n",
        "  f.write(str(np.mean(BLEU)))\n",
        "  f.write(\"\\nBLEU Standard Deviation: \")\n",
        "  f.write(str(np.std(BLEU)))\n",
        "  f.write(\"\\nBLEU Skew: \")\n",
        "  f.write(str(skew(BLEU)))\n",
        "\n",
        "  f.close()"
      ]
    },
    {
      "cell_type": "code",
      "source": [
        "evaluatePredictions(encoder1, attn_decoder1, sequences, translatedSequences, 'testTranslationMetrics.txt')"
      ],
      "metadata": {
        "colab": {
          "base_uri": "https://localhost:8080/"
        },
        "id": "lmjlysuHARqx",
        "outputId": "88d55ca9-5c2a-4e6c-ebe7-7e9382b397fd"
      },
      "execution_count": null,
      "outputs": [
        {
          "output_type": "stream",
          "name": "stdout",
          "text": [
            "Perplexity Average: \n",
            "110.10274795171154\n",
            "\n",
            "Perplexity Standard Deviation: \n",
            "48.21151169324072\n",
            "\n",
            "Perplexity Skew: \n",
            "0.12532779772224545\n",
            "\n",
            "\n",
            "\n",
            "Word error rate Average: \n",
            "0.0\n",
            "\n",
            "Word error rate Standard Deviation: \n",
            "0.0\n",
            "\n",
            "Word error rate Skew: \n",
            "0.0\n",
            "\n",
            "\n",
            "\n",
            "BLEU Average: \n",
            "100.00000000000003\n",
            "\n",
            "BLEU Standard Deviation: \n",
            "1.4210854715202004e-14\n",
            "\n",
            "BLEU Skew: \n",
            "0.0\n"
          ]
        }
      ]
    },
    {
      "cell_type": "code",
      "execution_count": null,
      "metadata": {
        "id": "ITe-NSK5jW69",
        "colab": {
          "base_uri": "https://localhost:8080/"
        },
        "outputId": "1f8c7dd5-7bf0-4bfa-86b7-ad3da202ad72"
      },
      "outputs": [
        {
          "output_type": "stream",
          "name": "stdout",
          "text": [
            "Perplexity Average: \n",
            "94.81992806988019\n",
            "\n",
            "Perplexity Standard Deviation: \n",
            "0.0\n",
            "\n",
            "Perplexity Skew: \n",
            "0.0\n",
            "\n",
            "\n",
            "\n",
            "Word error rate Average: \n",
            "1.4610389610389614\n",
            "\n",
            "Word error rate Standard Deviation: \n",
            "0.42742204525214517\n",
            "\n",
            "Word error rate Skew: \n",
            "0.11350363822155006\n",
            "\n",
            "\n",
            "\n",
            "BLEU Average: \n",
            "100.00000000000004\n",
            "\n",
            "BLEU Standard Deviation: \n",
            "0.0\n",
            "\n",
            "BLEU Skew: \n",
            "0.0\n"
          ]
        }
      ],
      "source": [
        "evaluatePredictions(encoder1, attn_decoder1, TruePredicitions1, groundTruths1, 'm1TranslationMetrics.txt')"
      ]
    },
    {
      "cell_type": "code",
      "source": [
        "evaluatePredictions(encoder1, attn_decoder1, TruePredicitions2, groundTruths2, 'm2TranslationMetrics.txt')"
      ],
      "metadata": {
        "colab": {
          "base_uri": "https://localhost:8080/"
        },
        "id": "vST1CbVf_Zgi",
        "outputId": "cc16ad1c-a009-4a6a-ef58-bc8949d55fb3"
      },
      "execution_count": null,
      "outputs": [
        {
          "output_type": "stream",
          "name": "stdout",
          "text": [
            "Perplexity Average: \n",
            "94.81992806988019\n",
            "\n",
            "Perplexity Standard Deviation: \n",
            "0.0\n",
            "\n",
            "Perplexity Skew: \n",
            "0.0\n",
            "\n",
            "\n",
            "\n",
            "Word error rate Average: \n",
            "1.4610389610389614\n",
            "\n",
            "Word error rate Standard Deviation: \n",
            "0.42742204525214517\n",
            "\n",
            "Word error rate Skew: \n",
            "0.11350363822155006\n",
            "\n",
            "\n",
            "\n",
            "BLEU Average: \n",
            "100.00000000000004\n",
            "\n",
            "BLEU Standard Deviation: \n",
            "0.0\n",
            "\n",
            "BLEU Skew: \n",
            "0.0\n"
          ]
        }
      ]
    },
    {
      "cell_type": "code",
      "source": [
        "evaluatePredictions(encoder1, attn_decoder1, TruePredicitions3, groundTruths3, 'm3TranslationMetrics.txt')"
      ],
      "metadata": {
        "colab": {
          "base_uri": "https://localhost:8080/"
        },
        "id": "u6658BA8_gJf",
        "outputId": "8d96e8c8-0726-4bd7-a6c6-b1d078481785"
      },
      "execution_count": null,
      "outputs": [
        {
          "output_type": "stream",
          "name": "stdout",
          "text": [
            "Perplexity Average: \n",
            "57.39127261606357\n",
            "\n",
            "Perplexity Standard Deviation: \n",
            "19.2504728128213\n",
            "\n",
            "Perplexity Skew: \n",
            "0.30858875282353343\n",
            "\n",
            "\n",
            "\n",
            "Word error rate Average: \n",
            "0.6744588744588745\n",
            "\n",
            "Word error rate Standard Deviation: \n",
            "0.20973478698536813\n",
            "\n",
            "Word error rate Skew: \n",
            "-0.2779899044128924\n",
            "\n",
            "\n",
            "\n",
            "BLEU Average: \n",
            "66.6666666666667\n",
            "\n",
            "BLEU Standard Deviation: \n",
            "47.140452079103184\n",
            "\n",
            "BLEU Skew: \n",
            "-0.707106781186548\n"
          ]
        }
      ]
    },
    {
      "cell_type": "code",
      "source": [
        "!zip -r /content/m1.zip /content/model1\n",
        "!zip -r /content/m2.zip /content/model2\n",
        "!zip -r /content/m3.zip /content/model3"
      ],
      "metadata": {
        "colab": {
          "base_uri": "https://localhost:8080/"
        },
        "id": "hmj2l4oaxDxt",
        "outputId": "955ab215-505f-4261-c343-e123588c8102"
      },
      "execution_count": null,
      "outputs": [
        {
          "output_type": "stream",
          "name": "stdout",
          "text": [
            "  adding: content/model1/ (stored 0%)\n",
            "  adding: content/model1/variables/ (stored 0%)\n",
            "  adding: content/model1/variables/variables.index (deflated 65%)\n",
            "  adding: content/model1/variables/variables.data-00000-of-00001 (deflated 70%)\n",
            "  adding: content/model1/assets/ (stored 0%)\n",
            "  adding: content/model1/saved_model.pb (deflated 90%)\n",
            "  adding: content/model1/keras_metadata.pb (deflated 90%)\n",
            "  adding: content/model2/ (stored 0%)\n",
            "  adding: content/model2/variables/ (stored 0%)\n",
            "  adding: content/model2/variables/variables.index (deflated 63%)\n",
            "  adding: content/model2/variables/variables.data-00000-of-00001 (deflated 45%)\n",
            "  adding: content/model2/assets/ (stored 0%)\n",
            "  adding: content/model2/saved_model.pb (deflated 90%)\n",
            "  adding: content/model2/keras_metadata.pb (deflated 89%)\n",
            "  adding: content/model3/ (stored 0%)\n",
            "  adding: content/model3/variables/ (stored 0%)\n",
            "  adding: content/model3/variables/variables.index (deflated 61%)\n",
            "  adding: content/model3/variables/variables.data-00000-of-00001 (deflated 34%)\n",
            "  adding: content/model3/assets/ (stored 0%)\n",
            "  adding: content/model3/saved_model.pb (deflated 90%)\n",
            "  adding: content/model3/keras_metadata.pb (deflated 87%)\n"
          ]
        }
      ]
    },
    {
      "cell_type": "code",
      "source": [],
      "metadata": {
        "id": "irneJoRaxE_m"
      },
      "execution_count": null,
      "outputs": []
    }
  ],
  "metadata": {
    "colab": {
      "machine_shape": "hm",
      "provenance": []
    },
    "gpuClass": "premium",
    "kernelspec": {
      "display_name": "Python 3",
      "name": "python3"
    },
    "language_info": {
      "name": "python"
    },
    "accelerator": "GPU"
  },
  "nbformat": 4,
  "nbformat_minor": 0
}