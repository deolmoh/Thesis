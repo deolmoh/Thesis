{
  "nbformat": 4,
  "nbformat_minor": 0,
  "metadata": {
    "colab": {
      "provenance": [],
      "machine_shape": "hm"
    },
    "kernelspec": {
      "name": "python3",
      "display_name": "Python 3"
    },
    "language_info": {
      "name": "python"
    },
    "gpuClass": "premium",
    "accelerator": "GPU"
  },
  "cells": [
    {
      "cell_type": "code",
      "source": [
        "%matplotlib inline\n",
        "!pip install mediapipe"
      ],
      "metadata": {
        "colab": {
          "base_uri": "https://localhost:8080/"
        },
        "id": "8dtj3B5D5inE",
        "outputId": "d12782f4-8986-4509-8fcc-35f16135b072"
      },
      "execution_count": null,
      "outputs": [
        {
          "output_type": "stream",
          "name": "stdout",
          "text": [
            "Looking in indexes: https://pypi.org/simple, https://us-python.pkg.dev/colab-wheels/public/simple/\n",
            "Collecting mediapipe\n",
            "  Downloading mediapipe-0.9.0-cp37-cp37m-manylinux_2_17_x86_64.manylinux2014_x86_64.whl (33.0 MB)\n",
            "\u001b[K     |████████████████████████████████| 33.0 MB 1.3 MB/s \n",
            "\u001b[?25hRequirement already satisfied: attrs>=19.1.0 in /usr/local/lib/python3.7/dist-packages (from mediapipe) (22.1.0)\n",
            "Requirement already satisfied: matplotlib in /usr/local/lib/python3.7/dist-packages (from mediapipe) (3.2.2)\n",
            "Requirement already satisfied: absl-py in /usr/local/lib/python3.7/dist-packages (from mediapipe) (1.3.0)\n",
            "Requirement already satisfied: opencv-contrib-python in /usr/local/lib/python3.7/dist-packages (from mediapipe) (4.6.0.66)\n",
            "Requirement already satisfied: protobuf<4,>=3.11 in /usr/local/lib/python3.7/dist-packages (from mediapipe) (3.19.6)\n",
            "Collecting flatbuffers>=2.0\n",
            "  Downloading flatbuffers-22.10.26-py2.py3-none-any.whl (26 kB)\n",
            "Requirement already satisfied: numpy in /usr/local/lib/python3.7/dist-packages (from mediapipe) (1.21.6)\n",
            "Requirement already satisfied: kiwisolver>=1.0.1 in /usr/local/lib/python3.7/dist-packages (from matplotlib->mediapipe) (1.4.4)\n",
            "Requirement already satisfied: cycler>=0.10 in /usr/local/lib/python3.7/dist-packages (from matplotlib->mediapipe) (0.11.0)\n",
            "Requirement already satisfied: pyparsing!=2.0.4,!=2.1.2,!=2.1.6,>=2.0.1 in /usr/local/lib/python3.7/dist-packages (from matplotlib->mediapipe) (3.0.9)\n",
            "Requirement already satisfied: python-dateutil>=2.1 in /usr/local/lib/python3.7/dist-packages (from matplotlib->mediapipe) (2.8.2)\n",
            "Requirement already satisfied: typing-extensions in /usr/local/lib/python3.7/dist-packages (from kiwisolver>=1.0.1->matplotlib->mediapipe) (4.1.1)\n",
            "Requirement already satisfied: six>=1.5 in /usr/local/lib/python3.7/dist-packages (from python-dateutil>=2.1->matplotlib->mediapipe) (1.15.0)\n",
            "Installing collected packages: flatbuffers, mediapipe\n",
            "  Attempting uninstall: flatbuffers\n",
            "    Found existing installation: flatbuffers 1.12\n",
            "    Uninstalling flatbuffers-1.12:\n",
            "      Successfully uninstalled flatbuffers-1.12\n",
            "\u001b[31mERROR: pip's dependency resolver does not currently take into account all the packages that are installed. This behaviour is the source of the following dependency conflicts.\n",
            "tensorflow 2.9.2 requires flatbuffers<2,>=1.12, but you have flatbuffers 22.10.26 which is incompatible.\u001b[0m\n",
            "Successfully installed flatbuffers-22.10.26 mediapipe-0.9.0\n"
          ]
        }
      ]
    },
    {
      "cell_type": "code",
      "source": [
        "\n",
        "import string\n",
        "import gc\n",
        "import re\n",
        "import random\n",
        "import matplotlib.pyplot as plt\n",
        "import nltk\n",
        "nltk.download('punkt')\n",
        "from nltk.lm.preprocessing import padded_everygram_pipeline\n",
        "from nltk.lm import MLE\n",
        "import pickle\n",
        "from scipy.stats import skew\n",
        "import cv2\n",
        "import math\n",
        "from google.colab import files\n",
        "from google.colab.patches import cv2_imshow\n",
        "import numpy as np\n",
        "from string import printable\n",
        "from re import X\n",
        "from IPython.core import formatters\n",
        "import mediapipe\n",
        "import tensorflow as tf\n",
        "from tensorflow.keras.datasets import imdb\n",
        "from tensorflow.keras.models import Sequential\n",
        "from tensorflow.keras.layers import Dense\n",
        "from tensorflow.keras.layers import LSTM\n",
        "from tensorflow.keras.layers import Embedding\n",
        "from tensorflow.keras.preprocessing import sequence\n",
        "import xml.etree.ElementTree as ET\n",
        "import mediapipe as mp\n",
        "import time\n",
        "from sklearn.model_selection import train_test_split\n",
        "from tensorflow.keras.utils import to_categorical\n",
        "from io import open"
      ],
      "metadata": {
        "colab": {
          "base_uri": "https://localhost:8080/"
        },
        "id": "72rdCFYTxISa",
        "outputId": "edefed5e-3e2a-4432-d0d1-6b53fe77cf44"
      },
      "execution_count": null,
      "outputs": [
        {
          "output_type": "stream",
          "name": "stderr",
          "text": [
            "[nltk_data] Downloading package punkt to /root/nltk_data...\n",
            "[nltk_data]   Unzipping tokenizers/punkt.zip.\n"
          ]
        }
      ]
    },
    {
      "cell_type": "code",
      "source": [
        "tf.test.gpu_device_name()"
      ],
      "metadata": {
        "colab": {
          "base_uri": "https://localhost:8080/",
          "height": 36
        },
        "id": "HhEsUQ7oc0jQ",
        "outputId": "8971b9ec-47d0-4b43-d227-3e3c135d4155"
      },
      "execution_count": null,
      "outputs": [
        {
          "output_type": "execute_result",
          "data": {
            "text/plain": [
              "'/device:GPU:0'"
            ],
            "application/vnd.google.colaboratory.intrinsic+json": {
              "type": "string"
            }
          },
          "metadata": {},
          "execution_count": 3
        }
      ]
    },
    {
      "cell_type": "code",
      "source": [
        "videos = ['/content/rachel1.mp4', '/content/1-Ben-Introduction-SD.mov']\n",
        "xml = ['/content/xml_extract_Rachel_2012-01-27_sc51_9.xml', 'xml_extract_1-Ben-Introduction_17.xml']\n",
        "\n",
        "\n",
        "AllSigns = []\n",
        "AllFrames = []\n",
        "Labels = []\n",
        "\n",
        "for video, xml in zip(videos, xml):\n",
        "\n",
        "  capture = cv2.VideoCapture(video)\n",
        "  count = 0\n",
        "  frames = []\n",
        "  frameNr = 0\n",
        "  \n",
        "  while (True):\n",
        "      success, frame = capture.read()\n",
        "      if success:\n",
        "          frame = cv2.resize(frame, (320,240), interpolation = cv2.INTER_AREA)\n",
        "          frames.append(frame)\n",
        "      else:\n",
        "          break\n",
        "      count = count+1\n",
        "  capture.release()\n",
        "\n",
        "  print(len(frames))\n",
        "\n",
        "  tree = ET.parse(xml)\n",
        "  \n",
        "  # getting the parent tag of\n",
        "  # the xml document\n",
        "  root = tree.getroot()\n",
        "  \n",
        "  # printing the root (parent) tag\n",
        "  # of the xml document, along with\n",
        "  # its memory location\n",
        "  print(root)\n",
        "  \n",
        "  # printing the attributes of the\n",
        "  # first tag from the parent\n",
        "  print(root[0].attrib)\n",
        "  \n",
        "  # printing the text contained within\n",
        "  # first subtag of the 5th tag from\n",
        "  # the parent\n",
        "  print(root[0][0][3][0][0][0][2])\n",
        "\n",
        "  utterances= tree.findall('.//UTTERANCE')\n",
        "  signs = utterances[1][3].findall('.//SIGN')\n",
        "  UtteranceSigns = utterances[1][3].findall('.//SIGN')\n",
        "\n",
        "  for sign  in tree.findall('.//SIGN'):\n",
        "    # check if exists in unique_list or not\n",
        "    if sign[0].text not in AllSigns:\n",
        "      AllSigns.append(sign[0].text)\n",
        "\n",
        "  label_map1 = {num:label for num, label in enumerate(AllSigns)}\n",
        "  label_map2 = {label:num for num, label in enumerate(AllSigns)}\n",
        "\n",
        "  \n",
        "  for utterance in utterances:\n",
        "      UtteranceSigns = utterance[3].findall('.//SIGN')\n",
        "      UtteranceSignsSorted = sorted(UtteranceSigns, key=lambda x: x[13].get('START_FRAME'))\n",
        "      signIDs = []\n",
        "      a=0\n",
        "      for sign in UtteranceSignsSorted:\n",
        "        if sign.get('ID') not in signIDs:\n",
        "          signIDs.append(sign.get('ID'))\n",
        "          for frame_num in range(int(int(sign[13].get('START_FRAME'))/1000),int(int(sign[13].get('END_FRAME'))/1000)):\n",
        "              AllFrames.append(frames[frame_num-1])\n",
        "              Labels.append(label_map2[sign[0].text])"
      ],
      "metadata": {
        "colab": {
          "base_uri": "https://localhost:8080/"
        },
        "id": "ZDJiBIA4hSZ3",
        "outputId": "1f4ee942-c295-4887-d112-4baaaa7eb146"
      },
      "execution_count": null,
      "outputs": [
        {
          "output_type": "stream",
          "name": "stdout",
          "text": [
            "6996\n",
            "<Element 'SIGNSTREAM_DAI' at 0x7fa4b1e763b0>\n",
            "{}\n",
            "<Element 'UTTERANCES' at 0x7fa4b1e76cb0>\n",
            "4409\n",
            "<Element 'SIGNSTREAM_DAI' at 0x7fa4b1e6ccb0>\n",
            "{}\n",
            "<Element 'UTTERANCES' at 0x7fa4b1e701d0>\n"
          ]
        }
      ]
    },
    {
      "cell_type": "code",
      "source": [
        "skinMask360 = []\n",
        "for frame in AllFrames:\n",
        "  img = frame.copy()\n",
        "  img_bw = cv2.cvtColor(img, cv2.COLOR_BGR2GRAY)\n",
        "\n",
        "  # to be considered 'skin'\n",
        "  hsvim = cv2.cvtColor(img, cv2.COLOR_BGR2HSV)\n",
        "  lower = np.array([0, 48, 80], dtype=\"uint8\")\n",
        "  upper = np.array([30, 255, 255], dtype=\"uint8\")\n",
        "  skinMask= cv2.inRange(hsvim, lower, upper)\n",
        "\n",
        "  # blur the mask to help remove noise\n",
        "  skinMask = cv2.blur(skinMask, (15, 15))\n",
        "\n",
        "  # get threshold image\n",
        "  ret, thresh = cv2.threshold(skinMask, 100, 255, cv2.THRESH_BINARY+cv2.THRESH_OTSU)\n",
        "\n",
        "  distancesPerBlob = []\n",
        "\n",
        "  # find contours in the binary image\n",
        "  # Convert source image to unsigned 8 bit integer Numpy array\n",
        "  # help(cv2.cvtColor)\n",
        "  contours, hierarchy = cv2.findContours(thresh,cv2.RETR_TREE,cv2.CHAIN_APPROX_NONE)\n",
        "  cntsSorted = sorted(contours, key=lambda x: cv2.contourArea(x), reverse=True)\n",
        "\n",
        "  count= 0\n",
        "\n",
        "\n",
        "  for c in cntsSorted:\n",
        "\n",
        "    if(count == 3):\n",
        "      break;\n",
        "\n",
        "    count = count+1;\n",
        "\n",
        "    # Step #3\n",
        "    out = img.copy()\n",
        "\n",
        "    # Step #4\n",
        "    ref = np.zeros_like(img_bw)\n",
        "    cv2.drawContours(ref, c, -1, 255, 5)\n",
        "\n",
        "\n",
        "    width = img.shape[1]\n",
        "    height = img.shape[0]\n",
        "\n",
        "    # Define total number of angles we want\n",
        "    N = 360\n",
        "\n",
        "    # Step #5\n",
        "    M = cv2.moments(c)\n",
        "\n",
        "    if(M['m00'] == 0):\n",
        "      count = count-1;\n",
        "      continue\n",
        "\n",
        "    centroid_x = int(M['m10']/M['m00'])\n",
        "    centroid_y = int(M['m01']/M['m00'])\n",
        "\n",
        "    # Step #6\n",
        "    for i in range(N):\n",
        "      # Step #6a\n",
        "      tmp = np.zeros_like(img_bw)\n",
        "\n",
        "      # Step #6b\n",
        "      theta = i*(360/N)\n",
        "      theta *= np.pi/180.0\n",
        "\n",
        "      # Step #6c\n",
        "      cv2.line(tmp, (centroid_x, centroid_y),\n",
        "      (int(centroid_x+np.cos(theta)*width),\n",
        "      int(centroid_y-np.sin(theta)*height)), 255, 5)\n",
        "\n",
        "      # Step #6d\n",
        "      (row,col) = np.nonzero(np.logical_and(tmp, ref))\n",
        "\n",
        "      # Step #6e\n",
        "      try:\n",
        "        cv2.line(out, (centroid_x, centroid_y), (col[0],row[0]), 0, 1)\n",
        "        distancesPerBlob.append(math.hypot(col[0] - centroid_x, row[0] - centroid_y))\n",
        "      except:\n",
        "        distancesPerBlob.append(0)\n",
        "      \n",
        "  while len(distancesPerBlob) < 1080:\n",
        "      distancesPerBlob.append(0)\n",
        "  skinMask360.append(distancesPerBlob)"
      ],
      "metadata": {
        "id": "IwMIpDqfiDVa"
      },
      "execution_count": null,
      "outputs": []
    },
    {
      "cell_type": "code",
      "source": [
        "mpHands = mp.solutions.hands\n",
        "hands = mpHands.Hands(static_image_mode=True,\n",
        "                      max_num_hands=2,\n",
        "                      min_detection_confidence=0.5,\n",
        "                      min_tracking_confidence=0.5)"
      ],
      "metadata": {
        "id": "k9Hknw892x30"
      },
      "execution_count": null,
      "outputs": []
    },
    {
      "cell_type": "code",
      "source": [
        "HandTracking = []\n",
        "for frame in AllFrames:\n",
        "\n",
        "  landmarks = []\n",
        "  frame = cv2.cvtColor(frame, cv2.COLOR_BGR2RGB)\n",
        "  results = hands.process(frame)\n",
        "\n",
        "  count = 0\n",
        "  if results.multi_hand_landmarks != None:\n",
        "    for hand_landmarks in results.multi_hand_world_landmarks:\n",
        "      count = count +1\n",
        "      for landmark in hand_landmarks.landmark:\n",
        "        landmarks.append(landmark.x)\n",
        "        landmarks.append(landmark.y)\n",
        "        landmarks.append(landmark.z)\n",
        "\n",
        "    if count < 2:\n",
        "      for i in range(21):\n",
        "        landmarks.append(0)\n",
        "        landmarks.append(0)\n",
        "        landmarks.append(0)\n",
        "\n",
        "\n",
        "  else:\n",
        "    for i in range(2):\n",
        "      for i in range(21):\n",
        "        landmarks.append(0)\n",
        "        landmarks.append(0)\n",
        "        landmarks.append(0)\n",
        "        \n",
        "  HandTracking.append(landmarks)"
      ],
      "metadata": {
        "id": "DOLFpT9p2x_o"
      },
      "execution_count": null,
      "outputs": []
    },
    {
      "cell_type": "code",
      "source": [
        "np.array(skinMask360).shape"
      ],
      "metadata": {
        "colab": {
          "base_uri": "https://localhost:8080/"
        },
        "id": "0NpKoYe15X0j",
        "outputId": "6c2be7e4-4b63-44b9-b1a2-ce9c0c1e92fa"
      },
      "execution_count": null,
      "outputs": [
        {
          "output_type": "execute_result",
          "data": {
            "text/plain": [
              "(4956, 1080)"
            ]
          },
          "metadata": {},
          "execution_count": 12
        }
      ]
    },
    {
      "cell_type": "code",
      "source": [
        "np.array(HandTracking).shape"
      ],
      "metadata": {
        "colab": {
          "base_uri": "https://localhost:8080/"
        },
        "id": "VHYUyT9Y5X9s",
        "outputId": "cf262510-c298-498d-913c-26d8e61b5483"
      },
      "execution_count": null,
      "outputs": [
        {
          "output_type": "execute_result",
          "data": {
            "text/plain": [
              "(4956, 126)"
            ]
          },
          "metadata": {},
          "execution_count": 13
        }
      ]
    },
    {
      "cell_type": "markdown",
      "source": [
        "#Testing Feature Extraction Methods on Classification Models"
      ],
      "metadata": {
        "id": "VOX3f64giGLU"
      }
    },
    {
      "cell_type": "markdown",
      "source": [
        "#Model 1: HandTracking"
      ],
      "metadata": {
        "id": "IRcK21qOBdrv"
      }
    },
    {
      "cell_type": "code",
      "source": [
        "X_train1, X_test1, y_train1, y_test1 = train_test_split(HandTracking, Labels, test_size=0.05, random_state=42)"
      ],
      "metadata": {
        "id": "WyDIZt5HAogQ"
      },
      "execution_count": null,
      "outputs": []
    },
    {
      "cell_type": "code",
      "execution_count": 40,
      "metadata": {
        "colab": {
          "base_uri": "https://localhost:8080/"
        },
        "id": "nu9z_iCl5cZ3",
        "outputId": "d1fb82b6-449b-487d-84a2-b45da8640d8e"
      },
      "outputs": [
        {
          "output_type": "stream",
          "name": "stdout",
          "text": [
            "Epoch 1/100\n",
            "3154/3154 [==============================] - 9s 3ms/step - loss: 4.1900 - accuracy: 0.1642 - val_loss: 3.5707 - val_accuracy: 0.2329\n",
            "Epoch 2/100\n",
            "3154/3154 [==============================] - 8s 3ms/step - loss: 2.8172 - accuracy: 0.3608 - val_loss: 2.7092 - val_accuracy: 0.4151\n",
            "Epoch 3/100\n",
            "3154/3154 [==============================] - 8s 3ms/step - loss: 2.0138 - accuracy: 0.5181 - val_loss: 2.1835 - val_accuracy: 0.5103\n",
            "Epoch 4/100\n",
            "3154/3154 [==============================] - 8s 3ms/step - loss: 1.5284 - accuracy: 0.5989 - val_loss: 1.8785 - val_accuracy: 0.5792\n",
            "Epoch 5/100\n",
            "3154/3154 [==============================] - 8s 3ms/step - loss: 1.2129 - accuracy: 0.6658 - val_loss: 1.7387 - val_accuracy: 0.6094\n",
            "Epoch 6/100\n",
            "3154/3154 [==============================] - 8s 3ms/step - loss: 0.9843 - accuracy: 0.7213 - val_loss: 1.5663 - val_accuracy: 0.6654\n",
            "Epoch 7/100\n",
            "3154/3154 [==============================] - 8s 3ms/step - loss: 0.8161 - accuracy: 0.7587 - val_loss: 1.4884 - val_accuracy: 0.6834\n",
            "Epoch 8/100\n",
            "3154/3154 [==============================] - 8s 3ms/step - loss: 0.6937 - accuracy: 0.7815 - val_loss: 1.4361 - val_accuracy: 0.6943\n",
            "Epoch 9/100\n",
            "3154/3154 [==============================] - 8s 3ms/step - loss: 0.5929 - accuracy: 0.8177 - val_loss: 1.4656 - val_accuracy: 0.6995\n",
            "Epoch 10/100\n",
            "3154/3154 [==============================] - 8s 3ms/step - loss: 0.5181 - accuracy: 0.8342 - val_loss: 1.3547 - val_accuracy: 0.7471\n",
            "Epoch 11/100\n",
            "3154/3154 [==============================] - 8s 3ms/step - loss: 0.4524 - accuracy: 0.8513 - val_loss: 1.4063 - val_accuracy: 0.7439\n",
            "Epoch 12/100\n",
            "3154/3154 [==============================] - 8s 3ms/step - loss: 0.4039 - accuracy: 0.8659 - val_loss: 1.4043 - val_accuracy: 0.7555\n",
            "Epoch 13/100\n",
            "3154/3154 [==============================] - 8s 3ms/step - loss: 0.3703 - accuracy: 0.8735 - val_loss: 1.4101 - val_accuracy: 0.7638\n",
            "Epoch 14/100\n",
            "3154/3154 [==============================] - 8s 3ms/step - loss: 0.3302 - accuracy: 0.8897 - val_loss: 1.4525 - val_accuracy: 0.7806\n",
            "Epoch 15/100\n",
            "3154/3154 [==============================] - 8s 3ms/step - loss: 0.3126 - accuracy: 0.8944 - val_loss: 1.3380 - val_accuracy: 0.7928\n",
            "Epoch 16/100\n",
            "3154/3154 [==============================] - 8s 3ms/step - loss: 0.2821 - accuracy: 0.9014 - val_loss: 1.3927 - val_accuracy: 0.7960\n",
            "Epoch 17/100\n",
            "3154/3154 [==============================] - 8s 3ms/step - loss: 0.2629 - accuracy: 0.9049 - val_loss: 1.4985 - val_accuracy: 0.7831\n",
            "Epoch 18/100\n",
            "3154/3154 [==============================] - 8s 3ms/step - loss: 0.2434 - accuracy: 0.9217 - val_loss: 1.4419 - val_accuracy: 0.8044\n",
            "Epoch 19/100\n",
            "3154/3154 [==============================] - 8s 3ms/step - loss: 0.2277 - accuracy: 0.9226 - val_loss: 1.4629 - val_accuracy: 0.8069\n",
            "Epoch 20/100\n",
            "3154/3154 [==============================] - 8s 3ms/step - loss: 0.2124 - accuracy: 0.9287 - val_loss: 1.5349 - val_accuracy: 0.8063\n",
            "Epoch 21/100\n",
            "3154/3154 [==============================] - 8s 3ms/step - loss: 0.2065 - accuracy: 0.9293 - val_loss: 1.4875 - val_accuracy: 0.8127\n",
            "Epoch 22/100\n",
            "3154/3154 [==============================] - 8s 3ms/step - loss: 0.1958 - accuracy: 0.9302 - val_loss: 1.6126 - val_accuracy: 0.7909\n",
            "Epoch 23/100\n",
            "3154/3154 [==============================] - 8s 3ms/step - loss: 0.1901 - accuracy: 0.9353 - val_loss: 1.5434 - val_accuracy: 0.8082\n",
            "Epoch 24/100\n",
            "3154/3154 [==============================] - 8s 3ms/step - loss: 0.1875 - accuracy: 0.9369 - val_loss: 1.5048 - val_accuracy: 0.8179\n",
            "Epoch 25/100\n",
            "3154/3154 [==============================] - 8s 3ms/step - loss: 0.1722 - accuracy: 0.9432 - val_loss: 1.6393 - val_accuracy: 0.7934\n",
            "Epoch 26/100\n",
            "3154/3154 [==============================] - 8s 3ms/step - loss: 0.1694 - accuracy: 0.9407 - val_loss: 1.6031 - val_accuracy: 0.8185\n",
            "Epoch 27/100\n",
            "3154/3154 [==============================] - 8s 3ms/step - loss: 0.1606 - accuracy: 0.9445 - val_loss: 1.5825 - val_accuracy: 0.8205\n",
            "Epoch 28/100\n",
            "3154/3154 [==============================] - 8s 3ms/step - loss: 0.1658 - accuracy: 0.9423 - val_loss: 1.6842 - val_accuracy: 0.7960\n",
            "Epoch 29/100\n",
            "3154/3154 [==============================] - 8s 3ms/step - loss: 0.1529 - accuracy: 0.9445 - val_loss: 1.6403 - val_accuracy: 0.8095\n",
            "Epoch 30/100\n",
            "3154/3154 [==============================] - 8s 3ms/step - loss: 0.1467 - accuracy: 0.9474 - val_loss: 1.6014 - val_accuracy: 0.8314\n",
            "Epoch 31/100\n",
            "3154/3154 [==============================] - 8s 3ms/step - loss: 0.1486 - accuracy: 0.9436 - val_loss: 1.6434 - val_accuracy: 0.8269\n",
            "Epoch 32/100\n",
            "3154/3154 [==============================] - 8s 3ms/step - loss: 0.1462 - accuracy: 0.9439 - val_loss: 1.7400 - val_accuracy: 0.8095\n",
            "Epoch 33/100\n",
            "3154/3154 [==============================] - 8s 3ms/step - loss: 0.1383 - accuracy: 0.9518 - val_loss: 1.6325 - val_accuracy: 0.8301\n",
            "Epoch 34/100\n",
            "3154/3154 [==============================] - 8s 3ms/step - loss: 0.1371 - accuracy: 0.9515 - val_loss: 1.6982 - val_accuracy: 0.8340\n",
            "Epoch 35/100\n",
            "3154/3154 [==============================] - 8s 3ms/step - loss: 0.1352 - accuracy: 0.9528 - val_loss: 1.7435 - val_accuracy: 0.8243\n",
            "Epoch 36/100\n",
            "3154/3154 [==============================] - 8s 3ms/step - loss: 0.1423 - accuracy: 0.9493 - val_loss: 1.6925 - val_accuracy: 0.8320\n",
            "Epoch 37/100\n",
            "3154/3154 [==============================] - 8s 3ms/step - loss: 0.1276 - accuracy: 0.9528 - val_loss: 1.7558 - val_accuracy: 0.8224\n",
            "Epoch 38/100\n",
            "3154/3154 [==============================] - 8s 3ms/step - loss: 0.1318 - accuracy: 0.9512 - val_loss: 1.8138 - val_accuracy: 0.8211\n",
            "Epoch 39/100\n",
            "3154/3154 [==============================] - 8s 3ms/step - loss: 0.1245 - accuracy: 0.9499 - val_loss: 1.8056 - val_accuracy: 0.8192\n",
            "Epoch 40/100\n",
            "3154/3154 [==============================] - 8s 3ms/step - loss: 0.1229 - accuracy: 0.9531 - val_loss: 1.9180 - val_accuracy: 0.8095\n",
            "Epoch 41/100\n",
            "3154/3154 [==============================] - 8s 3ms/step - loss: 0.1235 - accuracy: 0.9537 - val_loss: 1.8620 - val_accuracy: 0.8134\n",
            "Epoch 42/100\n",
            "3154/3154 [==============================] - 8s 3ms/step - loss: 0.1161 - accuracy: 0.9540 - val_loss: 1.7848 - val_accuracy: 0.8320\n",
            "Epoch 43/100\n",
            "3154/3154 [==============================] - 8s 3ms/step - loss: 0.1202 - accuracy: 0.9540 - val_loss: 1.7862 - val_accuracy: 0.8340\n",
            "Epoch 44/100\n",
            "3154/3154 [==============================] - 8s 3ms/step - loss: 0.1119 - accuracy: 0.9566 - val_loss: 1.8887 - val_accuracy: 0.8243\n",
            "Epoch 45/100\n",
            "3154/3154 [==============================] - 8s 3ms/step - loss: 0.1137 - accuracy: 0.9572 - val_loss: 1.8032 - val_accuracy: 0.8353\n",
            "Epoch 46/100\n",
            "3154/3154 [==============================] - 8s 3ms/step - loss: 0.1036 - accuracy: 0.9591 - val_loss: 1.8387 - val_accuracy: 0.8224\n",
            "Epoch 47/100\n",
            "3154/3154 [==============================] - 8s 3ms/step - loss: 0.1028 - accuracy: 0.9604 - val_loss: 1.9145 - val_accuracy: 0.8327\n",
            "Epoch 48/100\n",
            "3154/3154 [==============================] - 8s 3ms/step - loss: 0.1174 - accuracy: 0.9588 - val_loss: 1.8418 - val_accuracy: 0.8237\n",
            "Epoch 49/100\n",
            "3154/3154 [==============================] - 8s 3ms/step - loss: 0.1084 - accuracy: 0.9581 - val_loss: 1.9461 - val_accuracy: 0.8340\n",
            "Epoch 50/100\n",
            "3154/3154 [==============================] - 8s 3ms/step - loss: 0.1031 - accuracy: 0.9581 - val_loss: 1.9433 - val_accuracy: 0.8327\n",
            "Epoch 51/100\n",
            "3154/3154 [==============================] - 8s 3ms/step - loss: 0.1027 - accuracy: 0.9578 - val_loss: 1.9466 - val_accuracy: 0.8366\n",
            "Epoch 52/100\n",
            "3154/3154 [==============================] - 8s 3ms/step - loss: 0.0972 - accuracy: 0.9620 - val_loss: 1.9954 - val_accuracy: 0.8308\n",
            "Epoch 53/100\n",
            "3154/3154 [==============================] - 8s 3ms/step - loss: 0.0995 - accuracy: 0.9629 - val_loss: 1.8818 - val_accuracy: 0.8320\n",
            "Epoch 54/100\n",
            "3154/3154 [==============================] - 8s 3ms/step - loss: 0.0986 - accuracy: 0.9607 - val_loss: 2.0304 - val_accuracy: 0.8411\n",
            "Epoch 55/100\n",
            "3154/3154 [==============================] - 8s 3ms/step - loss: 0.1065 - accuracy: 0.9588 - val_loss: 1.9668 - val_accuracy: 0.8404\n",
            "Epoch 56/100\n",
            "3154/3154 [==============================] - 8s 3ms/step - loss: 0.0919 - accuracy: 0.9632 - val_loss: 2.0532 - val_accuracy: 0.8198\n",
            "Epoch 57/100\n",
            "3154/3154 [==============================] - 8s 3ms/step - loss: 0.0913 - accuracy: 0.9648 - val_loss: 2.1086 - val_accuracy: 0.8359\n",
            "Epoch 58/100\n",
            "3154/3154 [==============================] - 8s 3ms/step - loss: 0.0961 - accuracy: 0.9601 - val_loss: 2.0407 - val_accuracy: 0.8346\n",
            "Epoch 59/100\n",
            "3154/3154 [==============================] - 8s 3ms/step - loss: 0.1003 - accuracy: 0.9572 - val_loss: 2.0269 - val_accuracy: 0.8359\n",
            "Epoch 60/100\n",
            "3154/3154 [==============================] - 8s 3ms/step - loss: 0.0941 - accuracy: 0.9601 - val_loss: 2.0878 - val_accuracy: 0.8333\n",
            "Epoch 61/100\n",
            "3154/3154 [==============================] - 8s 3ms/step - loss: 0.0954 - accuracy: 0.9588 - val_loss: 2.0506 - val_accuracy: 0.8333\n",
            "Epoch 62/100\n",
            "3154/3154 [==============================] - 8s 3ms/step - loss: 0.0959 - accuracy: 0.9623 - val_loss: 2.0112 - val_accuracy: 0.8340\n",
            "Epoch 63/100\n",
            "3154/3154 [==============================] - 8s 3ms/step - loss: 0.0913 - accuracy: 0.9635 - val_loss: 2.0492 - val_accuracy: 0.8391\n",
            "Epoch 64/100\n",
            "3154/3154 [==============================] - 8s 3ms/step - loss: 0.0950 - accuracy: 0.9629 - val_loss: 2.2705 - val_accuracy: 0.8237\n",
            "Epoch 65/100\n",
            "3154/3154 [==============================] - 8s 3ms/step - loss: 0.0840 - accuracy: 0.9632 - val_loss: 2.2971 - val_accuracy: 0.8288\n",
            "Epoch 66/100\n",
            "3154/3154 [==============================] - 8s 3ms/step - loss: 0.0909 - accuracy: 0.9604 - val_loss: 2.2149 - val_accuracy: 0.8314\n",
            "Epoch 67/100\n",
            "3154/3154 [==============================] - 8s 3ms/step - loss: 0.0927 - accuracy: 0.9588 - val_loss: 2.1851 - val_accuracy: 0.8353\n",
            "Epoch 68/100\n",
            "3154/3154 [==============================] - 8s 3ms/step - loss: 0.0855 - accuracy: 0.9629 - val_loss: 2.2627 - val_accuracy: 0.8475\n",
            "Epoch 69/100\n",
            "3154/3154 [==============================] - 8s 3ms/step - loss: 0.0914 - accuracy: 0.9601 - val_loss: 2.2034 - val_accuracy: 0.8288\n",
            "Epoch 70/100\n",
            "3154/3154 [==============================] - 8s 3ms/step - loss: 0.0864 - accuracy: 0.9601 - val_loss: 2.1380 - val_accuracy: 0.8346\n",
            "Epoch 71/100\n",
            "3154/3154 [==============================] - 8s 3ms/step - loss: 0.0884 - accuracy: 0.9642 - val_loss: 2.2279 - val_accuracy: 0.8327\n",
            "Epoch 72/100\n",
            "3154/3154 [==============================] - 8s 3ms/step - loss: 0.0841 - accuracy: 0.9642 - val_loss: 2.3756 - val_accuracy: 0.8366\n",
            "Epoch 73/100\n",
            "3154/3154 [==============================] - 8s 3ms/step - loss: 0.0882 - accuracy: 0.9632 - val_loss: 2.2706 - val_accuracy: 0.8295\n",
            "Epoch 74/100\n",
            "3154/3154 [==============================] - 8s 3ms/step - loss: 0.0815 - accuracy: 0.9635 - val_loss: 2.3563 - val_accuracy: 0.8089\n",
            "Epoch 75/100\n",
            "3154/3154 [==============================] - 8s 3ms/step - loss: 0.0890 - accuracy: 0.9610 - val_loss: 2.3195 - val_accuracy: 0.8378\n",
            "Epoch 76/100\n",
            "3154/3154 [==============================] - 8s 3ms/step - loss: 0.0814 - accuracy: 0.9658 - val_loss: 2.3859 - val_accuracy: 0.8263\n",
            "Epoch 77/100\n",
            "3154/3154 [==============================] - 8s 3ms/step - loss: 0.0819 - accuracy: 0.9632 - val_loss: 2.4852 - val_accuracy: 0.8320\n",
            "Epoch 78/100\n",
            "3154/3154 [==============================] - 8s 3ms/step - loss: 0.0730 - accuracy: 0.9658 - val_loss: 2.3148 - val_accuracy: 0.8398\n",
            "Epoch 79/100\n",
            "3154/3154 [==============================] - 8s 3ms/step - loss: 0.0781 - accuracy: 0.9689 - val_loss: 2.4647 - val_accuracy: 0.8295\n",
            "Epoch 80/100\n",
            "3154/3154 [==============================] - 8s 3ms/step - loss: 0.0777 - accuracy: 0.9654 - val_loss: 2.3977 - val_accuracy: 0.8359\n",
            "Epoch 81/100\n",
            "3154/3154 [==============================] - 8s 3ms/step - loss: 0.0856 - accuracy: 0.9632 - val_loss: 2.4157 - val_accuracy: 0.8366\n",
            "Epoch 82/100\n",
            "3154/3154 [==============================] - 8s 3ms/step - loss: 0.0822 - accuracy: 0.9664 - val_loss: 2.2973 - val_accuracy: 0.8411\n",
            "Epoch 83/100\n",
            "3154/3154 [==============================] - 8s 3ms/step - loss: 0.0853 - accuracy: 0.9651 - val_loss: 2.4300 - val_accuracy: 0.8237\n",
            "Epoch 84/100\n",
            "3154/3154 [==============================] - 8s 3ms/step - loss: 0.0794 - accuracy: 0.9635 - val_loss: 2.3556 - val_accuracy: 0.8282\n",
            "Epoch 85/100\n",
            "3154/3154 [==============================] - 8s 3ms/step - loss: 0.0785 - accuracy: 0.9645 - val_loss: 2.3698 - val_accuracy: 0.8250\n",
            "Epoch 86/100\n",
            "3154/3154 [==============================] - 8s 3ms/step - loss: 0.0900 - accuracy: 0.9635 - val_loss: 2.4253 - val_accuracy: 0.8353\n",
            "Epoch 87/100\n",
            "3154/3154 [==============================] - 8s 3ms/step - loss: 0.0735 - accuracy: 0.9692 - val_loss: 2.5027 - val_accuracy: 0.8378\n",
            "Epoch 88/100\n",
            "3154/3154 [==============================] - 8s 3ms/step - loss: 0.0776 - accuracy: 0.9664 - val_loss: 2.4657 - val_accuracy: 0.8295\n",
            "Epoch 89/100\n",
            "3154/3154 [==============================] - 8s 3ms/step - loss: 0.0794 - accuracy: 0.9635 - val_loss: 2.5909 - val_accuracy: 0.8327\n",
            "Epoch 90/100\n",
            "3154/3154 [==============================] - 8s 3ms/step - loss: 0.0809 - accuracy: 0.9651 - val_loss: 2.5564 - val_accuracy: 0.8366\n",
            "Epoch 91/100\n",
            "3154/3154 [==============================] - 8s 3ms/step - loss: 0.0758 - accuracy: 0.9658 - val_loss: 2.6900 - val_accuracy: 0.8282\n",
            "Epoch 92/100\n",
            "3154/3154 [==============================] - 8s 3ms/step - loss: 0.0771 - accuracy: 0.9645 - val_loss: 2.5900 - val_accuracy: 0.8359\n",
            "Epoch 93/100\n",
            "3154/3154 [==============================] - 8s 3ms/step - loss: 0.0786 - accuracy: 0.9658 - val_loss: 2.8098 - val_accuracy: 0.8301\n",
            "Epoch 94/100\n",
            "3154/3154 [==============================] - 8s 3ms/step - loss: 0.0767 - accuracy: 0.9658 - val_loss: 2.5369 - val_accuracy: 0.8385\n",
            "Epoch 95/100\n",
            "3154/3154 [==============================] - 8s 3ms/step - loss: 0.0781 - accuracy: 0.9670 - val_loss: 2.5637 - val_accuracy: 0.8404\n",
            "Epoch 96/100\n",
            "3154/3154 [==============================] - 8s 3ms/step - loss: 0.0686 - accuracy: 0.9683 - val_loss: 2.6140 - val_accuracy: 0.8468\n",
            "Epoch 97/100\n",
            "3154/3154 [==============================] - 8s 3ms/step - loss: 0.0899 - accuracy: 0.9667 - val_loss: 2.3979 - val_accuracy: 0.8398\n",
            "Epoch 98/100\n",
            "3154/3154 [==============================] - 8s 3ms/step - loss: 0.0660 - accuracy: 0.9692 - val_loss: 2.5983 - val_accuracy: 0.8456\n",
            "Epoch 99/100\n",
            "3154/3154 [==============================] - 8s 3ms/step - loss: 0.0719 - accuracy: 0.9658 - val_loss: 2.7967 - val_accuracy: 0.8288\n",
            "Epoch 100/100\n",
            "3154/3154 [==============================] - 8s 3ms/step - loss: 0.0716 - accuracy: 0.9686 - val_loss: 2.8280 - val_accuracy: 0.8230\n",
            "Model: \"sequential_14\"\n",
            "_________________________________________________________________\n",
            " Layer (type)                Output Shape              Param #   \n",
            "=================================================================\n",
            " dense_35 (Dense)            (None, 128)               16256     \n",
            "                                                                 \n",
            " dense_36 (Dense)            (None, 128)               16512     \n",
            "                                                                 \n",
            " dense_37 (Dense)            (None, 198)               25542     \n",
            "                                                                 \n",
            "=================================================================\n",
            "Total params: 58,310\n",
            "Trainable params: 58,310\n",
            "Non-trainable params: 0\n",
            "_________________________________________________________________\n"
          ]
        }
      ],
      "source": [
        "model1 = Sequential()\n",
        "model1.add(tf.keras.layers.Dense(128, activation='relu', input_shape=(126,)))\n",
        "model1.add(tf.keras.layers.Dense(128, activation='relu'))\n",
        "model1.add(Dense(len(label_map1)))\n",
        "model1.compile(optimizer='adam',loss=tf.keras.losses.SparseCategoricalCrossentropy(from_logits=True), metrics=['accuracy'])\n",
        "history1 = model1.fit(np.array(X_train1), np.array(y_train1), validation_split=0.33, epochs=100, batch_size=1,verbose=1, shuffle=True)\n",
        "\n",
        "model1.summary()\n",
        "\n",
        "model1.save(\"model1V2\")\n",
        "with open('trainHistory1DictV2', 'wb') as file_pi:\n",
        "    pickle.dump(history1.history, file_pi)"
      ]
    },
    {
      "cell_type": "code",
      "source": [
        "plt.plot(history1.history['accuracy'])\n",
        "plt.plot(history1.history['val_accuracy'])\n",
        "plt.title('model accuracy')\n",
        "plt.ylabel('accuracy')\n",
        "plt.xlabel('epoch')\n",
        "plt.legend(['train', 'val'], loc='upper left')\n",
        "plt.savefig(\"m1V2Accuracy.png\")\n",
        "plt.show()\n",
        "plt.clf()\n",
        "\n",
        "plt.plot(history1.history['loss'])\n",
        "plt.plot(history1.history['val_loss'])\n",
        "plt.title('model loss')\n",
        "plt.ylabel('loss')\n",
        "plt.xlabel('epoch')\n",
        "plt.legend(['train', 'val'], loc='upper left')\n",
        "plt.savefig(\"m1V2Loss.png\")\n",
        "plt.show()\n",
        "plt.clf()"
      ],
      "metadata": {
        "id": "41X8_sle5ig2",
        "colab": {
          "base_uri": "https://localhost:8080/",
          "height": 591
        },
        "outputId": "1a7c18e2-3601-426b-ca77-38d30b035db9"
      },
      "execution_count": 41,
      "outputs": [
        {
          "output_type": "display_data",
          "data": {
            "text/plain": [
              "<Figure size 432x288 with 1 Axes>"
            ],
            "image/png": "[encoded data removed]"
          },
          "metadata": {
            "needs_background": "light"
          }
        },
        {
          "output_type": "display_data",
          "data": {
            "text/plain": [
              "<Figure size 432x288 with 1 Axes>"
            ],
            "image/png": "[encoded data removed]"
          },
          "metadata": {
            "needs_background": "light"
          }
        },
        {
          "output_type": "display_data",
          "data": {
            "text/plain": [
              "<Figure size 432x288 with 0 Axes>"
            ]
          },
          "metadata": {}
        }
      ]
    },
    {
      "cell_type": "code",
      "source": [
        "score, acc = model1.evaluate(X_test1, y_test1, batch_size=1)\n",
        "print('Test score:', score)\n",
        "print('Test accuracy:', acc)\n",
        "\n",
        "f = open('m1_V2_Metrics.txt','w') \n",
        "f.write(\"Test Score: \")\n",
        "f.write(str(score))\n",
        "f.write(\"\\n\\nTest Accuracy: \")\n",
        "f.write(str(acc))\n",
        "f.close()"
      ],
      "metadata": {
        "id": "MFD6GFM6IqRj",
        "colab": {
          "base_uri": "https://localhost:8080/"
        },
        "outputId": "2f7d4316-92fc-401e-bc8b-f5f184b9cab2"
      },
      "execution_count": 47,
      "outputs": [
        {
          "output_type": "stream",
          "name": "stdout",
          "text": [
            "248/248 [==============================] - 0s 2ms/step - loss: 2.6216 - accuracy: 0.8790\n",
            "Test score: 2.6216156482696533\n",
            "Test accuracy: 0.8790322542190552\n"
          ]
        }
      ]
    },
    {
      "cell_type": "markdown",
      "source": [
        "#Model 2: 360 index"
      ],
      "metadata": {
        "id": "pqoxzz3WDyWi"
      }
    },
    {
      "cell_type": "code",
      "source": [
        "X_train2, X_test2, y_train2, y_test2 = train_test_split(skinMask360, Labels, test_size=0.05, random_state=42)"
      ],
      "metadata": {
        "id": "ZtYCU1QkBcAe"
      },
      "execution_count": 48,
      "outputs": []
    },
    {
      "cell_type": "code",
      "execution_count": 49,
      "metadata": {
        "id": "m4Z813FnBcAf",
        "colab": {
          "base_uri": "https://localhost:8080/"
        },
        "outputId": "b55b8130-6dc7-4f13-d1fd-2d96ded03c55"
      },
      "outputs": [
        {
          "output_type": "stream",
          "name": "stdout",
          "text": [
            "Epoch 1/100\n",
            "3154/3154 [==============================] - 9s 3ms/step - loss: 5.2323 - accuracy: 0.0523 - val_loss: 4.9448 - val_accuracy: 0.0515\n",
            "Epoch 2/100\n",
            "3154/3154 [==============================] - 9s 3ms/step - loss: 4.8259 - accuracy: 0.0514 - val_loss: 4.9203 - val_accuracy: 0.0515\n",
            "Epoch 3/100\n",
            "3154/3154 [==============================] - 8s 3ms/step - loss: 4.8171 - accuracy: 0.0498 - val_loss: 4.9187 - val_accuracy: 0.0457\n",
            "Epoch 4/100\n",
            "3154/3154 [==============================] - 8s 3ms/step - loss: 4.8136 - accuracy: 0.0488 - val_loss: 4.9156 - val_accuracy: 0.0515\n",
            "Epoch 5/100\n",
            "3154/3154 [==============================] - 8s 3ms/step - loss: 4.8117 - accuracy: 0.0501 - val_loss: 4.9313 - val_accuracy: 0.0515\n",
            "Epoch 6/100\n",
            "3154/3154 [==============================] - 8s 3ms/step - loss: 4.8113 - accuracy: 0.0488 - val_loss: 4.9176 - val_accuracy: 0.0515\n",
            "Epoch 7/100\n",
            "3154/3154 [==============================] - 8s 3ms/step - loss: 4.8097 - accuracy: 0.0510 - val_loss: 4.9180 - val_accuracy: 0.0457\n",
            "Epoch 8/100\n",
            "3154/3154 [==============================] - 8s 3ms/step - loss: 4.8088 - accuracy: 0.0476 - val_loss: 4.9328 - val_accuracy: 0.0515\n",
            "Epoch 9/100\n",
            "3154/3154 [==============================] - 8s 3ms/step - loss: 4.8088 - accuracy: 0.0491 - val_loss: 4.9195 - val_accuracy: 0.0515\n",
            "Epoch 10/100\n",
            "3154/3154 [==============================] - 8s 3ms/step - loss: 4.8072 - accuracy: 0.0507 - val_loss: 4.9256 - val_accuracy: 0.0457\n",
            "Epoch 11/100\n",
            "3154/3154 [==============================] - 8s 3ms/step - loss: 4.8070 - accuracy: 0.0491 - val_loss: 4.9192 - val_accuracy: 0.0515\n",
            "Epoch 12/100\n",
            "3154/3154 [==============================] - 8s 3ms/step - loss: 4.8067 - accuracy: 0.0450 - val_loss: 4.9166 - val_accuracy: 0.0515\n",
            "Epoch 13/100\n",
            "3154/3154 [==============================] - 8s 3ms/step - loss: 4.8053 - accuracy: 0.0476 - val_loss: 4.9152 - val_accuracy: 0.0515\n",
            "Epoch 14/100\n",
            "3154/3154 [==============================] - 8s 3ms/step - loss: 4.8052 - accuracy: 0.0488 - val_loss: 4.9240 - val_accuracy: 0.0515\n",
            "Epoch 15/100\n",
            "3154/3154 [==============================] - 8s 3ms/step - loss: 4.8050 - accuracy: 0.0514 - val_loss: 4.9240 - val_accuracy: 0.0515\n",
            "Epoch 16/100\n",
            "3154/3154 [==============================] - 8s 3ms/step - loss: 4.8051 - accuracy: 0.0514 - val_loss: 4.9213 - val_accuracy: 0.0515\n",
            "Epoch 17/100\n",
            "3154/3154 [==============================] - 8s 3ms/step - loss: 4.8048 - accuracy: 0.0495 - val_loss: 4.9190 - val_accuracy: 0.0515\n",
            "Epoch 18/100\n",
            "3154/3154 [==============================] - 8s 3ms/step - loss: 4.8037 - accuracy: 0.0501 - val_loss: 4.9253 - val_accuracy: 0.0515\n",
            "Epoch 19/100\n",
            "3154/3154 [==============================] - 8s 3ms/step - loss: 4.8037 - accuracy: 0.0520 - val_loss: 4.9238 - val_accuracy: 0.0515\n",
            "Epoch 20/100\n",
            "3154/3154 [==============================] - 8s 3ms/step - loss: 4.8039 - accuracy: 0.0504 - val_loss: 4.9215 - val_accuracy: 0.0515\n",
            "Epoch 21/100\n",
            "3154/3154 [==============================] - 8s 3ms/step - loss: 4.8031 - accuracy: 0.0520 - val_loss: 4.9185 - val_accuracy: 0.0515\n",
            "Epoch 22/100\n",
            "3154/3154 [==============================] - 8s 3ms/step - loss: 4.8033 - accuracy: 0.0482 - val_loss: 4.9200 - val_accuracy: 0.0515\n",
            "Epoch 23/100\n",
            "3154/3154 [==============================] - 8s 3ms/step - loss: 4.8023 - accuracy: 0.0514 - val_loss: 4.9190 - val_accuracy: 0.0515\n",
            "Epoch 24/100\n",
            "3154/3154 [==============================] - 8s 3ms/step - loss: 4.8026 - accuracy: 0.0504 - val_loss: 4.9187 - val_accuracy: 0.0457\n",
            "Epoch 25/100\n",
            "3154/3154 [==============================] - 8s 3ms/step - loss: 4.8020 - accuracy: 0.0495 - val_loss: 4.9291 - val_accuracy: 0.0457\n",
            "Epoch 26/100\n",
            "3154/3154 [==============================] - 8s 3ms/step - loss: 4.8023 - accuracy: 0.0476 - val_loss: 4.9207 - val_accuracy: 0.0457\n",
            "Epoch 27/100\n",
            "3154/3154 [==============================] - 8s 3ms/step - loss: 4.8021 - accuracy: 0.0457 - val_loss: 4.9285 - val_accuracy: 0.0515\n",
            "Epoch 28/100\n",
            "3154/3154 [==============================] - 8s 3ms/step - loss: 4.8018 - accuracy: 0.0495 - val_loss: 4.9297 - val_accuracy: 0.0457\n",
            "Epoch 29/100\n",
            "3154/3154 [==============================] - 8s 3ms/step - loss: 4.8013 - accuracy: 0.0460 - val_loss: 4.9236 - val_accuracy: 0.0515\n",
            "Epoch 30/100\n",
            "3154/3154 [==============================] - 8s 3ms/step - loss: 4.8012 - accuracy: 0.0520 - val_loss: 4.9187 - val_accuracy: 0.0515\n",
            "Epoch 31/100\n",
            "3154/3154 [==============================] - 8s 3ms/step - loss: 4.8013 - accuracy: 0.0514 - val_loss: 4.9251 - val_accuracy: 0.0515\n",
            "Epoch 32/100\n",
            "3154/3154 [==============================] - 8s 3ms/step - loss: 4.8009 - accuracy: 0.0520 - val_loss: 4.9325 - val_accuracy: 0.0515\n",
            "Epoch 33/100\n",
            "3154/3154 [==============================] - 8s 3ms/step - loss: 4.8007 - accuracy: 0.0504 - val_loss: 4.9236 - val_accuracy: 0.0515\n",
            "Epoch 34/100\n",
            "3154/3154 [==============================] - 8s 3ms/step - loss: 4.8011 - accuracy: 0.0517 - val_loss: 4.9265 - val_accuracy: 0.0515\n",
            "Epoch 35/100\n",
            "3154/3154 [==============================] - 8s 3ms/step - loss: 4.8009 - accuracy: 0.0507 - val_loss: 4.9235 - val_accuracy: 0.0515\n",
            "Epoch 36/100\n",
            "3154/3154 [==============================] - 8s 3ms/step - loss: 4.8007 - accuracy: 0.0520 - val_loss: 4.9264 - val_accuracy: 0.0515\n",
            "Epoch 37/100\n",
            "3154/3154 [==============================] - 8s 3ms/step - loss: 4.8005 - accuracy: 0.0469 - val_loss: 4.9345 - val_accuracy: 0.0515\n",
            "Epoch 38/100\n",
            "3154/3154 [==============================] - 8s 3ms/step - loss: 4.8005 - accuracy: 0.0520 - val_loss: 4.9273 - val_accuracy: 0.0515\n",
            "Epoch 39/100\n",
            "3154/3154 [==============================] - 8s 3ms/step - loss: 4.7998 - accuracy: 0.0507 - val_loss: 4.9266 - val_accuracy: 0.0515\n",
            "Epoch 40/100\n",
            "3154/3154 [==============================] - 8s 3ms/step - loss: 4.7992 - accuracy: 0.0514 - val_loss: 4.9186 - val_accuracy: 0.0515\n",
            "Epoch 41/100\n",
            "3154/3154 [==============================] - 8s 3ms/step - loss: 4.7987 - accuracy: 0.0517 - val_loss: 4.9192 - val_accuracy: 0.0515\n",
            "Epoch 42/100\n",
            "3154/3154 [==============================] - 8s 3ms/step - loss: 4.7995 - accuracy: 0.0488 - val_loss: 4.9267 - val_accuracy: 0.0515\n",
            "Epoch 43/100\n",
            "3154/3154 [==============================] - 8s 3ms/step - loss: 4.7989 - accuracy: 0.0510 - val_loss: 4.9253 - val_accuracy: 0.0515\n",
            "Epoch 44/100\n",
            "3154/3154 [==============================] - 8s 3ms/step - loss: 4.7991 - accuracy: 0.0520 - val_loss: 4.9280 - val_accuracy: 0.0515\n",
            "Epoch 45/100\n",
            "3154/3154 [==============================] - 8s 3ms/step - loss: 4.7982 - accuracy: 0.0520 - val_loss: 4.9427 - val_accuracy: 0.0515\n",
            "Epoch 46/100\n",
            "3154/3154 [==============================] - 8s 3ms/step - loss: 4.7986 - accuracy: 0.0431 - val_loss: 4.9232 - val_accuracy: 0.0515\n",
            "Epoch 47/100\n",
            "3154/3154 [==============================] - 8s 3ms/step - loss: 4.7984 - accuracy: 0.0472 - val_loss: 4.9241 - val_accuracy: 0.0515\n",
            "Epoch 48/100\n",
            "3154/3154 [==============================] - 8s 3ms/step - loss: 4.7982 - accuracy: 0.0520 - val_loss: 4.9347 - val_accuracy: 0.0515\n",
            "Epoch 49/100\n",
            "3154/3154 [==============================] - 8s 3ms/step - loss: 4.7973 - accuracy: 0.0507 - val_loss: 4.9204 - val_accuracy: 0.0515\n",
            "Epoch 50/100\n",
            "3154/3154 [==============================] - 8s 3ms/step - loss: 4.7985 - accuracy: 0.0520 - val_loss: 4.9276 - val_accuracy: 0.0515\n",
            "Epoch 51/100\n",
            "3154/3154 [==============================] - 9s 3ms/step - loss: 4.7982 - accuracy: 0.0510 - val_loss: 4.9274 - val_accuracy: 0.0515\n",
            "Epoch 52/100\n",
            "3154/3154 [==============================] - 8s 3ms/step - loss: 4.7974 - accuracy: 0.0514 - val_loss: 4.9313 - val_accuracy: 0.0515\n",
            "Epoch 53/100\n",
            "3154/3154 [==============================] - 8s 3ms/step - loss: 4.7978 - accuracy: 0.0504 - val_loss: 4.9259 - val_accuracy: 0.0515\n",
            "Epoch 54/100\n",
            "3154/3154 [==============================] - 8s 3ms/step - loss: 4.7974 - accuracy: 0.0479 - val_loss: 4.9226 - val_accuracy: 0.0515\n",
            "Epoch 55/100\n",
            "3154/3154 [==============================] - 8s 3ms/step - loss: 4.7975 - accuracy: 0.0520 - val_loss: 4.9271 - val_accuracy: 0.0515\n",
            "Epoch 56/100\n",
            "3154/3154 [==============================] - 8s 3ms/step - loss: 4.7978 - accuracy: 0.0504 - val_loss: 4.9283 - val_accuracy: 0.0515\n",
            "Epoch 57/100\n",
            "3154/3154 [==============================] - 8s 3ms/step - loss: 4.7973 - accuracy: 0.0520 - val_loss: 4.9291 - val_accuracy: 0.0515\n",
            "Epoch 58/100\n",
            "3154/3154 [==============================] - 8s 3ms/step - loss: 4.7971 - accuracy: 0.0520 - val_loss: 4.9271 - val_accuracy: 0.0515\n",
            "Epoch 59/100\n",
            "3154/3154 [==============================] - 8s 3ms/step - loss: 4.7972 - accuracy: 0.0520 - val_loss: 4.9276 - val_accuracy: 0.0515\n",
            "Epoch 60/100\n",
            "3154/3154 [==============================] - 8s 3ms/step - loss: 4.7968 - accuracy: 0.0476 - val_loss: 4.9300 - val_accuracy: 0.0515\n",
            "Epoch 61/100\n",
            "3154/3154 [==============================] - 8s 3ms/step - loss: 4.7969 - accuracy: 0.0507 - val_loss: 4.9241 - val_accuracy: 0.0515\n",
            "Epoch 62/100\n",
            "3154/3154 [==============================] - 8s 3ms/step - loss: 4.7966 - accuracy: 0.0520 - val_loss: 4.9286 - val_accuracy: 0.0515\n",
            "Epoch 63/100\n",
            "3154/3154 [==============================] - 8s 3ms/step - loss: 4.7964 - accuracy: 0.0488 - val_loss: 4.9312 - val_accuracy: 0.0515\n",
            "Epoch 64/100\n",
            "3154/3154 [==============================] - 8s 3ms/step - loss: 4.7966 - accuracy: 0.0520 - val_loss: 4.9238 - val_accuracy: 0.0515\n",
            "Epoch 65/100\n",
            "3154/3154 [==============================] - 8s 3ms/step - loss: 4.7966 - accuracy: 0.0514 - val_loss: 4.9280 - val_accuracy: 0.0515\n",
            "Epoch 66/100\n",
            "3154/3154 [==============================] - 8s 3ms/step - loss: 4.7967 - accuracy: 0.0514 - val_loss: 4.9227 - val_accuracy: 0.0515\n",
            "Epoch 67/100\n",
            "3154/3154 [==============================] - 8s 3ms/step - loss: 4.7964 - accuracy: 0.0485 - val_loss: 4.9239 - val_accuracy: 0.0515\n",
            "Epoch 68/100\n",
            "3154/3154 [==============================] - 8s 3ms/step - loss: 4.7962 - accuracy: 0.0504 - val_loss: 4.9255 - val_accuracy: 0.0515\n",
            "Epoch 69/100\n",
            "3154/3154 [==============================] - 8s 3ms/step - loss: 4.7963 - accuracy: 0.0504 - val_loss: 4.9273 - val_accuracy: 0.0515\n",
            "Epoch 70/100\n",
            "3154/3154 [==============================] - 8s 3ms/step - loss: 4.7961 - accuracy: 0.0520 - val_loss: 4.9280 - val_accuracy: 0.0515\n",
            "Epoch 71/100\n",
            "3154/3154 [==============================] - 8s 3ms/step - loss: 4.7961 - accuracy: 0.0520 - val_loss: 4.9289 - val_accuracy: 0.0515\n",
            "Epoch 72/100\n",
            "3154/3154 [==============================] - 8s 3ms/step - loss: 4.7962 - accuracy: 0.0520 - val_loss: 4.9296 - val_accuracy: 0.0515\n",
            "Epoch 73/100\n",
            "3154/3154 [==============================] - 8s 3ms/step - loss: 4.7961 - accuracy: 0.0514 - val_loss: 4.9311 - val_accuracy: 0.0515\n",
            "Epoch 74/100\n",
            "3154/3154 [==============================] - 8s 3ms/step - loss: 4.7963 - accuracy: 0.0488 - val_loss: 4.9318 - val_accuracy: 0.0515\n",
            "Epoch 75/100\n",
            "3154/3154 [==============================] - 8s 3ms/step - loss: 4.7962 - accuracy: 0.0520 - val_loss: 4.9320 - val_accuracy: 0.0515\n",
            "Epoch 76/100\n",
            "3154/3154 [==============================] - 8s 3ms/step - loss: 4.7966 - accuracy: 0.0520 - val_loss: 4.9329 - val_accuracy: 0.0515\n",
            "Epoch 77/100\n",
            "3154/3154 [==============================] - 8s 3ms/step - loss: 4.7965 - accuracy: 0.0510 - val_loss: 4.9335 - val_accuracy: 0.0515\n",
            "Epoch 78/100\n",
            "3154/3154 [==============================] - 8s 3ms/step - loss: 4.7965 - accuracy: 0.0520 - val_loss: 4.9339 - val_accuracy: 0.0515\n",
            "Epoch 79/100\n",
            "3154/3154 [==============================] - 8s 3ms/step - loss: 4.7965 - accuracy: 0.0520 - val_loss: 4.9340 - val_accuracy: 0.0515\n",
            "Epoch 80/100\n",
            "3154/3154 [==============================] - 8s 3ms/step - loss: 4.7967 - accuracy: 0.0514 - val_loss: 4.9346 - val_accuracy: 0.0515\n",
            "Epoch 81/100\n",
            "3154/3154 [==============================] - 8s 3ms/step - loss: 4.7966 - accuracy: 0.0514 - val_loss: 4.9349 - val_accuracy: 0.0515\n",
            "Epoch 82/100\n",
            "3154/3154 [==============================] - 8s 3ms/step - loss: 4.7967 - accuracy: 0.0520 - val_loss: 4.9359 - val_accuracy: 0.0515\n",
            "Epoch 83/100\n",
            "3154/3154 [==============================] - 8s 3ms/step - loss: 4.7967 - accuracy: 0.0520 - val_loss: 4.9356 - val_accuracy: 0.0515\n",
            "Epoch 84/100\n",
            "3154/3154 [==============================] - 8s 3ms/step - loss: 4.7967 - accuracy: 0.0520 - val_loss: 4.9352 - val_accuracy: 0.0515\n",
            "Epoch 85/100\n",
            "3154/3154 [==============================] - 8s 3ms/step - loss: 4.7967 - accuracy: 0.0514 - val_loss: 4.9353 - val_accuracy: 0.0515\n",
            "Epoch 86/100\n",
            "3154/3154 [==============================] - 8s 3ms/step - loss: 4.7967 - accuracy: 0.0520 - val_loss: 4.9355 - val_accuracy: 0.0515\n",
            "Epoch 87/100\n",
            "3154/3154 [==============================] - 8s 3ms/step - loss: 4.7967 - accuracy: 0.0520 - val_loss: 4.9357 - val_accuracy: 0.0515\n",
            "Epoch 88/100\n",
            "3154/3154 [==============================] - 8s 3ms/step - loss: 4.7969 - accuracy: 0.0520 - val_loss: 4.9361 - val_accuracy: 0.0515\n",
            "Epoch 89/100\n",
            "3154/3154 [==============================] - 9s 3ms/step - loss: 4.7968 - accuracy: 0.0504 - val_loss: 4.9361 - val_accuracy: 0.0515\n",
            "Epoch 90/100\n",
            "3154/3154 [==============================] - 8s 3ms/step - loss: 4.7968 - accuracy: 0.0520 - val_loss: 4.9363 - val_accuracy: 0.0515\n",
            "Epoch 91/100\n",
            "3154/3154 [==============================] - 8s 3ms/step - loss: 4.7968 - accuracy: 0.0520 - val_loss: 4.9366 - val_accuracy: 0.0515\n",
            "Epoch 92/100\n",
            "3154/3154 [==============================] - 8s 3ms/step - loss: 4.7968 - accuracy: 0.0520 - val_loss: 4.9365 - val_accuracy: 0.0515\n",
            "Epoch 93/100\n",
            "3154/3154 [==============================] - 8s 3ms/step - loss: 4.7969 - accuracy: 0.0514 - val_loss: 4.9362 - val_accuracy: 0.0515\n",
            "Epoch 94/100\n",
            "3154/3154 [==============================] - 8s 3ms/step - loss: 4.7969 - accuracy: 0.0491 - val_loss: 4.9370 - val_accuracy: 0.0515\n",
            "Epoch 95/100\n",
            "3154/3154 [==============================] - 8s 3ms/step - loss: 4.7969 - accuracy: 0.0520 - val_loss: 4.9374 - val_accuracy: 0.0515\n",
            "Epoch 96/100\n",
            "3154/3154 [==============================] - 8s 3ms/step - loss: 4.7968 - accuracy: 0.0504 - val_loss: 4.9370 - val_accuracy: 0.0515\n",
            "Epoch 97/100\n",
            "3154/3154 [==============================] - 8s 3ms/step - loss: 4.7970 - accuracy: 0.0520 - val_loss: 4.9367 - val_accuracy: 0.0515\n",
            "Epoch 98/100\n",
            "3154/3154 [==============================] - 8s 3ms/step - loss: 4.7970 - accuracy: 0.0501 - val_loss: 4.9367 - val_accuracy: 0.0515\n",
            "Epoch 99/100\n",
            "3154/3154 [==============================] - 8s 3ms/step - loss: 4.7970 - accuracy: 0.0520 - val_loss: 4.9369 - val_accuracy: 0.0515\n",
            "Epoch 100/100\n",
            "3154/3154 [==============================] - 8s 3ms/step - loss: 4.7969 - accuracy: 0.0520 - val_loss: 4.9370 - val_accuracy: 0.0515\n",
            "Model: \"sequential_17\"\n",
            "_________________________________________________________________\n",
            " Layer (type)                Output Shape              Param #   \n",
            "=================================================================\n",
            " dense_44 (Dense)            (None, 128)               138368    \n",
            "                                                                 \n",
            " dense_45 (Dense)            (None, 128)               16512     \n",
            "                                                                 \n",
            " dense_46 (Dense)            (None, 198)               25542     \n",
            "                                                                 \n",
            "=================================================================\n",
            "Total params: 180,422\n",
            "Trainable params: 180,422\n",
            "Non-trainable params: 0\n",
            "_________________________________________________________________\n"
          ]
        }
      ],
      "source": [
        "model2 = Sequential()\n",
        "model2.add(tf.keras.layers.Dense(128, activation='relu', input_shape=(1080,)))\n",
        "model2.add(tf.keras.layers.Dense(128, activation='relu'))\n",
        "model2.add(Dense(len(label_map1)))\n",
        "model2.compile(optimizer='adam',loss=tf.keras.losses.SparseCategoricalCrossentropy(from_logits=True), metrics=['accuracy'])\n",
        "history2 = model2.fit(np.array(X_train2), np.array(y_train2), validation_split=0.33, epochs=100, batch_size=1,verbose=1, shuffle=True)\n",
        "\n",
        "model2.summary()\n",
        "\n",
        "model2.save(\"model2V2\")\n",
        "with open('trainHistory2DictV2', 'wb') as file_pi:\n",
        "    pickle.dump(history2.history, file_pi)"
      ]
    },
    {
      "cell_type": "code",
      "source": [
        "plt.plot(history2.history['accuracy'])\n",
        "plt.plot(history2.history['val_accuracy'])\n",
        "plt.title('model accuracy')\n",
        "plt.ylabel('accuracy')\n",
        "plt.xlabel('epoch')\n",
        "plt.legend(['train', 'val'], loc='upper left')\n",
        "plt.savefig(\"m2V2Accuracy.png\")\n",
        "plt.show()\n",
        "plt.clf()\n",
        "\n",
        "plt.plot(history2.history['loss'])\n",
        "plt.plot(history2.history['val_loss'])\n",
        "plt.title('model loss')\n",
        "plt.ylabel('loss')\n",
        "plt.xlabel('epoch')\n",
        "plt.legend(['train', 'val'], loc='upper left')\n",
        "plt.savefig(\"m2V2Loss.png\")\n",
        "plt.show()\n",
        "plt.clf()"
      ],
      "metadata": {
        "id": "BuIQDSeSBcAf",
        "colab": {
          "base_uri": "https://localhost:8080/",
          "height": 591
        },
        "outputId": "a1f49c44-b6a5-4ef7-9185-6110586e2855"
      },
      "execution_count": 50,
      "outputs": [
        {
          "output_type": "display_data",
          "data": {
            "text/plain": [
              "<Figure size 432x288 with 1 Axes>"
            ],
            "image/png": "[encoded data removed]"
          },
          "metadata": {
            "needs_background": "light"
          }
        },
        {
          "output_type": "display_data",
          "data": {
            "text/plain": [
              "<Figure size 432x288 with 1 Axes>"
            ],
            "image/png": "[encoded data removed]"
          },
          "metadata": {
            "needs_background": "light"
          }
        },
        {
          "output_type": "display_data",
          "data": {
            "text/plain": [
              "<Figure size 432x288 with 0 Axes>"
            ]
          },
          "metadata": {}
        }
      ]
    },
    {
      "cell_type": "code",
      "source": [
        "score, acc = model2.evaluate(X_test2, y_test2, batch_size=1)\n",
        "print('Test score:', score)\n",
        "print('Test accuracy:', acc)\n",
        "\n",
        "f = open('m2_V2_Metrics.txt','w') \n",
        "f.write(\"Test Score: \")\n",
        "f.write(str(score))\n",
        "f.write(\"\\n\\nTest Accuracy: \")\n",
        "f.write(str(acc))\n",
        "f.close()"
      ],
      "metadata": {
        "id": "KhaWtYu-Ktfw",
        "colab": {
          "base_uri": "https://localhost:8080/"
        },
        "outputId": "7b06f378-79c6-4fcd-eea6-9b4fdbf63337"
      },
      "execution_count": 51,
      "outputs": [
        {
          "output_type": "stream",
          "name": "stdout",
          "text": [
            "248/248 [==============================] - 0s 2ms/step - loss: 4.7759 - accuracy: 0.0565\n",
            "Test score: 4.775938510894775\n",
            "Test accuracy: 0.05645161122083664\n"
          ]
        }
      ]
    },
    {
      "cell_type": "markdown",
      "source": [
        "#Model 3 "
      ],
      "metadata": {
        "id": "GRHZB-w1D2SQ"
      }
    },
    {
      "cell_type": "code",
      "source": [
        "X_train3, X_test3, y_train3, y_test3 = train_test_split(AllFrames, Labels, test_size=0.05, random_state=42)"
      ],
      "metadata": {
        "id": "_Vwlx-QhBcrT"
      },
      "execution_count": 52,
      "outputs": []
    },
    {
      "cell_type": "code",
      "execution_count": 53,
      "metadata": {
        "id": "WUL2JRKaBcrU",
        "colab": {
          "base_uri": "https://localhost:8080/"
        },
        "outputId": "2f304d0f-b734-465d-c25b-781feab6888f"
      },
      "outputs": [
        {
          "output_type": "stream",
          "name": "stdout",
          "text": [
            "Epoch 1/100\n",
            "3154/3154 [==============================] - 12s 4ms/step - loss: 91.3875 - accuracy: 0.0476 - val_loss: 5.0611 - val_accuracy: 0.0515\n",
            "Epoch 2/100\n",
            "3154/3154 [==============================] - 12s 4ms/step - loss: 4.9659 - accuracy: 0.0510 - val_loss: 4.9728 - val_accuracy: 0.0515\n",
            "Epoch 3/100\n",
            "3154/3154 [==============================] - 12s 4ms/step - loss: 4.8843 - accuracy: 0.0520 - val_loss: 4.9294 - val_accuracy: 0.0515\n",
            "Epoch 4/100\n",
            "3154/3154 [==============================] - 12s 4ms/step - loss: 4.8412 - accuracy: 0.0520 - val_loss: 4.9120 - val_accuracy: 0.0515\n",
            "Epoch 5/100\n",
            "3154/3154 [==============================] - 12s 4ms/step - loss: 4.8198 - accuracy: 0.0510 - val_loss: 4.9067 - val_accuracy: 0.0515\n",
            "Epoch 6/100\n",
            "3154/3154 [==============================] - 12s 4ms/step - loss: 4.8090 - accuracy: 0.0520 - val_loss: 4.9079 - val_accuracy: 0.0515\n",
            "Epoch 7/100\n",
            "3154/3154 [==============================] - 12s 4ms/step - loss: 4.8032 - accuracy: 0.0488 - val_loss: 4.9096 - val_accuracy: 0.0515\n",
            "Epoch 8/100\n",
            "3154/3154 [==============================] - 12s 4ms/step - loss: 4.8003 - accuracy: 0.0520 - val_loss: 4.9122 - val_accuracy: 0.0515\n",
            "Epoch 9/100\n",
            "3154/3154 [==============================] - 12s 4ms/step - loss: 4.7984 - accuracy: 0.0520 - val_loss: 4.9151 - val_accuracy: 0.0515\n",
            "Epoch 10/100\n",
            "3154/3154 [==============================] - 12s 4ms/step - loss: 4.7973 - accuracy: 0.0520 - val_loss: 4.9178 - val_accuracy: 0.0515\n",
            "Epoch 11/100\n",
            "3154/3154 [==============================] - 12s 4ms/step - loss: 4.7966 - accuracy: 0.0520 - val_loss: 4.9202 - val_accuracy: 0.0515\n",
            "Epoch 12/100\n",
            "3154/3154 [==============================] - 12s 4ms/step - loss: 4.7965 - accuracy: 0.0520 - val_loss: 4.9225 - val_accuracy: 0.0515\n",
            "Epoch 13/100\n",
            "3154/3154 [==============================] - 12s 4ms/step - loss: 4.7963 - accuracy: 0.0520 - val_loss: 4.9243 - val_accuracy: 0.0515\n",
            "Epoch 14/100\n",
            "3154/3154 [==============================] - 12s 4ms/step - loss: 4.7961 - accuracy: 0.0520 - val_loss: 4.9256 - val_accuracy: 0.0515\n",
            "Epoch 15/100\n",
            "3154/3154 [==============================] - 12s 4ms/step - loss: 4.7960 - accuracy: 0.0520 - val_loss: 4.9270 - val_accuracy: 0.0515\n",
            "Epoch 16/100\n",
            "3154/3154 [==============================] - 12s 4ms/step - loss: 4.7960 - accuracy: 0.0479 - val_loss: 4.9278 - val_accuracy: 0.0515\n",
            "Epoch 17/100\n",
            "3154/3154 [==============================] - 12s 4ms/step - loss: 4.7962 - accuracy: 0.0520 - val_loss: 4.9293 - val_accuracy: 0.0515\n",
            "Epoch 18/100\n",
            "3154/3154 [==============================] - 12s 4ms/step - loss: 4.7961 - accuracy: 0.0517 - val_loss: 4.9298 - val_accuracy: 0.0515\n",
            "Epoch 19/100\n",
            "3154/3154 [==============================] - 12s 4ms/step - loss: 4.7960 - accuracy: 0.0517 - val_loss: 4.9303 - val_accuracy: 0.0515\n",
            "Epoch 20/100\n",
            "3154/3154 [==============================] - 12s 4ms/step - loss: 4.7961 - accuracy: 0.0514 - val_loss: 4.9309 - val_accuracy: 0.0515\n",
            "Epoch 21/100\n",
            "3154/3154 [==============================] - 12s 4ms/step - loss: 4.7965 - accuracy: 0.0485 - val_loss: 4.9316 - val_accuracy: 0.0515\n",
            "Epoch 22/100\n",
            "3154/3154 [==============================] - 12s 4ms/step - loss: 4.7964 - accuracy: 0.0520 - val_loss: 4.9326 - val_accuracy: 0.0515\n",
            "Epoch 23/100\n",
            "3154/3154 [==============================] - 12s 4ms/step - loss: 4.7965 - accuracy: 0.0520 - val_loss: 4.9333 - val_accuracy: 0.0515\n",
            "Epoch 24/100\n",
            "3154/3154 [==============================] - 12s 4ms/step - loss: 4.7965 - accuracy: 0.0520 - val_loss: 4.9335 - val_accuracy: 0.0515\n",
            "Epoch 25/100\n",
            "3154/3154 [==============================] - 12s 4ms/step - loss: 4.7965 - accuracy: 0.0520 - val_loss: 4.9335 - val_accuracy: 0.0515\n",
            "Epoch 26/100\n",
            "3154/3154 [==============================] - 12s 4ms/step - loss: 4.7967 - accuracy: 0.0510 - val_loss: 4.9336 - val_accuracy: 0.0515\n",
            "Epoch 27/100\n",
            "3154/3154 [==============================] - 12s 4ms/step - loss: 4.7965 - accuracy: 0.0517 - val_loss: 4.9339 - val_accuracy: 0.0515\n",
            "Epoch 28/100\n",
            "3154/3154 [==============================] - 12s 4ms/step - loss: 4.7966 - accuracy: 0.0520 - val_loss: 4.9346 - val_accuracy: 0.0515\n",
            "Epoch 29/100\n",
            "3154/3154 [==============================] - 12s 4ms/step - loss: 4.7967 - accuracy: 0.0517 - val_loss: 4.9341 - val_accuracy: 0.0515\n",
            "Epoch 30/100\n",
            "3154/3154 [==============================] - 12s 4ms/step - loss: 4.7968 - accuracy: 0.0504 - val_loss: 4.9349 - val_accuracy: 0.0515\n",
            "Epoch 31/100\n",
            "3154/3154 [==============================] - 12s 4ms/step - loss: 4.7967 - accuracy: 0.0520 - val_loss: 4.9353 - val_accuracy: 0.0515\n",
            "Epoch 32/100\n",
            "3154/3154 [==============================] - 12s 4ms/step - loss: 4.7966 - accuracy: 0.0517 - val_loss: 4.9358 - val_accuracy: 0.0515\n",
            "Epoch 33/100\n",
            "3154/3154 [==============================] - 12s 4ms/step - loss: 4.7967 - accuracy: 0.0520 - val_loss: 4.9363 - val_accuracy: 0.0515\n",
            "Epoch 34/100\n",
            "3154/3154 [==============================] - 12s 4ms/step - loss: 4.7968 - accuracy: 0.0507 - val_loss: 4.9362 - val_accuracy: 0.0515\n",
            "Epoch 35/100\n",
            "3154/3154 [==============================] - 12s 4ms/step - loss: 4.7969 - accuracy: 0.0520 - val_loss: 4.9365 - val_accuracy: 0.0515\n",
            "Epoch 36/100\n",
            "3154/3154 [==============================] - 12s 4ms/step - loss: 4.7968 - accuracy: 0.0520 - val_loss: 4.9364 - val_accuracy: 0.0515\n",
            "Epoch 37/100\n",
            "3154/3154 [==============================] - 12s 4ms/step - loss: 4.7968 - accuracy: 0.0520 - val_loss: 4.9365 - val_accuracy: 0.0515\n",
            "Epoch 38/100\n",
            "3154/3154 [==============================] - 12s 4ms/step - loss: 4.7969 - accuracy: 0.0520 - val_loss: 4.9366 - val_accuracy: 0.0515\n",
            "Epoch 39/100\n",
            "3154/3154 [==============================] - 12s 4ms/step - loss: 4.7967 - accuracy: 0.0495 - val_loss: 4.9368 - val_accuracy: 0.0515\n",
            "Epoch 40/100\n",
            "3154/3154 [==============================] - 12s 4ms/step - loss: 4.7968 - accuracy: 0.0520 - val_loss: 4.9369 - val_accuracy: 0.0515\n",
            "Epoch 41/100\n",
            "3154/3154 [==============================] - 12s 4ms/step - loss: 4.7969 - accuracy: 0.0498 - val_loss: 4.9371 - val_accuracy: 0.0515\n",
            "Epoch 42/100\n",
            "3154/3154 [==============================] - 12s 4ms/step - loss: 4.7967 - accuracy: 0.0520 - val_loss: 4.9371 - val_accuracy: 0.0515\n",
            "Epoch 43/100\n",
            "3154/3154 [==============================] - 12s 4ms/step - loss: 4.7970 - accuracy: 0.0520 - val_loss: 4.9372 - val_accuracy: 0.0515\n",
            "Epoch 44/100\n",
            "3154/3154 [==============================] - 12s 4ms/step - loss: 4.7968 - accuracy: 0.0514 - val_loss: 4.9370 - val_accuracy: 0.0515\n",
            "Epoch 45/100\n",
            "3154/3154 [==============================] - 12s 4ms/step - loss: 4.7969 - accuracy: 0.0510 - val_loss: 4.9373 - val_accuracy: 0.0515\n",
            "Epoch 46/100\n",
            "3154/3154 [==============================] - 12s 4ms/step - loss: 4.7969 - accuracy: 0.0520 - val_loss: 4.9376 - val_accuracy: 0.0515\n",
            "Epoch 47/100\n",
            "3154/3154 [==============================] - 12s 4ms/step - loss: 4.7970 - accuracy: 0.0479 - val_loss: 4.9374 - val_accuracy: 0.0515\n",
            "Epoch 48/100\n",
            "3154/3154 [==============================] - 12s 4ms/step - loss: 4.7969 - accuracy: 0.0520 - val_loss: 4.9375 - val_accuracy: 0.0515\n",
            "Epoch 49/100\n",
            "3154/3154 [==============================] - 12s 4ms/step - loss: 4.7968 - accuracy: 0.0514 - val_loss: 4.9376 - val_accuracy: 0.0515\n",
            "Epoch 50/100\n",
            "3154/3154 [==============================] - 12s 4ms/step - loss: 4.7970 - accuracy: 0.0495 - val_loss: 4.9382 - val_accuracy: 0.0515\n",
            "Epoch 51/100\n",
            "3154/3154 [==============================] - 12s 4ms/step - loss: 4.7970 - accuracy: 0.0520 - val_loss: 4.9379 - val_accuracy: 0.0515\n",
            "Epoch 52/100\n",
            "3154/3154 [==============================] - 12s 4ms/step - loss: 4.7969 - accuracy: 0.0510 - val_loss: 4.9376 - val_accuracy: 0.0515\n",
            "Epoch 53/100\n",
            "3154/3154 [==============================] - 12s 4ms/step - loss: 4.7971 - accuracy: 0.0504 - val_loss: 4.9380 - val_accuracy: 0.0515\n",
            "Epoch 54/100\n",
            "3154/3154 [==============================] - 12s 4ms/step - loss: 4.7970 - accuracy: 0.0520 - val_loss: 4.9383 - val_accuracy: 0.0515\n",
            "Epoch 55/100\n",
            "3154/3154 [==============================] - 12s 4ms/step - loss: 4.7969 - accuracy: 0.0520 - val_loss: 4.9383 - val_accuracy: 0.0515\n",
            "Epoch 56/100\n",
            "3154/3154 [==============================] - 12s 4ms/step - loss: 4.7971 - accuracy: 0.0520 - val_loss: 4.9381 - val_accuracy: 0.0515\n",
            "Epoch 57/100\n",
            "3154/3154 [==============================] - 12s 4ms/step - loss: 4.7969 - accuracy: 0.0520 - val_loss: 4.9379 - val_accuracy: 0.0515\n",
            "Epoch 58/100\n",
            "3154/3154 [==============================] - 12s 4ms/step - loss: 4.7971 - accuracy: 0.0520 - val_loss: 4.9383 - val_accuracy: 0.0515\n",
            "Epoch 59/100\n",
            "3154/3154 [==============================] - 12s 4ms/step - loss: 4.7971 - accuracy: 0.0520 - val_loss: 4.9383 - val_accuracy: 0.0515\n",
            "Epoch 60/100\n",
            "3154/3154 [==============================] - 12s 4ms/step - loss: 4.7971 - accuracy: 0.0520 - val_loss: 4.9387 - val_accuracy: 0.0515\n",
            "Epoch 61/100\n",
            "3154/3154 [==============================] - 12s 4ms/step - loss: 4.7972 - accuracy: 0.0520 - val_loss: 4.9391 - val_accuracy: 0.0515\n",
            "Epoch 62/100\n",
            "3154/3154 [==============================] - 12s 4ms/step - loss: 4.7972 - accuracy: 0.0520 - val_loss: 4.9390 - val_accuracy: 0.0515\n",
            "Epoch 63/100\n",
            "3154/3154 [==============================] - 12s 4ms/step - loss: 4.7971 - accuracy: 0.0517 - val_loss: 4.9388 - val_accuracy: 0.0515\n",
            "Epoch 64/100\n",
            "3154/3154 [==============================] - 12s 4ms/step - loss: 4.7970 - accuracy: 0.0520 - val_loss: 4.9388 - val_accuracy: 0.0515\n",
            "Epoch 65/100\n",
            "3154/3154 [==============================] - 12s 4ms/step - loss: 4.7971 - accuracy: 0.0520 - val_loss: 4.9387 - val_accuracy: 0.0515\n",
            "Epoch 66/100\n",
            "3154/3154 [==============================] - 12s 4ms/step - loss: 4.7971 - accuracy: 0.0507 - val_loss: 4.9387 - val_accuracy: 0.0515\n",
            "Epoch 67/100\n",
            "3154/3154 [==============================] - 12s 4ms/step - loss: 4.7971 - accuracy: 0.0520 - val_loss: 4.9393 - val_accuracy: 0.0515\n",
            "Epoch 68/100\n",
            "3154/3154 [==============================] - 12s 4ms/step - loss: 4.7972 - accuracy: 0.0507 - val_loss: 4.9393 - val_accuracy: 0.0515\n",
            "Epoch 69/100\n",
            "3154/3154 [==============================] - 12s 4ms/step - loss: 4.7971 - accuracy: 0.0520 - val_loss: 4.9392 - val_accuracy: 0.0515\n",
            "Epoch 70/100\n",
            "3154/3154 [==============================] - 12s 4ms/step - loss: 4.7970 - accuracy: 0.0520 - val_loss: 4.9393 - val_accuracy: 0.0515\n",
            "Epoch 71/100\n",
            "3154/3154 [==============================] - 12s 4ms/step - loss: 4.7972 - accuracy: 0.0520 - val_loss: 4.9391 - val_accuracy: 0.0515\n",
            "Epoch 72/100\n",
            "3154/3154 [==============================] - 12s 4ms/step - loss: 4.7972 - accuracy: 0.0507 - val_loss: 4.9389 - val_accuracy: 0.0515\n",
            "Epoch 73/100\n",
            "3154/3154 [==============================] - 12s 4ms/step - loss: 4.7972 - accuracy: 0.0517 - val_loss: 4.9389 - val_accuracy: 0.0515\n",
            "Epoch 74/100\n",
            "3154/3154 [==============================] - 12s 4ms/step - loss: 4.7971 - accuracy: 0.0520 - val_loss: 4.9392 - val_accuracy: 0.0515\n",
            "Epoch 75/100\n",
            "3154/3154 [==============================] - 12s 4ms/step - loss: 4.7970 - accuracy: 0.0495 - val_loss: 4.9391 - val_accuracy: 0.0515\n",
            "Epoch 76/100\n",
            "3154/3154 [==============================] - 12s 4ms/step - loss: 4.7971 - accuracy: 0.0504 - val_loss: 4.9393 - val_accuracy: 0.0515\n",
            "Epoch 77/100\n",
            "3154/3154 [==============================] - 12s 4ms/step - loss: 4.7971 - accuracy: 0.0520 - val_loss: 4.9392 - val_accuracy: 0.0515\n",
            "Epoch 78/100\n",
            "3154/3154 [==============================] - 12s 4ms/step - loss: 4.7971 - accuracy: 0.0520 - val_loss: 4.9389 - val_accuracy: 0.0515\n",
            "Epoch 79/100\n",
            "3154/3154 [==============================] - 12s 4ms/step - loss: 4.7972 - accuracy: 0.0520 - val_loss: 4.9387 - val_accuracy: 0.0515\n",
            "Epoch 80/100\n",
            "3154/3154 [==============================] - 12s 4ms/step - loss: 4.7972 - accuracy: 0.0517 - val_loss: 4.9387 - val_accuracy: 0.0515\n",
            "Epoch 81/100\n",
            "3154/3154 [==============================] - 12s 4ms/step - loss: 4.7969 - accuracy: 0.0520 - val_loss: 4.9388 - val_accuracy: 0.0515\n",
            "Epoch 82/100\n",
            "3154/3154 [==============================] - 12s 4ms/step - loss: 4.7973 - accuracy: 0.0520 - val_loss: 4.9388 - val_accuracy: 0.0515\n",
            "Epoch 83/100\n",
            "3154/3154 [==============================] - 12s 4ms/step - loss: 4.7971 - accuracy: 0.0514 - val_loss: 4.9386 - val_accuracy: 0.0515\n",
            "Epoch 84/100\n",
            "3154/3154 [==============================] - 12s 4ms/step - loss: 4.7971 - accuracy: 0.0520 - val_loss: 4.9387 - val_accuracy: 0.0515\n",
            "Epoch 85/100\n",
            "3154/3154 [==============================] - 12s 4ms/step - loss: 4.7971 - accuracy: 0.0520 - val_loss: 4.9385 - val_accuracy: 0.0515\n",
            "Epoch 86/100\n",
            "3154/3154 [==============================] - 12s 4ms/step - loss: 4.7971 - accuracy: 0.0520 - val_loss: 4.9387 - val_accuracy: 0.0515\n",
            "Epoch 87/100\n",
            "3154/3154 [==============================] - 12s 4ms/step - loss: 4.7973 - accuracy: 0.0476 - val_loss: 4.9390 - val_accuracy: 0.0515\n",
            "Epoch 88/100\n",
            "3154/3154 [==============================] - 12s 4ms/step - loss: 4.7971 - accuracy: 0.0520 - val_loss: 4.9389 - val_accuracy: 0.0515\n",
            "Epoch 89/100\n",
            "3154/3154 [==============================] - 12s 4ms/step - loss: 4.7973 - accuracy: 0.0507 - val_loss: 4.9393 - val_accuracy: 0.0515\n",
            "Epoch 90/100\n",
            "3154/3154 [==============================] - 12s 4ms/step - loss: 4.7972 - accuracy: 0.0501 - val_loss: 4.9389 - val_accuracy: 0.0515\n",
            "Epoch 91/100\n",
            "3154/3154 [==============================] - 12s 4ms/step - loss: 4.7972 - accuracy: 0.0498 - val_loss: 4.9388 - val_accuracy: 0.0515\n",
            "Epoch 92/100\n",
            "3154/3154 [==============================] - 12s 4ms/step - loss: 4.7971 - accuracy: 0.0520 - val_loss: 4.9389 - val_accuracy: 0.0515\n",
            "Epoch 93/100\n",
            "3154/3154 [==============================] - 12s 4ms/step - loss: 4.7972 - accuracy: 0.0514 - val_loss: 4.9391 - val_accuracy: 0.0515\n",
            "Epoch 94/100\n",
            "3154/3154 [==============================] - 12s 4ms/step - loss: 4.7972 - accuracy: 0.0520 - val_loss: 4.9392 - val_accuracy: 0.0515\n",
            "Epoch 95/100\n",
            "3154/3154 [==============================] - 12s 4ms/step - loss: 4.7972 - accuracy: 0.0520 - val_loss: 4.9392 - val_accuracy: 0.0515\n",
            "Epoch 96/100\n",
            "3154/3154 [==============================] - 12s 4ms/step - loss: 4.7972 - accuracy: 0.0520 - val_loss: 4.9392 - val_accuracy: 0.0515\n",
            "Epoch 97/100\n",
            "3154/3154 [==============================] - 12s 4ms/step - loss: 4.7972 - accuracy: 0.0520 - val_loss: 4.9391 - val_accuracy: 0.0515\n",
            "Epoch 98/100\n",
            "3154/3154 [==============================] - 12s 4ms/step - loss: 4.7971 - accuracy: 0.0463 - val_loss: 4.9391 - val_accuracy: 0.0515\n",
            "Epoch 99/100\n",
            "3154/3154 [==============================] - 12s 4ms/step - loss: 4.7970 - accuracy: 0.0520 - val_loss: 4.9387 - val_accuracy: 0.0515\n",
            "Epoch 100/100\n",
            "3154/3154 [==============================] - 12s 4ms/step - loss: 4.7971 - accuracy: 0.0520 - val_loss: 4.9390 - val_accuracy: 0.0515\n",
            "Model: \"sequential_18\"\n",
            "_________________________________________________________________\n",
            " Layer (type)                Output Shape              Param #   \n",
            "=================================================================\n",
            " conv2d_5 (Conv2D)           (None, 240, 320, 3)       84        \n",
            "                                                                 \n",
            " flatten_3 (Flatten)         (None, 230400)            0         \n",
            "                                                                 \n",
            " dense_47 (Dense)            (None, 128)               29491328  \n",
            "                                                                 \n",
            " dense_48 (Dense)            (None, 198)               25542     \n",
            "                                                                 \n",
            "=================================================================\n",
            "Total params: 29,516,954\n",
            "Trainable params: 29,516,954\n",
            "Non-trainable params: 0\n",
            "_________________________________________________________________\n"
          ]
        },
        {
          "output_type": "stream",
          "name": "stderr",
          "text": [
            "WARNING:absl:Found untraced functions such as _jit_compiled_convolution_op while saving (showing 1 of 1). These functions will not be directly callable after loading.\n"
          ]
        }
      ],
      "source": [
        "model3 = Sequential()\n",
        "model3.add(tf.keras.layers.Conv2D(3, 3, activation='relu', padding=\"same\", input_shape=(240, 320, 3)))\n",
        "model3.add(tf.keras.layers.Flatten())\n",
        "model3.add(tf.keras.layers.Dense(128, activation='relu'))\n",
        "model3.add(Dense(len(label_map1)))\n",
        "model3.compile(optimizer='adam',loss=tf.keras.losses.SparseCategoricalCrossentropy(from_logits=True), metrics=['accuracy'])\n",
        "history3 = model3.fit(np.array(X_train3), np.array(y_train3), validation_split=0.33, epochs=100, batch_size=1, verbose=1, shuffle=True)\n",
        "\n",
        "model3.summary()\n",
        "\n",
        "model3.save(\"model3V2\")\n",
        "with open('trainHistory3DictV2', 'wb') as file_pi:\n",
        "    pickle.dump(history3.history, file_pi)"
      ]
    },
    {
      "cell_type": "code",
      "source": [
        "plt.plot(history3.history['accuracy'])\n",
        "plt.plot(history3.history['val_accuracy'])\n",
        "plt.title('model accuracy')\n",
        "plt.ylabel('accuracy')\n",
        "plt.xlabel('epoch')\n",
        "plt.legend(['train', 'val'], loc='upper left')\n",
        "plt.savefig(\"m3V2Accuracy.png\")\n",
        "plt.show()\n",
        "plt.clf()\n",
        "\n",
        "plt.plot(history3.history['loss'])\n",
        "plt.plot(history3.history['val_loss'])\n",
        "plt.title('model loss')\n",
        "plt.ylabel('loss')\n",
        "plt.xlabel('epoch')\n",
        "plt.legend(['train', 'val'], loc='upper left')\n",
        "plt.savefig(\"m3V2Loss.png\")\n",
        "plt.show()\n",
        "plt.clf()"
      ],
      "metadata": {
        "id": "zTURMuswBcrU",
        "colab": {
          "base_uri": "https://localhost:8080/",
          "height": 591
        },
        "outputId": "352644fb-dfaf-40d9-cb4d-1058b5c2c3e4"
      },
      "execution_count": 56,
      "outputs": [
        {
          "output_type": "display_data",
          "data": {
            "text/plain": [
              "<Figure size 432x288 with 1 Axes>"
            ],
            "image/png": "[encoded data removed]"
          },
          "metadata": {
            "needs_background": "light"
          }
        },
        {
          "output_type": "display_data",
          "data": {
            "text/plain": [
              "<Figure size 432x288 with 1 Axes>"
            ],
            "image/png": "[encoded data removed]"
          },
          "metadata": {
            "needs_background": "light"
          }
        },
        {
          "output_type": "display_data",
          "data": {
            "text/plain": [
              "<Figure size 432x288 with 0 Axes>"
            ]
          },
          "metadata": {}
        }
      ]
    },
    {
      "cell_type": "code",
      "source": [
        "score, acc = model3.evaluate(np.array(X_test3), np.array(y_test3), batch_size=1)\n",
        "print('Test score:', score)\n",
        "print('Test accuracy:', acc)\n",
        "\n",
        "f = open('m3_V2_Metrics.txt','w') \n",
        "f.write(\"Test Score: \")\n",
        "f.write(str(score))\n",
        "f.write(\"\\n\\nTest Accuracy: \")\n",
        "f.write(str(acc))\n",
        "f.close()"
      ],
      "metadata": {
        "id": "mHYPrt-zKzDc",
        "colab": {
          "base_uri": "https://localhost:8080/"
        },
        "outputId": "eef8906b-452a-4746-8a4f-f41a88f316e0"
      },
      "execution_count": 60,
      "outputs": [
        {
          "output_type": "stream",
          "name": "stdout",
          "text": [
            "248/248 [==============================] - 1s 2ms/step - loss: 4.7765 - accuracy: 0.0565\n",
            "Test score: 4.776505470275879\n",
            "Test accuracy: 0.05645161122083664\n"
          ]
        }
      ]
    },
    {
      "cell_type": "code",
      "source": [
        "!zip -r /content/m1V2.zip /content/model1V2\n",
        "!zip -r /content/m2V2.zip /content/model2V2\n",
        "!zip -r /content/m3V2.zip /content/model3V2"
      ],
      "metadata": {
        "id": "WdisTR9PxiRQ",
        "colab": {
          "base_uri": "https://localhost:8080/"
        },
        "outputId": "c82c5ede-df51-410e-d0ce-b0c6d07b3bb9"
      },
      "execution_count": 61,
      "outputs": [
        {
          "output_type": "stream",
          "name": "stdout",
          "text": [
            "  adding: content/model1V2/ (stored 0%)\n",
            "  adding: content/model1V2/variables/ (stored 0%)\n",
            "  adding: content/model1V2/variables/variables.index (deflated 64%)\n",
            "  adding: content/model1V2/variables/variables.data-00000-of-00001 (deflated 12%)\n",
            "  adding: content/model1V2/assets/ (stored 0%)\n",
            "  adding: content/model1V2/saved_model.pb (deflated 88%)\n",
            "  adding: content/model1V2/keras_metadata.pb (deflated 87%)\n",
            "  adding: content/model2V2/ (stored 0%)\n",
            "  adding: content/model2V2/variables/ (stored 0%)\n",
            "  adding: content/model2V2/variables/variables.index (deflated 65%)\n",
            "  adding: content/model2V2/variables/variables.data-00000-of-00001 (deflated 69%)\n",
            "  adding: content/model2V2/assets/ (stored 0%)\n",
            "  adding: content/model2V2/saved_model.pb (deflated 88%)\n",
            "  adding: content/model2V2/keras_metadata.pb (deflated 87%)\n",
            "  adding: content/model3V2/ (stored 0%)\n",
            "  adding: content/model3V2/variables/ (stored 0%)\n",
            "  adding: content/model3V2/variables/variables.index (deflated 63%)\n",
            "  adding: content/model3V2/variables/variables.data-00000-of-00001 (deflated 69%)\n",
            "  adding: content/model3V2/assets/ (stored 0%)\n",
            "  adding: content/model3V2/saved_model.pb (deflated 88%)\n",
            "  adding: content/model3V2/keras_metadata.pb (deflated 87%)\n"
          ]
        }
      ]
    },
    {
      "cell_type": "code",
      "source": [
        "files.download(\"/content/m1V2Accuracy.png\")\n",
        "files.download(\"/content/m2V2Accuracy.png\")\n",
        "files.download(\"/content/m3V2Accuracy.png\")\n",
        "files.download(\"/content/m1V2Loss.png\")\n",
        "files.download(\"/content/m2V2Loss.png\")\n",
        "files.download(\"/content/m3V2Loss.png\")\n",
        "files.download(\"/content/m1_V2_Metrics.txt\")\n",
        "files.download(\"/content/m2_V2_Metrics.txt\")\n",
        "files.download(\"/content/m3_V2_Metrics.txt\")\n",
        "files.download(\"/content/m1V2.zip\")\n",
        "files.download(\"/content/m2V2.zip\")\n",
        "files.download(\"/content/m3V2.zip\")"
      ],
      "metadata": {
        "id": "nE4AG1LCK9Cn"
      },
      "execution_count": null,
      "outputs": []
    }
  ]
}